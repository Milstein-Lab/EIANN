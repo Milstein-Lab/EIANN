{
 "cells": [
  {
   "cell_type": "code",
   "execution_count": null,
   "outputs": [],
   "source": [
    "import torch\n",
    "import torch.nn as nn\n",
    "import numpy as np\n",
    "from universalNet import universalNet\n",
    "from universalNet_utils import n_hot_patterns\n",
    "import matplotlib.pyplot as plt"
   ],
   "metadata": {
    "collapsed": false,
    "pycharm": {
     "name": "#%%\n"
    }
   }
  },
  {
   "cell_type": "code",
   "execution_count": null,
   "outputs": [],
   "source": [
    "# Initialize network\n",
    "hparams = {'seed': 42,\n",
    "           'dales_law': True}\n",
    "\n",
    "params_dict = {'layer0': \n",
    "                   {'E': {'n': 7}\n",
    "                   },\n",
    "               'layer1':\n",
    "                   {'E': {'n': 21,\n",
    "                          'activation': 'softplus',\n",
    "                          'bias': True,\n",
    "                          'bias_rule': 'backprop',\n",
    "                          'tau': 2,\n",
    "                          'inputs': {'layer0.E': {'distribution': 'uniform',\n",
    "                                                  'bounds': (0,1),\n",
    "                                                  'direction': 'FF',\n",
    "                                                  'learning_rule': 'backprop'},\n",
    "#                                      'layer1.I': {'bounds': (-1,0),\n",
    "#                                                   'direction': 'FB'}\n",
    "                                    }\n",
    "                         },\n",
    "#                     'I': {'n': 1,\n",
    "#                           'inputs':{'layer1.E': {'bounds': (0,1)}\n",
    "#                                    }\n",
    "#                          }\n",
    "                   }\n",
    "              }\n",
    "\n",
    "model = universalNet(params_dict, **hparams)"
   ],
   "metadata": {
    "collapsed": false,
    "pycharm": {
     "name": "#%%\n"
    }
   }
  },
  {
   "cell_type": "code",
   "execution_count": null,
   "outputs": [],
   "source": [
    "# Train network\n",
    "all_patterns = n_hot_patterns(n=2,length=7)\n",
    "all_targets = torch.eye(21)\n",
    "\n",
    "model.train(num_epochs = 100,\n",
    "            all_patterns = all_patterns,\n",
    "            all_targets = all_targets,\n",
    "            lr = 0.01,\n",
    "            num_timesteps = 8,\n",
    "            num_BPTT_steps = 8,\n",
    "            plot = True)"
   ],
   "metadata": {
    "collapsed": false,
    "pycharm": {
     "name": "#%%\n"
    }
   }
  }
 ],
 "metadata": {
  "kernelspec": {
   "display_name": "Python 3",
   "language": "python",
   "name": "python3"
  },
  "language_info": {
   "codemirror_mode": {
    "name": "ipython",
    "version": 3
   },
   "file_extension": ".py",
   "mimetype": "text/x-python",
   "name": "python",
   "nbconvert_exporter": "python",
   "pygments_lexer": "ipython3",
   "version": "3.8.5"
  }
 },
 "nbformat": 4,
 "nbformat_minor": 4
}