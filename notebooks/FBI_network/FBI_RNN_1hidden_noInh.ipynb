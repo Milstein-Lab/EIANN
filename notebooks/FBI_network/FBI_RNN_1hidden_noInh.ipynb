{
 "cells": [
  {
   "cell_type": "code",
   "execution_count": 1,
   "metadata": {},
   "outputs": [],
   "source": [
    "import torch\n",
    "import torch.nn as nn\n",
    "import torch.nn.functional as F\n",
    "\n",
    "import itertools\n",
    "import numpy as np\n",
    "from tqdm import tqdm\n",
    "\n",
    "import matplotlib.pyplot as plt\n",
    "plt.rcParams.update({'font.size': 15})\n",
    "import seaborn as sns"
   ]
  },
  {
   "cell_type": "code",
   "execution_count": 8,
   "metadata": {},
   "outputs": [
    {
     "data": {
      "image/png": "[encoded data removed]",
      "text/plain": [
       "<Figure size 432x288 with 1 Axes>"
      ]
     },
     "metadata": {
      "needs_background": "light"
     },
     "output_type": "display_data"
    },
    {
     "name": "stdout",
     "output_type": "stream",
     "text": [
      "zero input: tensor(0.1733)\n"
     ]
    }
   ],
   "source": [
    "a = torch.linspace(-2,2,100)\n",
    "plt.plot(a,F.softplus(a,beta=4),color='blue',label='Softplus')\n",
    "plt.plot(a,F.relu(a),color='red',label='ELU')\n",
    "plt.title('ELU vs Softplus activation')\n",
    "plt.legend()\n",
    "sns.despine()\n",
    "plt.show()\n",
    "\n",
    "print(\"zero input:\",F.softplus(torch.tensor(0.),beta=4))"
   ]
  },
  {
   "cell_type": "code",
   "execution_count": 3,
   "metadata": {},
   "outputs": [
    {
     "name": "stdout",
     "output_type": "stream",
     "text": [
      "21\n"
     ]
    },
    {
     "data": {
      "text/plain": [
       "tensor([[0., 0., 1., 1.],\n",
       "        [0., 1., 0., 1.],\n",
       "        [0., 1., 1., 0.],\n",
       "        [1., 0., 0., 1.],\n",
       "        [1., 0., 1., 0.],\n",
       "        [1., 1., 0., 0.]])"
      ]
     },
     "execution_count": 3,
     "metadata": {},
     "output_type": "execute_result"
    }
   ],
   "source": [
    "def n_choose_k(n,k):\n",
    "    num_permutations = np.math.factorial(n) / (np.math.factorial(k)*np.math.factorial(n-k))\n",
    "    return int(num_permutations)\n",
    "\n",
    "def n_hot_patterns(n,length):\n",
    "    all_permutations = torch.tensor(list(itertools.product([0., 1.], repeat=length)))\n",
    "    pattern_hotness = torch.sum(all_permutations,axis=1)\n",
    "    idx = torch.where(pattern_hotness == n)[0]\n",
    "    n_hot_patterns = all_permutations[idx]\n",
    "    return n_hot_patterns\n",
    "\n",
    "print(n_choose_k(7,2))\n",
    "n_hot_patterns(n=2,length=4)"
   ]
  },
  {
   "cell_type": "code",
   "execution_count": 110,
   "metadata": {},
   "outputs": [],
   "source": [
    "class FBI_RNN(nn.Module):\n",
    "    def __init__(self, input_size, hidden_size, output_size):\n",
    "        super().__init__()\n",
    "        self.in_size = input_size\n",
    "        self.hidden_size = hidden_size \n",
    "        self.output_size = output_size \n",
    "        \n",
    "        # Hidden weights\n",
    "        self.in2hidden = nn.Linear(self.in_size, self.hidden_size, bias=False)\n",
    "        self.in2hidden.weight.data.uniform_(0,1)\n",
    "\n",
    "        # Output weights\n",
    "        self.hidden2output = nn.Linear(self.hidden_size, self.output_size, bias=False)\n",
    "        self.hidden2output.weight.data.uniform_(0,1)\n",
    "        \n",
    "\n",
    "    def forward(self, input_pattern, act_sharpness=4):\n",
    "        \n",
    "        hidden = self.in2hidden(input_pattern)\n",
    "        hidden = F.softplus(hidden, beta=act_sharpness)\n",
    "\n",
    "        output = self.hidden2output(hidden)\n",
    "        output = F.softplus(output, beta=act_sharpness)\n",
    "\n",
    "        return output, hidden\n",
    "    \n",
    "        \n",
    "    def train(self, num_epochs, all_patterns, learning_rate):\n",
    "        \n",
    "        optimizer = torch.optim.Adam(self.parameters(), lr=learning_rate)\n",
    "        criterion = nn.MSELoss()\n",
    "        num_patterns = all_patterns.shape[0]\n",
    "        \n",
    "        hidden_history = torch.zeros(self.hidden_size, num_patterns, num_epochs)\n",
    "        output_history = torch.zeros(self.output_size, num_patterns, num_epochs)\n",
    "        loss_history = []\n",
    "        \n",
    "        for epoch in tqdm(range(num_epochs)):\n",
    "            for pattern_idx in torch.randperm(num_patterns):\n",
    "                \n",
    "                input_pattern = all_patterns[pattern_idx]\n",
    "                target  = torch.eye(self.output_size)[pattern_idx]\n",
    "                \n",
    "                output, hidden = self.forward(input_pattern)\n",
    "\n",
    "#                 loss = criterion(output, target)\n",
    "                non_target_idx = [x for x in range(21) if x!=pattern_idx]\n",
    "                non_target_loss = torch.mean(output[non_target_idx]**2)\n",
    "                target_loss = 1/(output[pattern_idx]+0.01)\n",
    "                loss = target_loss + non_target_loss\n",
    "            \n",
    "                optimizer.zero_grad()\n",
    "                loss.backward()\n",
    "                optimizer.step()\n",
    "                \n",
    "                # Recrify the weights\n",
    "                self.in2hidden.weight.data = self.in2hidden.weight.data.clamp(0,100)\n",
    "                self.hidden2output.weight.data = self.hidden2output.weight.data.clamp(0,100)\n",
    "                        \n",
    "                loss_history.append(loss.detach())   \n",
    "                output_history[:,pattern_idx,epoch] = output.detach()\n",
    "                hidden_history[:,pattern_idx,epoch] = hidden.detach()\n",
    "     \n",
    "        return output_history, hidden_history, torch.tensor(loss_history)\n",
    "    "
   ]
  },
  {
   "cell_type": "code",
   "execution_count": 111,
   "metadata": {},
   "outputs": [],
   "source": [
    "# torch.manual_seed(42)\n",
    "\n",
    "# Initialize RNN\n",
    "input_size = 21\n",
    "hidden_size = 7\n",
    "output_size = 21\n",
    "\n",
    "model = FBI_RNN(input_size, hidden_size, output_size)"
   ]
  },
  {
   "cell_type": "code",
   "execution_count": 112,
   "metadata": {},
   "outputs": [
    {
     "name": "stderr",
     "output_type": "stream",
     "text": [
      "100%|██████████| 10000/10000 [01:54<00:00, 87.21it/s]\n"
     ]
    },
    {
     "data": {
      "image/png": "[encoded data removed]",
      "text/plain": [
       "<Figure size 432x288 with 1 Axes>"
      ]
     },
     "metadata": {
      "needs_background": "light"
     },
     "output_type": "display_data"
    }
   ],
   "source": [
    "# Train network\n",
    "num_epochs = 10**4\n",
    "lr = 0.0001\n",
    "\n",
    "all_patterns = torch.eye(output_size)\n",
    "\n",
    "output_history, hidden_history, loss_history = model.train(num_epochs, all_patterns, lr)\n",
    "\n",
    "plt.plot(loss_history)\n",
    "plt.xlabel('Gradient steps')\n",
    "plt.ylabel('Loss')\n",
    "plt.ylim([0,torch.max(loss_history)])\n",
    "plt.title('learning curve',fontsize=20)\n",
    "\n",
    "sns.despine()\n",
    "plt.show()"
   ]
  },
  {
   "cell_type": "code",
   "execution_count": 113,
   "metadata": {},
   "outputs": [
    {
     "data": {
      "image/png": "[encoded data removed]",
      "text/plain": [
       "<Figure size 1080x324 with 6 Axes>"
      ]
     },
     "metadata": {
      "needs_background": "light"
     },
     "output_type": "display_data"
    }
   ],
   "source": [
    "def plot_activity(epoch = -1):\n",
    "    fig, ax = plt.subplots(1,3,figsize=(15,4.5))\n",
    "    axis = 0\n",
    "    im = ax[axis].imshow(all_patterns,aspect='equal',vmin=0)\n",
    "    plt.colorbar(im, ax=ax[axis])\n",
    "    ax[axis].set_xlabel('pattern')\n",
    "    ax[axis].set_ylabel('input unit')\n",
    "\n",
    "    axis = 1\n",
    "    im = ax[axis].imshow(output_history[:,:,epoch],aspect='equal',vmin=0)\n",
    "    plt.colorbar(im, ax=ax[axis])\n",
    "    ax[axis].set_xlabel('pattern')\n",
    "    ax[axis].set_ylabel('output unit')\n",
    "\n",
    "    axis = 2\n",
    "    im = ax[axis].imshow(hidden_history[:,:,epoch],aspect='equal')\n",
    "    plt.colorbar(im, ax=ax[axis])\n",
    "    ax[axis].set_xlabel('pattern')\n",
    "    ax[axis].set_ylabel('hidden E unit')\n",
    "\n",
    "    plt.suptitle(f\"Unit activities, epoch = {epoch}\",fontsize=20)\n",
    "    plt.tight_layout()\n",
    "    plt.show()\n",
    "    \n",
    "plot_activity(-1)"
   ]
  },
  {
   "cell_type": "code",
   "execution_count": 93,
   "metadata": {},
   "outputs": [],
   "source": [
    "import ipywidgets as widgets\n",
    "# widgets.interact(plot_activity, epoch=widgets.Play(min=1,max=80));"
   ]
  },
  {
   "cell_type": "code",
   "execution_count": null,
   "metadata": {
    "scrolled": true
   },
   "outputs": [],
   "source": [
    "import ipywidgets as widgets\n",
    "\n",
    "def plot_learning_activity(epoch):\n",
    "    epoch = epoch*10\n",
    "    time = -1\n",
    "\n",
    "    fig, ax = plt.subplots(2,3,figsize=(15,4.5))\n",
    "    axis = 0,0\n",
    "    im = ax[axis].imshow(all_patterns.T,aspect='equal')\n",
    "    plt.colorbar(im, ax=ax[axis])\n",
    "    ax[axis].set_xlabel('pattern')\n",
    "    ax[axis].set_ylabel('input unit')\n",
    "\n",
    "    axis = 0,1\n",
    "    im = ax[axis].imshow(output_history[:,time,:,epoch],aspect='equal')\n",
    "    plt.colorbar(im, ax=ax[axis])\n",
    "    ax[axis].set_xlabel('pattern')\n",
    "    ax[axis].set_ylabel('output unit')\n",
    "\n",
    "    axis = 0,2\n",
    "    im = ax[axis].imshow(fbi_history[:,time,:,epoch],aspect='equal')\n",
    "    plt.colorbar(im, ax=ax[axis])\n",
    "    ax[axis].set_xlabel('pattern')\n",
    "    ax[axis].set_ylabel('fbi unit')\n",
    "\n",
    "    ax[1,0].axis('off')\n",
    "\n",
    "    axis = 1,1\n",
    "    im = ax[axis].imshow(hidden_history[:,time,:,epoch],aspect='equal')\n",
    "    plt.colorbar(im, ax=ax[axis])\n",
    "    ax[axis].set_xlabel('pattern')\n",
    "    ax[axis].set_ylabel('hidden E unit')\n",
    "\n",
    "    axis = 1,2\n",
    "    im = ax[axis].imshow(hidden_inh_history[:,time,:,epoch],aspect='equal')\n",
    "    plt.colorbar(im, ax=ax[axis])\n",
    "    ax[axis].set_xlabel('pattern')\n",
    "    ax[axis].set_ylabel('hidden I unit')\n",
    "\n",
    "    plt.suptitle(\"Unit activities\",fontsize=20)\n",
    "    plt.tight_layout()\n",
    "    plt.show()\n",
    "\n",
    "widgets.interact(plot_learning_activity, epoch=(0,99,1));\n",
    "# widgets.interact(plot_activity, epoch=widgets.Play(min=1,max=80));"
   ]
  },
  {
   "cell_type": "code",
   "execution_count": null,
   "metadata": {},
   "outputs": [],
   "source": [
    "def plot_oscillation(epoch):\n",
    "    \n",
    "    if epoch > -1:\n",
    "        epoch = epoch*10\n",
    "    \n",
    "    fig, ax = plt.subplots(2,2,figsize=(15,4.5))\n",
    "    axis = 0,0\n",
    "    for i in range(model.Eo_size):\n",
    "        ax[axis].plot(torch.mean(output_history[i,:,:,epoch],axis=1),color='gray',alpha=0.3)\n",
    "    ax[axis].set_xlabel('timestep')\n",
    "    ax[axis].set_ylabel('unit activity')\n",
    "    ax[axis].set_title('Output units')\n",
    "    ax[axis].set_ylim(bottom=0)\n",
    "\n",
    "\n",
    "    axis = 1,0\n",
    "    for i in range(model.Eh_size):\n",
    "        ax[axis].plot(torch.mean(hidden_history[i,:,:,epoch],axis=1),color='gray',alpha=0.3)\n",
    "    ax[axis].set_xlabel('timestep')\n",
    "    ax[axis].set_ylabel('unit activity')\n",
    "    ax[axis].set_title('Hidden E units')\n",
    "    ax[axis].set_ylim(bottom=0)\n",
    "\n",
    "    plt.suptitle(f\"Unit dynamics over RNN steps, BPTT={num_BPTT_steps}, optimize={eval_step} \",fontsize=20)\n",
    "\n",
    "    sns.despine()\n",
    "    plt.tight_layout()\n",
    "    plt.show()\n",
    "    \n",
    "\n",
    "plot_oscillation(-1)"
   ]
  },
  {
   "cell_type": "code",
   "execution_count": null,
   "metadata": {},
   "outputs": [],
   "source": [
    "import ipywidgets as widgets\n",
    "widgets.interact(plot_oscillation, epoch=(0,99,1));\n",
    "# widgets.interact(plot_oscillation, epoch=widgets.Play(min=1,max=50));"
   ]
  },
  {
   "cell_type": "code",
   "execution_count": null,
   "metadata": {},
   "outputs": [],
   "source": [
    "import matplotlib.gridspec as gs\n",
    "\n",
    "fig = plt.figure(figsize=(15, 6))\n",
    "axes = gs.GridSpec(nrows=3, ncols=3)\n",
    "#                    left=0.05,right=0.98,\n",
    "#                    top = 0.95, bottom = 0.2,\n",
    "#                    wspace=0.8, hspace=1.2)\n",
    "\n",
    "\n",
    "\n",
    "# Hidden weights\n",
    "ax = fig.add_subplot(axes[0,0])\n",
    "im = ax.imshow(model.in2Eh.weight.data,aspect='equal')\n",
    "plt.colorbar(im, ax=ax)\n",
    "ax.set_xlabel('input unit')\n",
    "ax.set_ylabel('Hidden unit')\n",
    "ax.set_title('in2hidden',fontsize=15)\n",
    "\n",
    "\n",
    "ax = fig.add_subplot(axes[0,1])\n",
    "im = ax.imshow(model.Eh2Ih.weight.data.T,aspect='equal')\n",
    "plt.colorbar(im, ax=ax)\n",
    "ax.set_ylabel('Hidden unit')\n",
    "ax.set_xlabel('Ih unit')\n",
    "ax.set_title('hidden2inh',fontsize=15)\n",
    "ax.get_xaxis().set_visible(False)\n",
    "\n",
    "ax = fig.add_subplot(axes[0,2])\n",
    "im = ax.imshow(model.Ih2Eh.weight.data,aspect='equal')\n",
    "plt.colorbar(im, ax=ax)\n",
    "ax.set_xlabel('Ih unit')\n",
    "ax.set_ylabel('hidden unit')\n",
    "ax.set_title('inh2hidden',fontsize=15)\n",
    "ax.get_xaxis().set_visible(False)\n",
    "\n",
    "\n",
    "# Output weights\n",
    "ax = fig.add_subplot(axes[1:3,0])\n",
    "im = ax.imshow(model.Eh2Eo.weight.data,aspect='equal')\n",
    "plt.colorbar(im, ax=ax)\n",
    "ax.set_xlabel('hidden unit')\n",
    "ax.set_ylabel('output unit')\n",
    "ax.set_title('hidden2out',fontsize=15)\n",
    "\n",
    "ax = fig.add_subplot(axes[1,1])\n",
    "im = ax.imshow(model.Eo2Io.weight.data.T,aspect='equal')\n",
    "plt.colorbar(im, ax=ax)\n",
    "ax.set_ylabel('output unit')\n",
    "ax.set_xlabel('Io unit')\n",
    "ax.set_title('out2fbi',fontsize=15)\n",
    "ax.get_xaxis().set_visible(False)\n",
    "\n",
    "ax = fig.add_subplot(axes[1,2])\n",
    "im = ax.imshow(model.Io2Eo.weight.data, aspect='equal')\n",
    "plt.colorbar(im, ax=ax)\n",
    "ax.set_xlabel('Io unit')\n",
    "ax.set_ylabel('output unit')\n",
    "ax.set_title('fbi2out',fontsize=15)\n",
    "ax.get_xaxis().set_visible(False)\n",
    "\n",
    "plt.tight_layout()\n",
    "plt.show()"
   ]
  },
  {
   "cell_type": "code",
   "execution_count": null,
   "metadata": {},
   "outputs": [],
   "source": [
    "from scipy import stats\n",
    "\n",
    "x = model.Eo2Io.weight.data.T.flatten()\n",
    "y = model.Io2Eo.weight.data.flatten()\n",
    "\n",
    "plt.scatter(x,y)\n",
    "plt.xlabel('out2fbi weights')\n",
    "plt.ylabel('fbi2out weights')\n",
    "\n",
    "\n",
    "\n",
    "m, b = np.polyfit(x, y, 1)\n",
    "x_fit = np.linspace(-1,1.5,2)\n",
    "y_fit = m*x_fit + b\n",
    "plt.plot(x_fit, y_fit, c='red')\n",
    "# print('Linear regression: y = {} x + {}'.format(m,b))\n",
    "\n",
    "plt.title(f\"T={num_timesteps}, BPTT={num_BPTT_steps}\")\n",
    "\n",
    "sns.despine()\n",
    "plt.show()\n",
    "\n",
    "r_val, p_val = stats.pearsonr(x, y)\n",
    "print('Pearson correlation: r={}, r^2={}, p={}'.format(r_val,r_val**2,p_val))"
   ]
  },
  {
   "cell_type": "code",
   "execution_count": null,
   "metadata": {},
   "outputs": [],
   "source": []
  },
  {
   "cell_type": "code",
   "execution_count": null,
   "metadata": {},
   "outputs": [],
   "source": []
  }
 ],
 "metadata": {
  "kernelspec": {
   "display_name": "Python 3",
   "language": "python",
   "name": "python3"
  },
  "language_info": {
   "codemirror_mode": {
    "name": "ipython",
    "version": 3
   },
   "file_extension": ".py",
   "mimetype": "text/x-python",
   "name": "python",
   "nbconvert_exporter": "python",
   "pygments_lexer": "ipython3",
   "version": "3.8.5"
  }
 },
 "nbformat": 4,
 "nbformat_minor": 4
}
