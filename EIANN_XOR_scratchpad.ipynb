{
 "cells": [
  {
   "cell_type": "code",
   "execution_count": null,
   "metadata": {
    "pycharm": {
     "name": "#%%\n"
    }
   },
   "outputs": [],
   "source": [
    "%matplotlib notebook\n",
    "from EIANN_utils import *\n",
    "import matplotlib.pyplot as plt"
   ]
  },
  {
   "cell_type": "code",
   "execution_count": null,
   "metadata": {},
   "outputs": [],
   "source": [
    "input_size = 2\n",
    "dataset = torch.tensor([[0.,0.],[0.,1.],[1.,0.],[1.,1.]])\n",
    "target = torch.tensor([[0.,0.],[1.,0.],[1.,0.],[0.,1.]])\n",
    "\n",
    "epochs=300"
   ]
  },
  {
   "cell_type": "markdown",
   "metadata": {},
   "source": [
    "Backprop as RNN (softplus)"
   ]
  },
  {
   "cell_type": "code",
   "execution_count": null,
   "metadata": {
    "scrolled": true
   },
   "outputs": [],
   "source": [
    "layer_config = {'Input':\n",
    "                      {'E': \n",
    "                           {'size': 2}}, \n",
    "                'Output': \n",
    "                      {'E': \n",
    "                           {'size': 2, \n",
    "                            'activation': 'softplus', \n",
    "                            'activation_kwargs': \n",
    "                                {'beta': 4.}, \n",
    "                            'include_bias': True,\n",
    "                            'learn_bias': True\n",
    "                           }\n",
    "                      }\n",
    "                 }\n",
    "\n",
    "projection_config = {'Output': \n",
    "                         {'E': \n",
    "                              {'Input': \n",
    "                                   {'E': \n",
    "                                        {'direction': 'FF', \n",
    "                                         'learning_rule': 'backprop'\n",
    "                                        }\n",
    "                                   },\n",
    "                               'Output': \n",
    "                                   {'E': \n",
    "                                        {'direction': 'FB', \n",
    "                                         'learning_rule': 'backprop'\n",
    "                                        }\n",
    "                                   }\n",
    "                              }\n",
    "                         }\n",
    "                    }\n",
    "\n",
    "hyperparameter_kwargs = {'tau': 3,\n",
    "                         'forward_steps': 10,\n",
    "                         'backward_steps': 2,\n",
    "                         'learning_rate': 0.3,\n",
    "                         'seed': 42\n",
    "                        }\n",
    "\n",
    "network = EIANN(layer_config, projection_config, **hyperparameter_kwargs)\n",
    "test_EIANN_config(network, dataset, target, epochs)"
   ]
  },
  {
   "cell_type": "markdown",
   "metadata": {},
   "source": [
    "Backprop as RNN (relu)"
   ]
  },
  {
   "cell_type": "code",
   "execution_count": null,
   "metadata": {
    "scrolled": true
   },
   "outputs": [],
   "source": [
    "layer_config = {'Input':\n",
    "                      {'E': \n",
    "                           {'size': 2}}, \n",
    "                'Output': \n",
    "                      {'E': \n",
    "                           {'size': 2, \n",
    "                            'activation': 'relu',\n",
    "                            'include_bias': True,\n",
    "                            'learn_bias': True\n",
    "                           }\n",
    "                      }\n",
    "                 }\n",
    "\n",
    "projection_config = {'Output': \n",
    "                         {'E': \n",
    "                              {'Input': \n",
    "                                   {'E': \n",
    "                                        {'direction': 'FF', \n",
    "                                         'learning_rule': 'backprop'\n",
    "                                        }\n",
    "                                   },\n",
    "                               'Output': \n",
    "                                   {'E': \n",
    "                                        {'direction': 'FB', \n",
    "                                         'learning_rule': 'backprop'\n",
    "                                        }\n",
    "                                   }\n",
    "                              }\n",
    "                         }\n",
    "                    }\n",
    "\n",
    "hyperparameter_kwargs = {'tau': 3,\n",
    "                         'forward_steps': 10,\n",
    "                         'backward_steps': 2,\n",
    "                         'learning_rate': 0.3,\n",
    "                         'seed': 42\n",
    "                        }\n",
    "\n",
    "network = EIANN(layer_config, projection_config, **hyperparameter_kwargs)\n",
    "test_EIANN_config(network, dataset, target, epochs)"
   ]
  },
  {
   "cell_type": "markdown",
   "metadata": {},
   "source": [
    "Backprop w/inhibition (softplus)"
   ]
  },
  {
   "cell_type": "code",
   "execution_count": null,
   "metadata": {
    "scrolled": true
   },
   "outputs": [],
   "source": [
    "layer_config = {'Input': \n",
    "                      {'E': \n",
    "                           {'size': 2}}, \n",
    "                'Output': \n",
    "                      {'E': \n",
    "                           {'size': 2, \n",
    "                            'activation': 'softplus', \n",
    "                            'activation_kwargs': \n",
    "                                {'beta': 4.}, \n",
    "                            'include_bias': True,\n",
    "                            'learn_bias': True\n",
    "                           },\n",
    "                       'FBI': \n",
    "                            {'size': 1, \n",
    "                            'activation': 'softplus', \n",
    "                            'activation_kwargs': \n",
    "                                {'beta': 4.}, \n",
    "                            'include_bias': False\n",
    "                            }\n",
    "                      }\n",
    "                 }\n",
    "\n",
    "projection_config = {'Output': \n",
    "                         {'E': \n",
    "                              {'Input': \n",
    "                                   {'E': \n",
    "                                        {'weight_bounds': (0, None), \n",
    "                                         'direction': 'FF', \n",
    "                                         'learning_rule': 'backprop'\n",
    "                                        }\n",
    "                                   }, \n",
    "                               'Output': \n",
    "                                   {'FBI': \n",
    "                                        {'weight_bounds': (None, 0), \n",
    "                                         'direction': 'FB', \n",
    "                                         'learning_rule': 'backprop'\n",
    "                                        }\n",
    "                                   }\n",
    "                              },\n",
    "                          'FBI': \n",
    "                              {'Output': \n",
    "                                   {'E': \n",
    "                                        {'weight_bounds': (0, None), \n",
    "                                         'direction': 'FF', \n",
    "                                         'learning_rule': 'backprop'\n",
    "                                        }\n",
    "                                   }\n",
    "                              }\n",
    "                         }\n",
    "                    }\n",
    "\n",
    "hyperparameter_kwargs = {'tau': 3,\n",
    "                         'forward_steps': 10,\n",
    "                         'backward_steps': 2,\n",
    "                         'learning_rate': 0.3,\n",
    "                         'seed': 42\n",
    "                        }\n",
    "\n",
    "network = EIANN(layer_config, projection_config, **hyperparameter_kwargs)\n",
    "test_EIANN_config(network, dataset, target, epochs)"
   ]
  },
  {
   "cell_type": "markdown",
   "metadata": {},
   "source": [
    "Backprop w/inhibition (relu)"
   ]
  },
  {
   "cell_type": "code",
   "execution_count": null,
   "metadata": {
    "scrolled": true
   },
   "outputs": [],
   "source": [
    "layer_config = {'Input': \n",
    "                      {'E': \n",
    "                           {'size': 2}}, \n",
    "                'Output': \n",
    "                      {'E': \n",
    "                           {'size': 2, \n",
    "                            'activation': 'relu',\n",
    "                            'include_bias': True,\n",
    "                            'learn_bias': True\n",
    "                           },\n",
    "                       'FBI': \n",
    "                            {'size': 1, \n",
    "                            'activation': 'relu',\n",
    "                            'include_bias': False\n",
    "                            }\n",
    "                      }\n",
    "                 }\n",
    "\n",
    "projection_config = {'Output': \n",
    "                         {'E': \n",
    "                              {'Input': \n",
    "                                   {'E': \n",
    "                                        {'weight_bounds': (0, None), \n",
    "                                         'direction': 'FF', \n",
    "                                         'learning_rule': 'backprop'\n",
    "                                        }\n",
    "                                   }, \n",
    "                               'Output': \n",
    "                                   {'FBI': \n",
    "                                        {'weight_bounds': (None, 0), \n",
    "                                         'direction': 'FB', \n",
    "                                         'learning_rule': 'backprop'\n",
    "                                        }\n",
    "                                   }\n",
    "                              },\n",
    "                          'FBI': \n",
    "                              {'Output': \n",
    "                                   {'E': \n",
    "                                        {'weight_bounds': (0, None), \n",
    "                                         'direction': 'FF', \n",
    "                                         'learning_rule': 'backprop'\n",
    "                                        }\n",
    "                                   }\n",
    "                              }\n",
    "                         }\n",
    "                    }\n",
    "\n",
    "hyperparameter_kwargs = {'tau': 3,\n",
    "                         'forward_steps': 10,\n",
    "                         'backward_steps': 2,\n",
    "                         'learning_rate': 0.3,\n",
    "                         'seed': 42\n",
    "                        }\n",
    "\n",
    "network = EIANN(layer_config, projection_config, **hyperparameter_kwargs)\n",
    "test_EIANN_config(network, dataset, target, epochs)"
   ]
  },
  {
   "cell_type": "code",
   "execution_count": null,
   "metadata": {},
   "outputs": [],
   "source": []
  }
 ],
 "metadata": {
  "kernelspec": {
   "display_name": "Python 3",
   "language": "python",
   "name": "python3"
  },
  "language_info": {
   "codemirror_mode": {
    "name": "ipython",
    "version": 3
   },
   "file_extension": ".py",
   "mimetype": "text/x-python",
   "name": "python",
   "nbconvert_exporter": "python",
   "pygments_lexer": "ipython3",
   "version": "3.7.13"
  }
 },
 "nbformat": 4,
 "nbformat_minor": 4
}
