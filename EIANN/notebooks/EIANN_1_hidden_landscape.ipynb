{
 "cells": [
  {
   "cell_type": "code",
   "execution_count": null,
   "metadata": {
    "pycharm": {
     "name": "#%%\n"
    }
   },
   "outputs": [],
   "source": [
    "import torch\n",
    "from torch.utils.data import DataLoader\n",
    "from pprint import pprint\n",
    "import matplotlib.pyplot as plt\n",
    "\n",
    "from EIANN import Network\n",
    "import EIANN.utils as ut\n",
    "import EIANN.plot as pt\n",
    "\n",
    "pt.update_plot_defaults()"
   ]
  },
  {
   "cell_type": "markdown",
   "metadata": {},
   "source": [
    "- Export the weights along the trajectory for both models\n",
    "- combine\n",
    "- PCA\n",
    "- interpolate (+- 10%)\n",
    "- create set of weights\n",
    "- probe loss of both networks\n",
    "    - convert BP net to ReLU before computing loss\n",
    "- plot 2D loss landscape as 3D heatmap (including 2 actual trajectories, plot separately)"
   ]
  },
  {
   "cell_type": "code",
   "execution_count": null,
   "metadata": {},
   "outputs": [],
   "source": [
    "input_size = 21\n",
    "dataset = torch.eye(input_size) #each row is a different pattern\n",
    "target = torch.eye(dataset.shape[0])\n",
    "\n",
    "data_seed = 0\n",
    "data_generator = torch.Generator()\n",
    "sample_indexes = torch.arange(len(dataset))\n",
    "dataloader = DataLoader(list(zip(sample_indexes, dataset, target)), \n",
    "                        shuffle=True, \n",
    "                        generator=data_generator)\n",
    "\n",
    "test_dataloader = DataLoader(list(zip(sample_indexes, dataset, target)), \n",
    "                             batch_size = 21)\n",
    "epochs=30\n",
    "seed=42"
   ]
  },
  {
   "cell_type": "markdown",
   "metadata": {},
   "source": [
    "### Gjorgjieva learning rule"
   ]
  },
  {
   "cell_type": "code",
   "execution_count": null,
   "metadata": {
    "scrolled": true
   },
   "outputs": [],
   "source": [
    "network_config = ut.read_from_yaml('../optimize/data/20220902_EIANN_1_hidden_Gjorgieva_Hebb_config_A.yaml')\n",
    "layer_config = network_config['layer_config']\n",
    "projection_config = network_config['projection_config']\n",
    "training_kwargs = network_config['training_kwargs']\n",
    "\n",
    "gj_network = Network(layer_config, projection_config, seed=seed, **training_kwargs)"
   ]
  },
  {
   "cell_type": "code",
   "execution_count": null,
   "metadata": {},
   "outputs": [],
   "source": [
    "data_generator.manual_seed(data_seed)\n",
    "gj_network.train(dataloader, epochs, store_history=True, store_weights=True, status_bar=True)\n",
    "\n",
    "pt.plot_test_loss_history(gj_network, test_dataloader)"
   ]
  },
  {
   "cell_type": "code",
   "execution_count": null,
   "metadata": {},
   "outputs": [],
   "source": [
    "min_loss_sorting = ut.get_optimal_sorting(gj_network, test_dataloader)\n",
    "ut.recompute_history(gj_network, min_loss_sorting)\n",
    "\n",
    "pt.plot_test_loss_history(gj_network, test_dataloader)"
   ]
  },
  {
   "cell_type": "code",
   "execution_count": null,
   "metadata": {},
   "outputs": [],
   "source": [
    "flat_param_history_gj,_ = pt.get_flat_param_history(gj_network)\n",
    "pt.plot_param_history_PCs(flat_param_history_gj)"
   ]
  },
  {
   "cell_type": "code",
   "execution_count": null,
   "metadata": {},
   "outputs": [],
   "source": [
    "pt.plot_loss_landscape(test_dataloader, gj_network, num_points=20)"
   ]
  },
  {
   "cell_type": "markdown",
   "metadata": {},
   "source": [
    "### Backprop (softplus; SGD)"
   ]
  },
  {
   "cell_type": "code",
   "execution_count": null,
   "metadata": {
    "scrolled": false
   },
   "outputs": [],
   "source": [
    "network_config = ut.read_from_yaml('../config/EIANN_1_hidden_backprop_softplus_SGD_matched_config.yaml')\n",
    "layer_config = network_config['layer_config']\n",
    "projection_config = network_config['projection_config']\n",
    "training_kwargs = network_config['training_kwargs']\n",
    "\n",
    "bp_network = Network(layer_config, projection_config, seed=seed, **training_kwargs)"
   ]
  },
  {
   "cell_type": "code",
   "execution_count": null,
   "metadata": {},
   "outputs": [],
   "source": [
    "# Initialize backprop net with same weights as Gjorg. init\n",
    "gj_initial_state = gj_network.param_history[0]\n",
    "bp_network.load_state_dict(gj_initial_state)"
   ]
  },
  {
   "cell_type": "code",
   "execution_count": null,
   "metadata": {},
   "outputs": [],
   "source": [
    "data_generator.manual_seed(data_seed)\n",
    "bp_network.train(dataloader, epochs, store_history=True, store_weights=True, status_bar=True)\n",
    "\n",
    "pt.plot_test_loss_history(bp_network, test_dataloader)"
   ]
  },
  {
   "cell_type": "code",
   "execution_count": null,
   "metadata": {},
   "outputs": [],
   "source": [
    "flat_param_history_bp,_ = pt.get_flat_param_history(bp_network)\n",
    "pt.plot_param_history_PCs(flat_param_history_bp)"
   ]
  },
  {
   "cell_type": "code",
   "execution_count": null,
   "metadata": {},
   "outputs": [],
   "source": [
    "pt.plot_loss_landscape(test_dataloader, bp_network, num_points=20)"
   ]
  },
  {
   "cell_type": "markdown",
   "metadata": {},
   "source": [
    "## Combined loss landscape"
   ]
  },
  {
   "cell_type": "code",
   "execution_count": null,
   "metadata": {},
   "outputs": [],
   "source": [
    "flat_param_history1,_ = pt.get_flat_param_history(gj_network)\n",
    "flat_param_history2,_ = pt.get_flat_param_history(bp_network)\n",
    "combined_param_history = torch.cat([flat_param_history1,flat_param_history2])\n",
    "pt.plot_param_history_PCs(combined_param_history)"
   ]
  },
  {
   "cell_type": "code",
   "execution_count": null,
   "metadata": {},
   "outputs": [],
   "source": [
    "gj_network.name = 'Gjorgjieva'\n",
    "bp_network.name = 'Backprop'\n",
    "pt.plot_loss_landscape(test_dataloader, gj_network, bp_network, num_points=20, extension=0.5)"
   ]
  },
  {
   "cell_type": "code",
   "execution_count": null,
   "metadata": {},
   "outputs": [],
   "source": [
    "# turn notebooks into pytest scripts\n",
    "\n",
    "# add hardcoded network reference to output population (e.g network.output_pop)"
   ]
  }
 ],
 "metadata": {
  "kernelspec": {
   "display_name": "Python 3 (ipykernel)",
   "language": "python",
   "name": "python3"
  },
  "language_info": {
   "codemirror_mode": {
    "name": "ipython",
    "version": 3
   },
   "file_extension": ".py",
   "mimetype": "text/x-python",
   "name": "python",
   "nbconvert_exporter": "python",
   "pygments_lexer": "ipython3",
   "version": "3.9.13"
  }
 },
 "nbformat": 4,
 "nbformat_minor": 4
}
