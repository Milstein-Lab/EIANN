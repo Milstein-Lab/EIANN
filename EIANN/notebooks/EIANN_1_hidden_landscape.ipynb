{
 "cells": [
  {
   "cell_type": "code",
   "execution_count": 1,
   "metadata": {
    "pycharm": {
     "name": "#%%\n"
    }
   },
   "outputs": [],
   "source": [
    "import torch\n",
    "from torch.utils.data import DataLoader\n",
    "from pprint import pprint\n",
    "import matplotlib.pyplot as plt\n",
    "\n",
    "from EIANN import Network\n",
    "import EIANN.utils as ut\n",
    "import EIANN.plot as ep\n",
    "\n",
    "ep.update_plot_defaults()"
   ]
  },
  {
   "cell_type": "markdown",
   "metadata": {},
   "source": [
    "- Export the weights along the trajectory for both models\n",
    "- combine\n",
    "- PCA\n",
    "- interpolate (+- 10%)\n",
    "- create set of weights\n",
    "- probe loss of both networks\n",
    "    - convert BP net to ReLU before computing loss\n",
    "- plot 2D loss landscape as 3D heatmap (including 2 actual trajectories, plot separately)"
   ]
  },
  {
   "cell_type": "code",
   "execution_count": 2,
   "metadata": {},
   "outputs": [],
   "source": [
    "input_size = 21\n",
    "dataset = torch.eye(input_size) #each row is a different pattern\n",
    "target = torch.eye(dataset.shape[0])\n",
    "\n",
    "data_seed = 0\n",
    "data_generator = torch.Generator()\n",
    "sample_indexes = torch.arange(len(dataset))\n",
    "dataloader = DataLoader(list(zip(sample_indexes, dataset, target)), \n",
    "                        shuffle=True, \n",
    "                        generator=data_generator)\n",
    "\n",
    "test_dataloader = DataLoader(list(zip(sample_indexes, dataset, target)), \n",
    "                             batch_size = 21)\n",
    "epochs=30\n",
    "seed=42"
   ]
  },
  {
   "cell_type": "markdown",
   "metadata": {},
   "source": [
    "### Gjorgjieva learning rule"
   ]
  },
  {
   "cell_type": "code",
   "execution_count": 3,
   "metadata": {
    "scrolled": true
   },
   "outputs": [],
   "source": [
    "network_config = ut.read_from_yaml('../optimize/data/20220902_EIANN_1_hidden_Gjorgieva_Hebb_config_A.yaml')\n",
    "layer_config = network_config['layer_config']\n",
    "projection_config = network_config['projection_config']\n",
    "training_kwargs = network_config['training_kwargs']\n",
    "\n",
    "gj_network = Network(layer_config, projection_config, seed=seed, **training_kwargs)"
   ]
  },
  {
   "cell_type": "code",
   "execution_count": 4,
   "metadata": {},
   "outputs": [
    {
     "data": {
      "application/vnd.jupyter.widget-view+json": {
       "model_id": "17b5719557cd44d4bbe24ba8598438fc",
       "version_major": 2,
       "version_minor": 0
      },
      "text/plain": [
       "Epochs:   0%|          | 0/30 [00:00<?, ?it/s]"
      ]
     },
     "metadata": {},
     "output_type": "display_data"
    },
    {
     "data": {
      "application/vnd.jupyter.widget-view+json": {
       "model_id": "",
       "version_major": 2,
       "version_minor": 0
      },
      "text/plain": [
       "Samples:   0%|          | 0/21 [00:00<?, ?it/s]"
      ]
     },
     "metadata": {},
     "output_type": "display_data"
    },
    {
     "data": {
      "application/vnd.jupyter.widget-view+json": {
       "model_id": "",
       "version_major": 2,
       "version_minor": 0
      },
      "text/plain": [
       "Samples:   0%|          | 0/21 [00:00<?, ?it/s]"
      ]
     },
     "metadata": {},
     "output_type": "display_data"
    },
    {
     "data": {
      "application/vnd.jupyter.widget-view+json": {
       "model_id": "",
       "version_major": 2,
       "version_minor": 0
      },
      "text/plain": [
       "Samples:   0%|          | 0/21 [00:00<?, ?it/s]"
      ]
     },
     "metadata": {},
     "output_type": "display_data"
    },
    {
     "data": {
      "application/vnd.jupyter.widget-view+json": {
       "model_id": "",
       "version_major": 2,
       "version_minor": 0
      },
      "text/plain": [
       "Samples:   0%|          | 0/21 [00:00<?, ?it/s]"
      ]
     },
     "metadata": {},
     "output_type": "display_data"
    },
    {
     "data": {
      "application/vnd.jupyter.widget-view+json": {
       "model_id": "",
       "version_major": 2,
       "version_minor": 0
      },
      "text/plain": [
       "Samples:   0%|          | 0/21 [00:00<?, ?it/s]"
      ]
     },
     "metadata": {},
     "output_type": "display_data"
    },
    {
     "data": {
      "application/vnd.jupyter.widget-view+json": {
       "model_id": "",
       "version_major": 2,
       "version_minor": 0
      },
      "text/plain": [
       "Samples:   0%|          | 0/21 [00:00<?, ?it/s]"
      ]
     },
     "metadata": {},
     "output_type": "display_data"
    },
    {
     "data": {
      "application/vnd.jupyter.widget-view+json": {
       "model_id": "",
       "version_major": 2,
       "version_minor": 0
      },
      "text/plain": [
       "Samples:   0%|          | 0/21 [00:00<?, ?it/s]"
      ]
     },
     "metadata": {},
     "output_type": "display_data"
    },
    {
     "data": {
      "application/vnd.jupyter.widget-view+json": {
       "model_id": "",
       "version_major": 2,
       "version_minor": 0
      },
      "text/plain": [
       "Samples:   0%|          | 0/21 [00:00<?, ?it/s]"
      ]
     },
     "metadata": {},
     "output_type": "display_data"
    },
    {
     "data": {
      "application/vnd.jupyter.widget-view+json": {
       "model_id": "",
       "version_major": 2,
       "version_minor": 0
      },
      "text/plain": [
       "Samples:   0%|          | 0/21 [00:00<?, ?it/s]"
      ]
     },
     "metadata": {},
     "output_type": "display_data"
    },
    {
     "data": {
      "application/vnd.jupyter.widget-view+json": {
       "model_id": "",
       "version_major": 2,
       "version_minor": 0
      },
      "text/plain": [
       "Samples:   0%|          | 0/21 [00:00<?, ?it/s]"
      ]
     },
     "metadata": {},
     "output_type": "display_data"
    },
    {
     "data": {
      "application/vnd.jupyter.widget-view+json": {
       "model_id": "",
       "version_major": 2,
       "version_minor": 0
      },
      "text/plain": [
       "Samples:   0%|          | 0/21 [00:00<?, ?it/s]"
      ]
     },
     "metadata": {},
     "output_type": "display_data"
    },
    {
     "data": {
      "application/vnd.jupyter.widget-view+json": {
       "model_id": "",
       "version_major": 2,
       "version_minor": 0
      },
      "text/plain": [
       "Samples:   0%|          | 0/21 [00:00<?, ?it/s]"
      ]
     },
     "metadata": {},
     "output_type": "display_data"
    },
    {
     "data": {
      "application/vnd.jupyter.widget-view+json": {
       "model_id": "",
       "version_major": 2,
       "version_minor": 0
      },
      "text/plain": [
       "Samples:   0%|          | 0/21 [00:00<?, ?it/s]"
      ]
     },
     "metadata": {},
     "output_type": "display_data"
    },
    {
     "data": {
      "application/vnd.jupyter.widget-view+json": {
       "model_id": "",
       "version_major": 2,
       "version_minor": 0
      },
      "text/plain": [
       "Samples:   0%|          | 0/21 [00:00<?, ?it/s]"
      ]
     },
     "metadata": {},
     "output_type": "display_data"
    },
    {
     "data": {
      "application/vnd.jupyter.widget-view+json": {
       "model_id": "",
       "version_major": 2,
       "version_minor": 0
      },
      "text/plain": [
       "Samples:   0%|          | 0/21 [00:00<?, ?it/s]"
      ]
     },
     "metadata": {},
     "output_type": "display_data"
    },
    {
     "data": {
      "application/vnd.jupyter.widget-view+json": {
       "model_id": "",
       "version_major": 2,
       "version_minor": 0
      },
      "text/plain": [
       "Samples:   0%|          | 0/21 [00:00<?, ?it/s]"
      ]
     },
     "metadata": {},
     "output_type": "display_data"
    },
    {
     "data": {
      "application/vnd.jupyter.widget-view+json": {
       "model_id": "",
       "version_major": 2,
       "version_minor": 0
      },
      "text/plain": [
       "Samples:   0%|          | 0/21 [00:00<?, ?it/s]"
      ]
     },
     "metadata": {},
     "output_type": "display_data"
    },
    {
     "data": {
      "application/vnd.jupyter.widget-view+json": {
       "model_id": "",
       "version_major": 2,
       "version_minor": 0
      },
      "text/plain": [
       "Samples:   0%|          | 0/21 [00:00<?, ?it/s]"
      ]
     },
     "metadata": {},
     "output_type": "display_data"
    },
    {
     "data": {
      "application/vnd.jupyter.widget-view+json": {
       "model_id": "",
       "version_major": 2,
       "version_minor": 0
      },
      "text/plain": [
       "Samples:   0%|          | 0/21 [00:00<?, ?it/s]"
      ]
     },
     "metadata": {},
     "output_type": "display_data"
    },
    {
     "data": {
      "application/vnd.jupyter.widget-view+json": {
       "model_id": "",
       "version_major": 2,
       "version_minor": 0
      },
      "text/plain": [
       "Samples:   0%|          | 0/21 [00:00<?, ?it/s]"
      ]
     },
     "metadata": {},
     "output_type": "display_data"
    },
    {
     "data": {
      "application/vnd.jupyter.widget-view+json": {
       "model_id": "",
       "version_major": 2,
       "version_minor": 0
      },
      "text/plain": [
       "Samples:   0%|          | 0/21 [00:00<?, ?it/s]"
      ]
     },
     "metadata": {},
     "output_type": "display_data"
    },
    {
     "data": {
      "application/vnd.jupyter.widget-view+json": {
       "model_id": "",
       "version_major": 2,
       "version_minor": 0
      },
      "text/plain": [
       "Samples:   0%|          | 0/21 [00:00<?, ?it/s]"
      ]
     },
     "metadata": {},
     "output_type": "display_data"
    },
    {
     "data": {
      "application/vnd.jupyter.widget-view+json": {
       "model_id": "",
       "version_major": 2,
       "version_minor": 0
      },
      "text/plain": [
       "Samples:   0%|          | 0/21 [00:00<?, ?it/s]"
      ]
     },
     "metadata": {},
     "output_type": "display_data"
    },
    {
     "data": {
      "application/vnd.jupyter.widget-view+json": {
       "model_id": "",
       "version_major": 2,
       "version_minor": 0
      },
      "text/plain": [
       "Samples:   0%|          | 0/21 [00:00<?, ?it/s]"
      ]
     },
     "metadata": {},
     "output_type": "display_data"
    },
    {
     "data": {
      "application/vnd.jupyter.widget-view+json": {
       "model_id": "",
       "version_major": 2,
       "version_minor": 0
      },
      "text/plain": [
       "Samples:   0%|          | 0/21 [00:00<?, ?it/s]"
      ]
     },
     "metadata": {},
     "output_type": "display_data"
    },
    {
     "data": {
      "application/vnd.jupyter.widget-view+json": {
       "model_id": "",
       "version_major": 2,
       "version_minor": 0
      },
      "text/plain": [
       "Samples:   0%|          | 0/21 [00:00<?, ?it/s]"
      ]
     },
     "metadata": {},
     "output_type": "display_data"
    },
    {
     "data": {
      "application/vnd.jupyter.widget-view+json": {
       "model_id": "",
       "version_major": 2,
       "version_minor": 0
      },
      "text/plain": [
       "Samples:   0%|          | 0/21 [00:00<?, ?it/s]"
      ]
     },
     "metadata": {},
     "output_type": "display_data"
    },
    {
     "data": {
      "application/vnd.jupyter.widget-view+json": {
       "model_id": "",
       "version_major": 2,
       "version_minor": 0
      },
      "text/plain": [
       "Samples:   0%|          | 0/21 [00:00<?, ?it/s]"
      ]
     },
     "metadata": {},
     "output_type": "display_data"
    },
    {
     "data": {
      "application/vnd.jupyter.widget-view+json": {
       "model_id": "",
       "version_major": 2,
       "version_minor": 0
      },
      "text/plain": [
       "Samples:   0%|          | 0/21 [00:00<?, ?it/s]"
      ]
     },
     "metadata": {},
     "output_type": "display_data"
    },
    {
     "data": {
      "application/vnd.jupyter.widget-view+json": {
       "model_id": "3693cb2ff5374d0284bb06f0bdc83e47",
       "version_major": 2,
       "version_minor": 0
      },
      "text/plain": [
       "Samples:   0%|          | 0/21 [00:00<?, ?it/s]"
      ]
     },
     "metadata": {},
     "output_type": "display_data"
    },
    {
     "data": {
      "image/png": "[encoded data removed]",
      "text/plain": [
       "<Figure size 1008x288 with 1 Axes>"
      ]
     },
     "metadata": {
      "needs_background": "light"
     },
     "output_type": "display_data"
    }
   ],
   "source": [
    "data_generator.manual_seed(data_seed)\n",
    "gj_network.train(dataloader, epochs, store_history=True, status_bar=True)\n",
    "\n",
    "plt.plot(gj_network.loss_history)\n",
    "plt.show()"
   ]
  },
  {
   "cell_type": "code",
   "execution_count": 5,
   "metadata": {},
   "outputs": [],
   "source": [
    "import numpy as np\n",
    "\n",
    "def gini(x):\n",
    "    x = np.array(x)\n",
    "    x = x[np.where(~np.isnan(x))[0]] #remove NaNs\n",
    "    if np.all(x==0):\n",
    "        gini_coefficient = 0\n",
    "    else:\n",
    "        sorted_x = np.sort(x)\n",
    "        n = len(x)\n",
    "        cumx = np.nancumsum(sorted_x, dtype=float)\n",
    "        gini_coefficient = (n + 1 - 2 * np.nansum(cumx) / cumx[-1]) / n    \n",
    "    return gini_coefficient \n",
    "\n",
    "\n",
    "def get_diag_col_sorting(activity_matrix):    \n",
    "    #TODO: consider alternative implementation: maximum matching algorithm for bipartite graph\n",
    "    \n",
    "    # Compute Gini coefficients for all units\n",
    "    num_units = activity_matrix.shape[1]\n",
    "    selectivity = np.zeros(num_units)\n",
    "    for i in range(num_units):\n",
    "        unit_activity = activity_matrix[:,i]\n",
    "        selectivity[i] = gini(unit_activity)\n",
    "    \n",
    "    # Starting from highest Gini, position each unit according to its argmax   \n",
    "    sorted_activity = torch.zeros_like(activity_matrix)\n",
    "    _activity_matrix = torch.clone(activity_matrix)\n",
    "    optimal_sorting = torch.zeros(num_units,dtype=int)\n",
    "    occupied_positions = []\n",
    "    \n",
    "    while len(occupied_positions) < num_units:\n",
    "        if np.max(selectivity) == 0: #if no units are selective, position randomly\n",
    "            unit_idx = np.where(selectivity==0)[0]\n",
    "            unit_activities = activity_matrix[:,unit_idx]\n",
    "            positions = [pos for pos in np.arange(num_units) if pos not in occupied_positions]\n",
    "            sorted_activity[:,positions] = unit_activities\n",
    "            optimal_sorting[positions] = unit_idx  \n",
    "            occupied_positions.append(positions)\n",
    "        else:\n",
    "            most_selective_unit = np.nanargmax(selectivity)\n",
    "            unit_activity_orig = activity_matrix[:,most_selective_unit]\n",
    "            unit_activity_filtered = _activity_matrix[:,most_selective_unit] #contains units with missing argmax\n",
    "            preferred_position = np.nanargmax(unit_activity_filtered)\n",
    "            \n",
    "            if preferred_position in occupied_positions:\n",
    "                #remove argmax value and recompute Gini coefficient\n",
    "                _activity_matrix[preferred_position,most_selective_unit] = np.NaN\n",
    "                unit_activity_filtered[preferred_position] = np.NaN\n",
    "                selectivity[most_selective_unit] = gini(unit_activity_filtered) \n",
    "            else:     \n",
    "                sorted_activity[:,preferred_position] = unit_activity_orig\n",
    "                optimal_sorting[preferred_position] = most_selective_unit\n",
    "                occupied_positions.append(preferred_position)\n",
    "                selectivity[most_selective_unit] = np.NaN\n",
    "            \n",
    "    return sorted_activity, optimal_sorting"
   ]
  },
  {
   "cell_type": "code",
   "execution_count": 6,
   "metadata": {},
   "outputs": [
    {
     "name": "stderr",
     "output_type": "stream",
     "text": [
      "100%|██████████| 630/630 [00:03<00:00, 209.91it/s]\n"
     ]
    },
    {
     "name": "stdout",
     "output_type": "stream",
     "text": [
      "tensor(0.0291)\n"
     ]
    },
    {
     "data": {
      "image/png": "[encoded data removed]",
      "text/plain": [
       "<Figure size 1008x288 with 1 Axes>"
      ]
     },
     "metadata": {
      "needs_background": "light"
     },
     "output_type": "display_data"
    }
   ],
   "source": [
    "from tqdm import tqdm\n",
    "network = gj_network\n",
    "\n",
    "# 1. Measure test loss on re-sorted activity at every point in the training history\n",
    "output_layer = list(network)[-1]\n",
    "output_pop = output_layer.E\n",
    "\n",
    "optimal_loss_history = []\n",
    "sorting_history = []\n",
    "history_len = output_pop.activity_history.shape[0]\n",
    "for i in tqdm(range(history_len)):\n",
    "    state_dict = network.param_history[i]\n",
    "    network_snapshot = Network(layer_config, projection_config, seed=seed, **training_kwargs)\n",
    "    network_snapshot.load_state_dict(state_dict)\n",
    "    \n",
    "    idx, test_data, test_target = next(iter(test_dataloader)) #requires dataloader with single large batch\n",
    "    output = network_snapshot.forward(test_data) #row=patterns, col=units\n",
    "    \n",
    "    # Get average output for each label class\n",
    "    avg_output = torch.zeros_like(output)\n",
    "    num_units = test_target.shape[1]\n",
    "    for label in range(num_units):\n",
    "        targets = torch.argmax(test_target,dim=1) #convert from 1-hot vector to int label\n",
    "        label_idx = torch.where(targets==label) #find all instances of given label  \n",
    "        avg_output[label,:] = torch.mean(output[label_idx],dim=0)\n",
    "    \n",
    "    # Find optimal output unit (col) sorting given average responses\n",
    "    optimal_sorting = ut.get_diag_argmax_row_indexes(avg_output.T)\n",
    "    sorted_activity = avg_output[:,optimal_sorting]\n",
    "    optimal_loss = network.criterion(sorted_activity,test_target)\n",
    "    optimal_loss_history.append(optimal_loss)\n",
    "    sorting_history.append(optimal_sorting)\n",
    "         \n",
    "# 2. Pick timepoint with lowest sorted loss and apply sorting to output activity history\n",
    "min_loss_idx = torch.argmin(torch.tensor(optimal_loss_history))\n",
    "min_loss_sorting = sorting_history[min_loss_idx]\n",
    "\n",
    "plt.plot(optimal_loss_history)\n",
    "plt.title('optimal loss history (re-sorted for each point)')\n",
    "print(optimal_loss_history[min_loss_idx])\n",
    "plt.show()\n",
    "\n",
    "output_pop.activity_history.data = output_pop.activity_history[:,:,min_loss_sorting]\n",
    "\n",
    "# 3. Re-compute loss history with new sorting\n",
    "for i in range(history_len):\n",
    "    output = output_pop.activity_history[i,-1,:]\n",
    "    target = network.target_history[i]\n",
    "    network.loss_history[i] = network.criterion(output,target)\n",
    "    \n",
    "# 4. Re-sort weight matrices going to and from the output population\n",
    "for proj in output_pop.incoming_projections.values():\n",
    "    proj.weight.data = proj.weight.data[min_loss_sorting,:]\n",
    "\n",
    "for proj in output_pop.outgoing_projections.values():\n",
    "    proj.weight.data = proj.weight.data[:,min_loss_sorting]\n",
    "    \n",
    "#TODO: re-sort projections for every point in the weight history\n"
   ]
  },
  {
   "cell_type": "code",
   "execution_count": 36,
   "metadata": {},
   "outputs": [
    {
     "data": {
      "text/plain": [
       "odict_keys(['module_list.0.weight', 'module_list.1.weight', 'module_list.2.weight', 'module_list.3.weight', 'module_list.4.weight', 'module_list.5.weight', 'module_list.6.weight', 'module_list.7.weight', 'parameter_list.0', 'parameter_list.1', 'parameter_list.2', 'parameter_list.3'])"
      ]
     },
     "execution_count": 36,
     "metadata": {},
     "output_type": "execute_result"
    }
   ],
   "source": [
    "network.param_history[0].keys()"
   ]
  },
  {
   "cell_type": "code",
   "execution_count": 7,
   "metadata": {},
   "outputs": [
    {
     "data": {
      "text/plain": [
       "{'H1': {'E': Projection(in_features=7, out_features=21, bias=False)},\n",
       " 'Output': {'FBI': Projection(in_features=7, out_features=21, bias=False)}}"
      ]
     },
     "execution_count": 7,
     "metadata": {},
     "output_type": "execute_result"
    }
   ],
   "source": [
    "output_pop.projections"
   ]
  },
  {
   "cell_type": "code",
   "execution_count": 22,
   "metadata": {},
   "outputs": [
    {
     "name": "stdout",
     "output_type": "stream",
     "text": [
      "torch.Size([7, 21])\n"
     ]
    },
    {
     "data": {
      "text/plain": [
       "{'OutputFBI_OutputE': Projection(in_features=21, out_features=7, bias=False)}"
      ]
     },
     "execution_count": 22,
     "metadata": {},
     "output_type": "execute_result"
    }
   ],
   "source": [
    "print(output_pop.outgoing_projections['OutputFBI_OutputE'].weight.shape)\n",
    "output_pop.outgoing_projections"
   ]
  },
  {
   "cell_type": "code",
   "execution_count": 21,
   "metadata": {},
   "outputs": [
    {
     "name": "stdout",
     "output_type": "stream",
     "text": [
      "torch.Size([21, 7])\n"
     ]
    },
    {
     "data": {
      "text/plain": [
       "{'OutputE_H1E': Projection(in_features=7, out_features=21, bias=False),\n",
       " 'OutputE_OutputFBI': Projection(in_features=7, out_features=21, bias=False)}"
      ]
     },
     "execution_count": 21,
     "metadata": {},
     "output_type": "execute_result"
    }
   ],
   "source": [
    "print(output_pop.incoming_projections['OutputE_H1E'].weight.shape)\n",
    "output_pop.incoming_projections"
   ]
  },
  {
   "cell_type": "code",
   "execution_count": 31,
   "metadata": {},
   "outputs": [
    {
     "ename": "AttributeError",
     "evalue": "'Projection' object has no attribute 'weight_history'",
     "output_type": "error",
     "traceback": [
      "\u001b[0;31m---------------------------------------------------------------------------\u001b[0m",
      "\u001b[0;31mAttributeError\u001b[0m                            Traceback (most recent call last)",
      "\u001b[0;32m<ipython-input-31-90ef0a2a7028>\u001b[0m in \u001b[0;36m<module>\u001b[0;34m\u001b[0m\n\u001b[0;32m----> 1\u001b[0;31m \u001b[0moutput_pop\u001b[0m\u001b[0;34m.\u001b[0m\u001b[0mincoming_projections\u001b[0m\u001b[0;34m[\u001b[0m\u001b[0;34m'OutputE_H1E'\u001b[0m\u001b[0;34m]\u001b[0m\u001b[0;34m.\u001b[0m\u001b[0mweight_history\u001b[0m\u001b[0;34m\u001b[0m\u001b[0;34m\u001b[0m\u001b[0m\n\u001b[0m",
      "\u001b[0;32m~/opt/anaconda3/lib/python3.8/site-packages/torch/nn/modules/module.py\u001b[0m in \u001b[0;36m__getattr__\u001b[0;34m(self, name)\u001b[0m\n\u001b[1;32m   1183\u001b[0m             \u001b[0;32mif\u001b[0m \u001b[0mname\u001b[0m \u001b[0;32min\u001b[0m \u001b[0mmodules\u001b[0m\u001b[0;34m:\u001b[0m\u001b[0;34m\u001b[0m\u001b[0;34m\u001b[0m\u001b[0m\n\u001b[1;32m   1184\u001b[0m                 \u001b[0;32mreturn\u001b[0m \u001b[0mmodules\u001b[0m\u001b[0;34m[\u001b[0m\u001b[0mname\u001b[0m\u001b[0;34m]\u001b[0m\u001b[0;34m\u001b[0m\u001b[0;34m\u001b[0m\u001b[0m\n\u001b[0;32m-> 1185\u001b[0;31m         raise AttributeError(\"'{}' object has no attribute '{}'\".format(\n\u001b[0m\u001b[1;32m   1186\u001b[0m             type(self).__name__, name))\n\u001b[1;32m   1187\u001b[0m \u001b[0;34m\u001b[0m\u001b[0m\n",
      "\u001b[0;31mAttributeError\u001b[0m: 'Projection' object has no attribute 'weight_history'"
     ]
    }
   ],
   "source": [
    "output_pop.incoming_projections['OutputE_H1E'].weight_history"
   ]
  },
  {
   "cell_type": "code",
   "execution_count": 8,
   "metadata": {},
   "outputs": [
    {
     "ename": "SyntaxError",
     "evalue": "invalid syntax (<ipython-input-8-341449e3b1b6>, line 1)",
     "output_type": "error",
     "traceback": [
      "\u001b[0;36m  File \u001b[0;32m\"<ipython-input-8-341449e3b1b6>\"\u001b[0;36m, line \u001b[0;32m1\u001b[0m\n\u001b[0;31m    a:\u001b[0m\n\u001b[0m      ^\u001b[0m\n\u001b[0;31mSyntaxError\u001b[0m\u001b[0;31m:\u001b[0m invalid syntax\n"
     ]
    }
   ],
   "source": [
    "a:\n",
    "\n",
    "\n",
    "# # 3. Compute loss landscape on new weight history\n",
    "\n",
    "\n",
    "\n",
    "# final_output = output_pop.activity_history[network.sorted_sample_indexes, -1, :][-target.shape[0]:, :].T\n",
    "# sorted_idx = get_diag_argmax_row_indexes(final_output)\n",
    "# loss_history = []\n",
    "# for i in range(output_pop.activity_history.shape[0]):\n",
    "#     sample_idx = network.sample_order[i]\n",
    "#     sample_target = target[sample_idx, :]\n",
    "#     output = output_pop.activity_history[i, -1, sorted_idx]\n",
    "#     loss = network.criterion(output, sample_target)\n",
    "#     loss_history.append(loss)\n",
    "#     argmax_correct.append(torch.argmax(output) == torch.argmax(sample_target))\n",
    "# loss_history = torch.tensor(loss_history)\n",
    "# argmax_correct = torch.tensor(argmax_correct)\n",
    "\n",
    "# epoch_argmax_accuracy = []\n",
    "# start = 0\n",
    "# while start < len(argmax_correct):\n",
    "#     epoch_argmax_accuracy.append(torch.sum(argmax_correct[start:start+target.shape[0]]) / target.shape[0] * 100.)\n",
    "#     start += target.shape[0]\n",
    "\n",
    "# epoch_argmax_accuracy = torch.tensor(epoch_argmax_accuracy)\n"
   ]
  },
  {
   "cell_type": "code",
   "execution_count": null,
   "metadata": {},
   "outputs": [],
   "source": []
  },
  {
   "cell_type": "code",
   "execution_count": null,
   "metadata": {},
   "outputs": [],
   "source": []
  },
  {
   "cell_type": "code",
   "execution_count": null,
   "metadata": {},
   "outputs": [],
   "source": []
  },
  {
   "cell_type": "code",
   "execution_count": null,
   "metadata": {},
   "outputs": [],
   "source": []
  },
  {
   "cell_type": "code",
   "execution_count": null,
   "metadata": {},
   "outputs": [],
   "source": []
  },
  {
   "cell_type": "code",
   "execution_count": null,
   "metadata": {},
   "outputs": [],
   "source": []
  },
  {
   "cell_type": "code",
   "execution_count": null,
   "metadata": {},
   "outputs": [],
   "source": []
  },
  {
   "cell_type": "code",
   "execution_count": null,
   "metadata": {},
   "outputs": [],
   "source": []
  },
  {
   "cell_type": "code",
   "execution_count": null,
   "metadata": {},
   "outputs": [],
   "source": [
    "ep.plot_weight_history_PCs(gj_network)"
   ]
  },
  {
   "cell_type": "code",
   "execution_count": null,
   "metadata": {},
   "outputs": [],
   "source": [
    "ds = [x for x in zip(dataset,target)]\n",
    "test_dataloader = DataLoader(ds, batch_size=1)\n",
    "ep.plot_loss_landscape(gj_network, test_dataloader, num_points=20)"
   ]
  },
  {
   "cell_type": "markdown",
   "metadata": {},
   "source": [
    "### Backprop (softplus; SGD)"
   ]
  },
  {
   "cell_type": "code",
   "execution_count": null,
   "metadata": {
    "scrolled": false
   },
   "outputs": [],
   "source": [
    "network_config = ut.read_from_yaml('../config/EIANN_1_hidden_backprop_softplus_SGD_matched_config.yaml')\n",
    "layer_config = network_config['layer_config']\n",
    "projection_config = network_config['projection_config']\n",
    "training_kwargs = network_config['training_kwargs']\n",
    "\n",
    "bp_network = Network(layer_config, projection_config, seed=seed, **training_kwargs)"
   ]
  },
  {
   "cell_type": "code",
   "execution_count": null,
   "metadata": {},
   "outputs": [],
   "source": [
    "# Initialize backprop net with same weights as Gjorg. init\n",
    "for i,gj_projection in enumerate(gj_network.module_list):\n",
    "    bp_network.module_list[i].weight.data = gj_projection.weight_history[0].clone()\n",
    "\n",
    "# for gj_layer,bp_layer in zip(gj_network,bp_network):\n",
    "#     for gj_pop,bp_pop in zip(gj_layer,bp_layer):\n",
    "#         for gj_proj,bp_proj in zip(gj_pop,bp_pop):\n",
    "#             bp_proj.weight.data = gj_proj.weight_history[0].clone()"
   ]
  },
  {
   "cell_type": "code",
   "execution_count": null,
   "metadata": {},
   "outputs": [],
   "source": [
    "data_generator.manual_seed(data_seed)\n",
    "bp_network.train(dataloader, epochs, store_history=True, status_bar=True)\n",
    "\n",
    "plt.plot(bp_network.loss_history)\n",
    "plt.show()"
   ]
  },
  {
   "cell_type": "code",
   "execution_count": null,
   "metadata": {},
   "outputs": [],
   "source": [
    "ep.plot_weight_history_PCs(bp_network)"
   ]
  },
  {
   "cell_type": "code",
   "execution_count": null,
   "metadata": {},
   "outputs": [],
   "source": [
    "ep.plot_loss_landscape(bp_network, test_dataloader, num_points=20)"
   ]
  },
  {
   "cell_type": "markdown",
   "metadata": {},
   "source": [
    "## Combined loss landscape"
   ]
  },
  {
   "cell_type": "code",
   "execution_count": null,
   "metadata": {},
   "outputs": [],
   "source": [
    "ep.plot_combined_loss_landscape(gj_network, bp_network, test_dataloader, num_points=20)"
   ]
  },
  {
   "cell_type": "code",
   "execution_count": null,
   "metadata": {},
   "outputs": [],
   "source": []
  }
 ],
 "metadata": {
  "kernelspec": {
   "display_name": "Python 3",
   "language": "python",
   "name": "python3"
  },
  "language_info": {
   "codemirror_mode": {
    "name": "ipython",
    "version": 3
   },
   "file_extension": ".py",
   "mimetype": "text/x-python",
   "name": "python",
   "nbconvert_exporter": "python",
   "pygments_lexer": "ipython3",
   "version": "3.8.5"
  }
 },
 "nbformat": 4,
 "nbformat_minor": 4
}
