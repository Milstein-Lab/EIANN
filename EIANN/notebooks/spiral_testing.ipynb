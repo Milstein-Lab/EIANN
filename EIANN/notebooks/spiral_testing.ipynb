{
 "cells": [
  {
   "cell_type": "code",
   "execution_count": null,
   "metadata": {},
   "outputs": [],
   "source": [
    "import torch\n",
    "import matplotlib.pyplot as plt\n",
    "import EIANN.utils as ut\n",
    "import EIANN.plot as pt\n",
    "import EIANN._network as nt\n",
    "\n",
    "\n",
    "from tqdm.autonotebook import tqdm\n",
    "import numpy as np\n",
    "import matplotlib.gridspec as gs\n",
    "%load_ext autoreload\n",
    "%autoreload 2\n",
    "\n",
    "pt.update_plot_defaults()"
   ]
  },
  {
   "cell_type": "markdown",
   "metadata": {},
   "source": [
    "### Vanilla BP MNIST"
   ]
  },
  {
   "cell_type": "code",
   "execution_count": null,
   "metadata": {},
   "outputs": [],
   "source": [
    "train_dataloader, train_sub_dataloader, val_dataloader, test_dataloader, data_generator = ut.get_MNIST_dataloaders(sub_dataloader_size=20_000)"
   ]
  },
  {
   "cell_type": "code",
   "execution_count": null,
   "metadata": {},
   "outputs": [],
   "source": [
    "# Build network\n",
    "network_name = \"EIANN_1_hidden_mnist_vanBP\"\n",
    "config_path = f\"../network_config/MNIST_templates/{network_name}.yaml\"\n",
    "saved_network_path = f\"saved_networks/{network_name}.pkl\"\n",
    "bp = ut.build_EIANN_from_config(config_path, network_seed=66049)\n",
    "\n",
    "# Train network\n",
    "data_seed = 257\n",
    "data_generator.manual_seed(data_seed)\n",
    "bp.train(train_sub_dataloader, \n",
    "                test_dataloader, \n",
    "                epochs=1,\n",
    "                val_interval=(0,-1,500),\n",
    "                store_history=True, \n",
    "                store_params=True,\n",
    "                status_bar=True)\n",
    "ut.save_network(bp, path=saved_network_path)\n",
    "\n",
    "bp_network = ut.load_network(saved_network_path)"
   ]
  },
  {
   "cell_type": "code",
   "execution_count": null,
   "metadata": {
    "scrolled": true
   },
   "outputs": [],
   "source": [
    "plt.plot(bp_network.val_loss_history)"
   ]
  },
  {
   "cell_type": "code",
   "execution_count": null,
   "metadata": {
    "scrolled": true
   },
   "outputs": [],
   "source": [
    "pt.plot_batch_accuracy(bp_network, test_dataloader, population='all')"
   ]
  },
  {
   "cell_type": "markdown",
   "metadata": {},
   "source": [
    "### Spiral Networks"
   ]
  },
  {
   "cell_type": "code",
   "execution_count": null,
   "metadata": {},
   "outputs": [],
   "source": [
    "spiral_train_dataloader, spiral_val_dataloader, spiral_test_dataloader, spiral_data_generator = ut.get_spiral_dataloaders(N=2000)\n",
    "\n",
    "# Build network\n",
    "network_name = \"EIANN_2_hidden_spiral_dend_EI_contrast_learned_bias\"\n",
    "config_path = f\"../network_config/spiral/{network_name}.yaml\"\n",
    "saved_network_path = f\"../saved_networks/{network_name}.pkl\"\n",
    "spiral_bp = ut.build_EIANN_from_config(config_path, network_seed=0)\n",
    "\n",
    "# Train network\n",
    "data_seed = 1\n",
    "spiral_data_generator.manual_seed(data_seed)\n",
    "spiral_bp.train(spiral_train_dataloader, \n",
    "                spiral_test_dataloader, \n",
    "                epochs=1,\n",
    "                val_interval=(0,-1,500),\n",
    "                store_history=True, \n",
    "                store_params=True,\n",
    "                status_bar=True)\n",
    "# ut.save_network(spiral_bp, path=saved_network_path)\n",
    "# spiral_bp_net = ut.load_network(saved_network_path)"
   ]
  },
  {
   "cell_type": "code",
   "execution_count": null,
   "metadata": {},
   "outputs": [],
   "source": [
    "pt.plot_batch_accuracy(spiral_bp, spiral_test_dataloader, population='all')"
   ]
  },
  {
   "cell_type": "code",
   "execution_count": null,
   "metadata": {},
   "outputs": [],
   "source": [
    "plt.figure()\n",
    "plt.imshow(spiral_bp.H1.E.forward_dendritic_state_history, aspect='auto', interpolation='none')\n",
    "plt.colorbar()"
   ]
  },
  {
   "cell_type": "code",
   "execution_count": null,
   "metadata": {},
   "outputs": [],
   "source": [
    "plt.figure()\n",
    "plt.plot(torch.mean(spiral_bp.H1.E.forward_dendritic_state_history, dim=1))"
   ]
  },
  {
   "cell_type": "code",
   "execution_count": null,
   "metadata": {},
   "outputs": [],
   "source": [
    "plt.figure()\n",
    "# plt.plot(torch.mean(torch.abs(spiral_bp.H2.E.forward_dendritic_state_history), dim=1))\n",
    "plt.imshow(spiral_bp.H2.E.forward_dendritic_state_history.T, aspect='auto', interpolation='none')\n",
    "plt.colorbar()"
   ]
  },
  {
   "cell_type": "code",
   "execution_count": null,
   "metadata": {},
   "outputs": [],
   "source": [
    "plt.figure()\n",
    "# plt.plot(torch.mean(spiral_bp.Output.E.plateau_history, dim=1))\n",
    "plt.imshow(spiral_bp.Output.E.plateau_history.T, aspect='auto', interpolation='none')\n",
    "# plt.xlim(0, 1000)\n",
    "plt.colorbar()"
   ]
  },
  {
   "cell_type": "code",
   "execution_count": null,
   "metadata": {},
   "outputs": [],
   "source": [
    "plt.figure()\n",
    "# plt.plot(torch.mean(spiral_bp.Output.E.plateau_history, dim=1))\n",
    "plt.imshow(spiral_bp.Output.E.activity_history[-10:].T, aspect='auto', interpolation='none')\n",
    "# plt.xlim(0, 10)\n",
    "plt.colorbar()"
   ]
  },
  {
   "cell_type": "code",
   "execution_count": null,
   "metadata": {},
   "outputs": [],
   "source": [
    "plt.figure()\n",
    "plt.plot(torch.mean(spiral_bp.H2.E.H2.E.weight_history, dim=(1,2)))"
   ]
  },
  {
   "cell_type": "code",
   "execution_count": null,
   "metadata": {},
   "outputs": [],
   "source": [
    "spiral_bp.H2.E.attribute_history_dict.keys()"
   ]
  },
  {
   "cell_type": "code",
   "execution_count": null,
   "metadata": {},
   "outputs": [],
   "source": [
    "plt.plot(spiral_bp.val_loss_history)"
   ]
  },
  {
   "cell_type": "code",
   "execution_count": null,
   "metadata": {},
   "outputs": [],
   "source": [
    "plt.plot(spiral_bp.loss_history)"
   ]
  },
  {
   "cell_type": "code",
   "execution_count": null,
   "metadata": {},
   "outputs": [],
   "source": [
    "index, data, label = next(iter(spiral_test_dataloader))\n",
    "\n",
    "print(spiral_bp.forward(data))\n",
    "print(label)"
   ]
  },
  {
   "cell_type": "code",
   "execution_count": null,
   "metadata": {},
   "outputs": [],
   "source": [
    "plt.plot(label[:,1])"
   ]
  },
  {
   "cell_type": "code",
   "execution_count": null,
   "metadata": {},
   "outputs": [],
   "source": []
  }
 ],
 "metadata": {
  "kernelspec": {
   "display_name": "eiann",
   "language": "python",
   "name": "python3"
  },
  "language_info": {
   "codemirror_mode": {
    "name": "ipython",
    "version": 3
   },
   "file_extension": ".py",
   "mimetype": "text/x-python",
   "name": "python",
   "nbconvert_exporter": "python",
   "pygments_lexer": "ipython3",
   "version": "3.11.9"
  }
 },
 "nbformat": 4,
 "nbformat_minor": 4
}
