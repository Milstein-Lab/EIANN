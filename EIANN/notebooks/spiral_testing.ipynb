{
 "cells": [
  {
   "cell_type": "code",
   "execution_count": null,
   "metadata": {},
   "outputs": [],
   "source": [
    "import torch\n",
    "import matplotlib.pyplot as plt\n",
    "import EIANN.utils as ut\n",
    "import EIANN.plot as pt\n",
    "import EIANN._network as nt\n",
    "\n",
    "from tqdm.autonotebook import tqdm\n",
    "import numpy as np\n",
    "import matplotlib.gridspec as gs\n",
    "%load_ext autoreload\n",
    "%autoreload 2\n",
    "\n",
    "pt.update_plot_defaults()"
   ]
  },
  {
   "cell_type": "markdown",
   "metadata": {},
   "source": [
    "### MNIST Networks"
   ]
  },
  {
   "cell_type": "code",
   "execution_count": null,
   "metadata": {},
   "outputs": [],
   "source": [
    "train_dataloader, train_sub_dataloader, val_dataloader, test_dataloader, data_generator = ut.get_MNIST_dataloaders(sub_dataloader_size=20_000)"
   ]
  },
  {
   "cell_type": "code",
   "execution_count": null,
   "metadata": {},
   "outputs": [],
   "source": [
    "# Build network\n",
    "network_name = \"EIANN_1_hidden_mnist_vanBP\"\n",
    "config_path = f\"../network_config/MNIST_templates/{network_name}.yaml\"\n",
    "saved_network_path = f\"saved_networks/{network_name}.pkl\"\n",
    "bp = ut.build_EIANN_from_config(config_path, network_seed=66049)\n",
    "\n",
    "# Train network\n",
    "data_seed = 257\n",
    "data_generator.manual_seed(data_seed)\n",
    "bp.train(train_sub_dataloader, \n",
    "                test_dataloader, \n",
    "                epochs=1,\n",
    "                val_interval=(0,-1,500),\n",
    "                store_history=True, \n",
    "                store_params=True,\n",
    "                status_bar=True)\n",
    "ut.save_network(bp, path=saved_network_path)\n",
    "\n",
    "bp_network = ut.load_network(saved_network_path)"
   ]
  },
  {
   "cell_type": "code",
   "execution_count": null,
   "metadata": {
    "scrolled": true
   },
   "outputs": [],
   "source": [
    "plt.plot(bp_network.val_loss_history)"
   ]
  },
  {
   "cell_type": "code",
   "execution_count": null,
   "metadata": {
    "scrolled": true
   },
   "outputs": [],
   "source": [
    "pt.plot_batch_accuracy(bp_network, test_dataloader, population='all')"
   ]
  },
  {
   "cell_type": "markdown",
   "metadata": {},
   "source": [
    "### Spiral Networks"
   ]
  },
  {
   "cell_type": "code",
   "execution_count": null,
   "metadata": {},
   "outputs": [],
   "source": [
    "spiral_train_dataloader, spiral_val_dataloader, spiral_test_dataloader, spiral_data_generator = ut.get_spiral_dataloaders(N=2000)\n",
    "\n",
    "# Build network\n",
    "network_name = \"EIANN_2_hidden_spiral_BP_like_5J_fixed_bias\"\n",
    "config_path = f\"../network_config/spiral/{network_name}.yaml\" # For optimized network_config files\n",
    "# config_path = f\"../optimize/network_config/spiral/{network_name}.yaml\" # For network_config files to be optimized\n",
    "saved_network_path = f\"../saved_networks/{network_name}.pkl\"\n",
    "spiral_net = ut.build_EIANN_from_config(config_path, network_seed=0)\n",
    "\n",
    "# Train network\n",
    "data_seed = 1\n",
    "spiral_data_generator.manual_seed(data_seed)\n",
    "spiral_net.train(spiral_train_dataloader, \n",
    "                spiral_test_dataloader, \n",
    "                epochs=1,\n",
    "                val_interval=(0,-1,500),\n",
    "                store_history=True,\n",
    "                store_dynamics=False, \n",
    "                store_params=True,\n",
    "                status_bar=True)\n",
    "# ut.save_network(spiral_net, path=saved_network_path)\n",
    "# network = ut.load_network(saved_network_path)"
   ]
  },
  {
   "cell_type": "code",
   "execution_count": null,
   "metadata": {},
   "outputs": [],
   "source": [
    "pt.plot_batch_accuracy(spiral_net, spiral_test_dataloader, population='all')"
   ]
  },
  {
   "cell_type": "code",
   "execution_count": null,
   "metadata": {},
   "outputs": [],
   "source": [
    "pt.plot_spiral_accuracy(spiral_net, spiral_test_dataloader)"
   ]
  },
  {
   "cell_type": "code",
   "execution_count": null,
   "metadata": {},
   "outputs": [],
   "source": [
    "pt.plot_network_dynamics(spiral_net)"
   ]
  },
  {
   "cell_type": "code",
   "execution_count": null,
   "metadata": {},
   "outputs": [],
   "source": [
    "percent_correct, average_pop_activity_dict = ut.compute_test_activity(spiral_net, spiral_test_dataloader, sort=True)"
   ]
  },
  {
   "cell_type": "code",
   "execution_count": null,
   "metadata": {},
   "outputs": [],
   "source": [
    "average_pop_activity_dict['InputE']"
   ]
  },
  {
   "cell_type": "code",
   "execution_count": null,
   "metadata": {},
   "outputs": [],
   "source": [
    "spiral_net.Input.E.activity_history"
   ]
  },
  {
   "cell_type": "code",
   "execution_count": null,
   "metadata": {},
   "outputs": [],
   "source": [
    "# Test batch inputs\n",
    "inputs = spiral_net.Input.E.activity\n",
    "inputs"
   ]
  },
  {
   "cell_type": "code",
   "execution_count": null,
   "metadata": {},
   "outputs": [],
   "source": [
    "# Predicted labels\n",
    "\n",
    "outputs = spiral_net.Output.E.activity\n",
    "_, predicted = torch.max(outputs, 1)\n",
    "predicted"
   ]
  },
  {
   "cell_type": "code",
   "execution_count": null,
   "metadata": {},
   "outputs": [],
   "source": [
    "dataloader_iter = spiral_test_dataloader\n",
    "on_device = False\n",
    "\n",
    "for sample_idx, sample_data, sample_target in dataloader_iter:\n",
    "    sample_data = torch.squeeze(sample_data)\n",
    "    sample_target = torch.squeeze(sample_target)\n",
    "    if not on_device:\n",
    "        if sample_data.device == spiral_net.device:\n",
    "            on_device = True\n",
    "        else:\n",
    "            sample_data = sample_data.to(spiral_net.device)\n",
    "            sample_target = sample_target.to(spiral_net.device)\n",
    "\n",
    "            print(sample_data)\n",
    "            print(sample_target)\n",
    "            \n",
    "    break\n",
    "\n",
    "# sample_target has the test labels"
   ]
  },
  {
   "cell_type": "code",
   "execution_count": null,
   "metadata": {},
   "outputs": [],
   "source": [
    "sample_target"
   ]
  },
  {
   "cell_type": "code",
   "execution_count": null,
   "metadata": {},
   "outputs": [],
   "source": [
    "# Test labels\n",
    "\n",
    "_, test_labels = torch.max(sample_target, 1)\n",
    "test_labels"
   ]
  },
  {
   "cell_type": "code",
   "execution_count": null,
   "metadata": {},
   "outputs": [],
   "source": [
    "# Check to see if we found right things (we did)\n",
    "\n",
    "correct = (test_labels == predicted).sum().item()\n",
    "total = test_labels.size(0)\n",
    "accuracy = correct / total\n",
    "accuracy"
   ]
  },
  {
   "cell_type": "code",
   "execution_count": null,
   "metadata": {},
   "outputs": [],
   "source": [
    "plt.figure()\n",
    "plt.imshow(spiral_net.H1.E.forward_dendritic_state_history, aspect='auto', interpolation='none')\n",
    "plt.colorbar()"
   ]
  },
  {
   "cell_type": "code",
   "execution_count": null,
   "metadata": {},
   "outputs": [],
   "source": [
    "plt.figure()\n",
    "plt.plot(torch.mean(spiral_net.H1.E.forward_dendritic_state_history, dim=1))"
   ]
  },
  {
   "cell_type": "code",
   "execution_count": null,
   "metadata": {},
   "outputs": [],
   "source": [
    "plt.figure()\n",
    "# plt.plot(torch.mean(torch.abs(spiral_bp.H2.E.forward_dendritic_state_history), dim=1))\n",
    "plt.imshow(spiral_net.H2.E.forward_dendritic_state_history.T, aspect='auto', interpolation='none')\n",
    "plt.colorbar()"
   ]
  },
  {
   "cell_type": "code",
   "execution_count": null,
   "metadata": {},
   "outputs": [],
   "source": [
    "plt.figure()\n",
    "# plt.plot(torch.mean(spiral_bp.Output.E.plateau_history, dim=1))\n",
    "plt.imshow(spiral_net.Output.E.plateau_history.T, aspect='auto', interpolation='none')\n",
    "# plt.xlim(0, 1000)\n",
    "plt.colorbar()"
   ]
  },
  {
   "cell_type": "code",
   "execution_count": null,
   "metadata": {},
   "outputs": [],
   "source": [
    "plt.figure()\n",
    "# plt.plot(torch.mean(spiral_bp.Output.E.plateau_history, dim=1))\n",
    "plt.imshow(spiral_net.Output.E.activity_history[-10:].T, aspect='auto', interpolation='none')\n",
    "# plt.xlim(0, 10)\n",
    "plt.colorbar()"
   ]
  },
  {
   "cell_type": "code",
   "execution_count": null,
   "metadata": {},
   "outputs": [],
   "source": [
    "plt.figure()\n",
    "plt.plot(torch.mean(spiral_net.H2.E.H2.E.weight_history, dim=(1,2)))"
   ]
  },
  {
   "cell_type": "code",
   "execution_count": null,
   "metadata": {},
   "outputs": [],
   "source": [
    "spiral_net.H2.E.attribute_history_dict.keys()"
   ]
  },
  {
   "cell_type": "code",
   "execution_count": null,
   "metadata": {},
   "outputs": [],
   "source": [
    "plt.plot(spiral_net.val_loss_history)"
   ]
  },
  {
   "cell_type": "code",
   "execution_count": null,
   "metadata": {},
   "outputs": [],
   "source": [
    "plt.plot(spiral_net.loss_history)"
   ]
  },
  {
   "cell_type": "code",
   "execution_count": null,
   "metadata": {},
   "outputs": [],
   "source": [
    "index, data, label = next(iter(spiral_test_dataloader))\n",
    "\n",
    "print(spiral_net.forward(data))\n",
    "print(label)"
   ]
  },
  {
   "cell_type": "code",
   "execution_count": null,
   "metadata": {},
   "outputs": [],
   "source": [
    "plt.plot(label[:,1])"
   ]
  },
  {
   "cell_type": "code",
   "execution_count": null,
   "metadata": {},
   "outputs": [],
   "source": []
  }
 ],
 "metadata": {
  "kernelspec": {
   "display_name": "eiann",
   "language": "python",
   "name": "python3"
  },
  "language_info": {
   "codemirror_mode": {
    "name": "ipython",
    "version": 3
   },
   "file_extension": ".py",
   "mimetype": "text/x-python",
   "name": "python",
   "nbconvert_exporter": "python",
   "pygments_lexer": "ipython3",
   "version": "3.11.9"
  }
 },
 "nbformat": 4,
 "nbformat_minor": 4
}
