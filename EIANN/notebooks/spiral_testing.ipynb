{
 "cells": [
  {
   "cell_type": "code",
   "execution_count": 1,
   "metadata": {},
   "outputs": [
    {
     "name": "stderr",
     "output_type": "stream",
     "text": [
      "C:\\Yash Dev\\EIANN\\EIANN\\utils\\data_utils.py:7: TqdmWarning: IProgress not found. Please update jupyter and ipywidgets. See https://ipywidgets.readthedocs.io/en/stable/user_install.html\n",
      "  from tqdm.autonotebook import tqdm\n"
     ]
    }
   ],
   "source": [
    "import torch\n",
    "import matplotlib.pyplot as plt\n",
    "import EIANN.utils as ut\n",
    "import EIANN.plot as pt\n",
    "import EIANN._network as nt\n",
    "import EIANN.generate_figures as gf\n",
    "\n",
    "from tqdm.autonotebook import tqdm\n",
    "import numpy as np\n",
    "import matplotlib.gridspec as gs\n",
    "%load_ext autoreload\n",
    "%autoreload 2\n",
    "\n",
    "pt.update_plot_defaults()"
   ]
  },
  {
   "cell_type": "markdown",
   "metadata": {},
   "source": [
    "### MNIST Networks"
   ]
  },
  {
   "cell_type": "code",
   "execution_count": null,
   "metadata": {},
   "outputs": [],
   "source": [
    "train_dataloader, train_sub_dataloader, val_dataloader, test_dataloader, data_generator = ut.get_MNIST_dataloaders(sub_dataloader_size=20_000)"
   ]
  },
  {
   "cell_type": "code",
   "execution_count": null,
   "metadata": {},
   "outputs": [],
   "source": [
    "# Build network\n",
    "network_name = \"EIANN_1_hidden_mnist_vanBP\"\n",
    "config_path = f\"../network_config/MNIST_templates/{network_name}.yaml\"\n",
    "saved_network_path = f\"saved_networks/{network_name}.pkl\"\n",
    "bp_net = ut.build_EIANN_from_config(config_path, network_seed=66049)\n",
    "\n",
    "# Train network\n",
    "data_seed = 257\n",
    "data_generator.manual_seed(data_seed)\n",
    "bp_net.train(train_sub_dataloader, \n",
    "                test_dataloader, \n",
    "                epochs=1,\n",
    "                val_interval=(0,-1,500),\n",
    "                store_history=True, \n",
    "                store_params=True,\n",
    "                status_bar=True)\n",
    "ut.save_network(bp_net, path=saved_network_path)\n",
    "\n",
    "bp_network = ut.load_network(saved_network_path)"
   ]
  },
  {
   "cell_type": "code",
   "execution_count": null,
   "metadata": {
    "scrolled": true
   },
   "outputs": [],
   "source": [
    "plt.plot(bp_network.val_loss_history)"
   ]
  },
  {
   "cell_type": "code",
   "execution_count": null,
   "metadata": {
    "scrolled": true
   },
   "outputs": [],
   "source": [
    "pt.plot_batch_accuracy(bp_network, test_dataloader, population='all')"
   ]
  },
  {
   "cell_type": "markdown",
   "metadata": {},
   "source": [
    "### Spiral Networks"
   ]
  },
  {
   "cell_type": "code",
   "execution_count": null,
   "metadata": {},
   "outputs": [
    {
     "data": {
      "text/plain": [
       "<torch._C.Generator at 0x14dc6838ef0>"
      ]
     },
     "execution_count": 2,
     "metadata": {},
     "output_type": "execute_result"
    }
   ],
   "source": [
    "spiral_train_dataloader, spiral_val_dataloader, spiral_test_dataloader, spiral_data_generator = ut.get_spiral_dataloaders(points_per_spiral_arm=2000)\n",
    "\n",
    "# Build network\n",
    "network_name = \"EIANN_2_hidden_spiral_bpDale_learned_bias\"\n",
    "config_path = f\"../network_config/spiral/{network_name}.yaml\" # For optimized network_config files\n",
    "# config_path = f\"../optimize/network_config/spiral/{network_name}.yaml\" # For network_config files to be optimized\n",
    "saved_network_path = f\"../saved_networks/{network_name}.pkl\"\n",
    "spiral_net = ut.build_EIANN_from_config(config_path, network_seed=0)\n",
    "\n",
    "# Train network\n",
    "data_seed = 1\n",
    "spiral_data_generator.manual_seed(data_seed)\n",
    "spiral_net.train(spiral_train_dataloader, \n",
    "                spiral_test_dataloader, \n",
    "                epochs=1,\n",
    "                val_interval=(0,-1,500),\n",
    "                store_history=True,\n",
    "                store_dynamics=True, \n",
    "                store_params=True,\n",
    "                status_bar=True)\n",
    "# ut.save_network(spiral_net, path=saved_network_path)\n",
    "# network = ut.load_network(saved_network_path)"
   ]
  },
  {
   "cell_type": "code",
   "execution_count": null,
   "metadata": {},
   "outputs": [],
   "source": [
    "pt.plot_batch_accuracy(spiral_net, spiral_test_dataloader, population='all')"
   ]
  },
  {
   "cell_type": "code",
   "execution_count": null,
   "metadata": {},
   "outputs": [],
   "source": [
    "pt.plot_spiral_accuracy(spiral_net, spiral_test_dataloader)"
   ]
  },
  {
   "cell_type": "code",
   "execution_count": null,
   "metadata": {},
   "outputs": [],
   "source": [
    "net1_params = set(bp_net.state_dict().keys())\n",
    "net1_params"
   ]
  },
  {
   "cell_type": "code",
   "execution_count": null,
   "metadata": {},
   "outputs": [],
   "source": [
    "net2_params = set(spiral_net.state_dict().keys())\n",
    "net2_params"
   ]
  },
  {
   "cell_type": "code",
   "execution_count": null,
   "metadata": {},
   "outputs": [],
   "source": [
    "for param1, param2 in zip(net1_params, net2_params):\n",
    "    if param1 != param2:\n",
    "        print(f\"Param mismatch: {param1} != {param2}\")"
   ]
  },
  {
   "cell_type": "code",
   "execution_count": null,
   "metadata": {},
   "outputs": [],
   "source": [
    "spiral_net2 = ut.build_EIANN_from_config(config_path, network_seed=0)"
   ]
  },
  {
   "cell_type": "code",
   "execution_count": null,
   "metadata": {},
   "outputs": [],
   "source": [
    "import EIANN.generate_figures as gf"
   ]
  },
  {
   "cell_type": "code",
   "execution_count": null,
   "metadata": {},
   "outputs": [],
   "source": [
    "net1_module_dict_keys = list(spiral_net.module_dict.keys())\n",
    "net1_parameter_dict_keys = list(spiral_net.parameter_dict.keys())\n",
    "net2_module_dict_keys = list(spiral_net2.module_dict.keys())\n",
    "net2_parameter_dict_keys = list(spiral_net2.parameter_dict.keys())"
   ]
  },
  {
   "cell_type": "code",
   "execution_count": null,
   "metadata": {},
   "outputs": [],
   "source": [
    "net1_module_dict_keys\n",
    "print(net1_module_dict_keys)\n",
    "net2_module_dict_keys\n",
    "print(net2_module_dict_keys)"
   ]
  },
  {
   "cell_type": "code",
   "execution_count": null,
   "metadata": {},
   "outputs": [],
   "source": [
    "net1_module_dict_keys == net2_module_dict_keys"
   ]
  },
  {
   "cell_type": "code",
   "execution_count": null,
   "metadata": {},
   "outputs": [],
   "source": [
    "net1_parameter_dict_keys == net2_parameter_dict_keys"
   ]
  },
  {
   "cell_type": "code",
   "execution_count": null,
   "metadata": {},
   "outputs": [],
   "source": [
    "net1_params = set(spiral_net.state_dict().keys())\n",
    "net2_params = set(spiral_net2.state_dict().keys())\n",
    "\n",
    "for key in spiral_net.state_dict():\n",
    "    param1_shape = spiral_net.state_dict()[key].shape\n",
    "    param2_shape = spiral_net2.state_dict()[key].shape\n",
    "    if param1_shape != param2_shape:\n",
    "        print(f'Mismatch in {key}: {param1_shape} != {param2_shape}')\n",
    "print('No mismatches found')"
   ]
  },
  {
   "cell_type": "code",
   "execution_count": null,
   "metadata": {},
   "outputs": [],
   "source": [
    "# net1 = ut.build_EIANN_from_config(\"../network_config/spiral/20250108_EIANN_2_hidden_spiral_BP_like_1_fixed_SomaI_learned_bias_config_complete_optimized.yaml\", network_seed=0)\n",
    "# net1 = ut.build_EIANN_from_config(config_path, network_seed=0)\n",
    "net1 = ut.build_EIANN_from_config('../network_config/spiral/20250108_EIANN_0_hidden_spiral_van_bp_relu_learned_bias_config_complete_optimized.yaml', network_seed=0)\n",
    "net2 = ut.build_EIANN_from_config(config_path, network_seed=0)"
   ]
  },
  {
   "cell_type": "code",
   "execution_count": null,
   "metadata": {},
   "outputs": [],
   "source": [
    "gf.compare_networks(net1, net2)"
   ]
  },
  {
   "cell_type": "code",
   "execution_count": null,
   "metadata": {},
   "outputs": [],
   "source": [
    "net1_state_dict = net1.state_dict()\n",
    "net2_state_dict = {name:param for name, param in net1_state_dict.items() if name in net2.state_dict()}\n",
    "\n",
    "print(net1_state_dict.keys())\n",
    "print(net2_state_dict.keys())"
   ]
  },
  {
   "cell_type": "code",
   "execution_count": null,
   "metadata": {},
   "outputs": [],
   "source": [
    "net1_params"
   ]
  },
  {
   "cell_type": "code",
   "execution_count": null,
   "metadata": {},
   "outputs": [],
   "source": [
    "net2_params"
   ]
  },
  {
   "cell_type": "code",
   "execution_count": null,
   "metadata": {},
   "outputs": [],
   "source": [
    "decision_data = ut.compute_spiral_decisions_data(spiral_net, spiral_test_dataloader)\n",
    "pt.plot_spiral_decisions(decision_data, graph='scatter')"
   ]
  },
  {
   "cell_type": "code",
   "execution_count": null,
   "metadata": {},
   "outputs": [],
   "source": [
    "decision_data"
   ]
  },
  {
   "cell_type": "code",
   "execution_count": null,
   "metadata": {},
   "outputs": [],
   "source": [
    "pt.plot_network_dynamics(spiral_net)"
   ]
  },
  {
   "cell_type": "code",
   "execution_count": null,
   "metadata": {},
   "outputs": [],
   "source": [
    "percent_correct, average_pop_activity_dict = ut.compute_test_activity(spiral_net, spiral_test_dataloader, sort=True)"
   ]
  },
  {
   "cell_type": "code",
   "execution_count": null,
   "metadata": {},
   "outputs": [],
   "source": [
    "average_pop_activity_dict['InputE']"
   ]
  },
  {
   "cell_type": "code",
   "execution_count": null,
   "metadata": {},
   "outputs": [],
   "source": [
    "spiral_net.Input.E.activity_history"
   ]
  },
  {
   "cell_type": "code",
   "execution_count": null,
   "metadata": {},
   "outputs": [],
   "source": [
    "# Test batch inputs\n",
    "inputs = spiral_net.Input.E.activity\n",
    "inputs"
   ]
  },
  {
   "cell_type": "code",
   "execution_count": null,
   "metadata": {},
   "outputs": [],
   "source": [
    "# Predicted labels\n",
    "\n",
    "outputs = spiral_net.Output.E.activity\n",
    "_, predicted = torch.max(outputs, 1)\n",
    "predicted"
   ]
  },
  {
   "cell_type": "code",
   "execution_count": null,
   "metadata": {},
   "outputs": [],
   "source": [
    "dataloader_iter = spiral_test_dataloader\n",
    "on_device = False\n",
    "\n",
    "for sample_idx, sample_data, sample_target in dataloader_iter:\n",
    "    sample_data = torch.squeeze(sample_data)\n",
    "    sample_target = torch.squeeze(sample_target)\n",
    "    if not on_device:\n",
    "        if sample_data.device == spiral_net.device:\n",
    "            on_device = True\n",
    "        else:\n",
    "            sample_data = sample_data.to(spiral_net.device)\n",
    "            sample_target = sample_target.to(spiral_net.device)\n",
    "\n",
    "            print(sample_data)\n",
    "            print(sample_target)\n",
    "            \n",
    "    break\n",
    "\n",
    "# sample_target has the test labels"
   ]
  },
  {
   "cell_type": "code",
   "execution_count": null,
   "metadata": {},
   "outputs": [],
   "source": [
    "sample_target"
   ]
  },
  {
   "cell_type": "code",
   "execution_count": null,
   "metadata": {},
   "outputs": [],
   "source": [
    "# Test labels\n",
    "\n",
    "_, test_labels = torch.max(sample_target, 1)\n",
    "test_labels"
   ]
  },
  {
   "cell_type": "code",
   "execution_count": null,
   "metadata": {},
   "outputs": [],
   "source": [
    "# Check to see if we found right things (we did)\n",
    "\n",
    "correct = (test_labels == predicted).sum().item()\n",
    "total = test_labels.size(0)\n",
    "accuracy = correct / total\n",
    "accuracy"
   ]
  },
  {
   "cell_type": "code",
   "execution_count": null,
   "metadata": {},
   "outputs": [],
   "source": [
    "plt.figure()\n",
    "plt.imshow(spiral_net.H1.E.forward_dendritic_state_history, aspect='auto', interpolation='none')\n",
    "plt.colorbar()"
   ]
  },
  {
   "cell_type": "code",
   "execution_count": null,
   "metadata": {},
   "outputs": [],
   "source": [
    "plt.figure()\n",
    "plt.plot(torch.mean(spiral_net.H1.E.forward_dendritic_state_history, dim=1))"
   ]
  },
  {
   "cell_type": "code",
   "execution_count": null,
   "metadata": {},
   "outputs": [],
   "source": [
    "plt.figure()\n",
    "# plt.plot(torch.mean(torch.abs(spiral_bp.H2.E.forward_dendritic_state_history), dim=1))\n",
    "plt.imshow(spiral_net.H2.E.forward_dendritic_state_history.T, aspect='auto', interpolation='none')\n",
    "plt.colorbar()"
   ]
  },
  {
   "cell_type": "code",
   "execution_count": null,
   "metadata": {},
   "outputs": [],
   "source": [
    "plt.figure()\n",
    "# plt.plot(torch.mean(spiral_bp.Output.E.plateau_history, dim=1))\n",
    "plt.imshow(spiral_net.Output.E.plateau_history.T, aspect='auto', interpolation='none')\n",
    "# plt.xlim(0, 1000)\n",
    "plt.colorbar()"
   ]
  },
  {
   "cell_type": "code",
   "execution_count": null,
   "metadata": {},
   "outputs": [],
   "source": [
    "plt.figure()\n",
    "# plt.plot(torch.mean(spiral_bp.Output.E.plateau_history, dim=1))\n",
    "plt.imshow(spiral_net.Output.E.activity_history[-10:].T, aspect='auto', interpolation='none')\n",
    "# plt.xlim(0, 10)\n",
    "plt.colorbar()"
   ]
  },
  {
   "cell_type": "code",
   "execution_count": null,
   "metadata": {},
   "outputs": [],
   "source": [
    "plt.figure()\n",
    "plt.plot(torch.mean(spiral_net.H2.E.H2.E.weight_history, dim=(1,2)))"
   ]
  },
  {
   "cell_type": "code",
   "execution_count": null,
   "metadata": {},
   "outputs": [],
   "source": [
    "spiral_net.H2.E.attribute_history_dict.keys()"
   ]
  },
  {
   "cell_type": "code",
   "execution_count": null,
   "metadata": {},
   "outputs": [],
   "source": [
    "plt.plot(spiral_net.val_loss_history)"
   ]
  },
  {
   "cell_type": "code",
   "execution_count": null,
   "metadata": {},
   "outputs": [],
   "source": [
    "plt.plot(spiral_net.loss_history)"
   ]
  },
  {
   "cell_type": "code",
   "execution_count": null,
   "metadata": {},
   "outputs": [],
   "source": [
    "index, data, label = next(iter(spiral_test_dataloader))\n",
    "\n",
    "print(spiral_net.forward(data))\n",
    "print(label)"
   ]
  },
  {
   "cell_type": "code",
   "execution_count": null,
   "metadata": {},
   "outputs": [],
   "source": [
    "plt.plot(label[:,1])"
   ]
  },
  {
   "cell_type": "code",
   "execution_count": null,
   "metadata": {},
   "outputs": [],
   "source": [
    "ut.compute_test_activity(spiral_net, spiral_test_dataloader, sort=False)"
   ]
  },
  {
   "cell_type": "code",
   "execution_count": 4,
   "metadata": {},
   "outputs": [
    {
     "data": {
      "text/plain": [
       "{'layer_config': {'Input': {'E': {'size': 2}},\n",
       "  'H1': {'E': {'size': 128,\n",
       "    'activation': 'relu',\n",
       "    'include_bias': True,\n",
       "    'bias_learning_rule': 'Backprop',\n",
       "    'bias_learning_rule_kwargs': {'learning_rate': 0.0023723741273216116}},\n",
       "   'SomaI': {'size': 32, 'activation': 'relu'}},\n",
       "  'H2': {'E': {'size': 32,\n",
       "    'activation': 'relu',\n",
       "    'include_bias': True,\n",
       "    'bias_learning_rule': 'Backprop',\n",
       "    'bias_learning_rule_kwargs': {'learning_rate': 0.002384074673608417}},\n",
       "   'SomaI': {'size': 8, 'activation': 'relu'}},\n",
       "  'Output': {'E': {'size': 4,\n",
       "    'activation': 'relu',\n",
       "    'include_bias': True,\n",
       "    'bias_learning_rule': 'Backprop',\n",
       "    'bias_learning_rule_kwargs': {'learning_rate': 0.008060654677551906}},\n",
       "   'SomaI': {'size': 4, 'activation': 'relu'}}},\n",
       " 'projection_config': {'H1': {'E': {'Input': {'E': {'weight_init': 'half_kaiming',\n",
       "      'weight_init_args': (0.45341851689677354,),\n",
       "      'weight_bounds': [0, None],\n",
       "      'direction': 'F',\n",
       "      'learning_rule': 'Backprop',\n",
       "      'learning_rule_kwargs': {'learning_rate': 0.17515893364196825}}},\n",
       "    'H1': {'SomaI': {'weight_init': 'half_kaiming',\n",
       "      'weight_init_args': (0.07472398800493957,),\n",
       "      'weight_bounds': [None, 0],\n",
       "      'direction': 'R',\n",
       "      'learning_rule': 'Backprop',\n",
       "      'learning_rule_kwargs': {'learning_rate': 0.07836630590668701}}}},\n",
       "   'SomaI': {'Input': {'E': {'weight_init': 'half_kaiming',\n",
       "      'weight_init_args': (4.7663561644212695,),\n",
       "      'weight_bounds': [0, None],\n",
       "      'direction': 'F',\n",
       "      'learning_rule': 'Backprop',\n",
       "      'learning_rule_kwargs': {'learning_rate': 0.24925779245776264}}},\n",
       "    'H1': {'E': {'weight_init': 'half_kaiming',\n",
       "      'weight_init_args': (3.808885460644247,),\n",
       "      'weight_bounds': [0, None],\n",
       "      'direction': 'R',\n",
       "      'learning_rule': 'Backprop',\n",
       "      'learning_rule_kwargs': {'learning_rate': 0.24925779245776264}},\n",
       "     'SomaI': {'weight_init': 'half_kaiming',\n",
       "      'weight_init_args': (2.763489999934272,),\n",
       "      'weight_bounds': [None, 0],\n",
       "      'weight_constraint': 'no_autapses',\n",
       "      'direction': 'R',\n",
       "      'learning_rule': 'Backprop',\n",
       "      'learning_rule_kwargs': {'learning_rate': 0.15795094440809446}}}}},\n",
       "  'H2': {'E': {'H1': {'E': {'weight_init': 'half_kaiming',\n",
       "      'weight_init_args': (1.7446583559346398,),\n",
       "      'weight_bounds': [0, None],\n",
       "      'direction': 'F',\n",
       "      'learning_rule': 'Backprop',\n",
       "      'learning_rule_kwargs': {'learning_rate': 0.17515893364196825}}},\n",
       "    'H2': {'SomaI': {'weight_init': 'half_kaiming',\n",
       "      'weight_init_args': (2.380940376727865,),\n",
       "      'weight_bounds': [None, 0],\n",
       "      'direction': 'R',\n",
       "      'learning_rule': 'Backprop',\n",
       "      'learning_rule_kwargs': {'learning_rate': 0.07836630590668701}}}},\n",
       "   'SomaI': {'H1': {'E': {'weight_init': 'half_kaiming',\n",
       "      'weight_init_args': (2.0621350397176026,),\n",
       "      'weight_bounds': [0, None],\n",
       "      'direction': 'F',\n",
       "      'learning_rule': 'Backprop',\n",
       "      'learning_rule_kwargs': {'learning_rate': 0.24925779245776264}}},\n",
       "    'H2': {'E': {'weight_init': 'half_kaiming',\n",
       "      'weight_init_args': (1.3709140014148784,),\n",
       "      'weight_bounds': [0, None],\n",
       "      'direction': 'R',\n",
       "      'learning_rule': 'Backprop',\n",
       "      'learning_rule_kwargs': {'learning_rate': 0.24925779245776264}},\n",
       "     'SomaI': {'weight_init': 'half_kaiming',\n",
       "      'weight_init_args': (1.873646660129378,),\n",
       "      'weight_bounds': [None, 0],\n",
       "      'weight_constraint': 'no_autapses',\n",
       "      'direction': 'R',\n",
       "      'learning_rule': 'Backprop',\n",
       "      'learning_rule_kwargs': {'learning_rate': 0.15795094440809446}}}}},\n",
       "  'Output': {'E': {'H2': {'E': {'weight_init': 'half_kaiming',\n",
       "      'weight_init_args': (4.135808199833921,),\n",
       "      'weight_bounds': [0, None],\n",
       "      'direction': 'F',\n",
       "      'learning_rule': 'Backprop',\n",
       "      'learning_rule_kwargs': {'learning_rate': 0.370787917145862}}},\n",
       "    'Output': {'SomaI': {'weight_init': 'half_kaiming',\n",
       "      'weight_init_args': (0.18000609094170478,),\n",
       "      'weight_bounds': [None, 0],\n",
       "      'direction': 'R',\n",
       "      'learning_rule': 'Backprop',\n",
       "      'learning_rule_kwargs': {'learning_rate': 0.07836630590668701}}}},\n",
       "   'SomaI': {'H2': {'E': {'weight_init': 'half_kaiming',\n",
       "      'weight_init_args': (1.0407814652680418,),\n",
       "      'weight_bounds': [0, None],\n",
       "      'direction': 'F',\n",
       "      'learning_rule': 'Backprop',\n",
       "      'learning_rule_kwargs': {'learning_rate': 0.24925779245776264}}},\n",
       "    'Output': {'E': {'weight_init': 'half_kaiming',\n",
       "      'weight_init_args': (0.511680233881991,),\n",
       "      'weight_bounds': [0, None],\n",
       "      'direction': 'R',\n",
       "      'learning_rule': 'Backprop',\n",
       "      'learning_rule_kwargs': {'learning_rate': 0.24925779245776264}},\n",
       "     'SomaI': {'weight_init': 'half_kaiming',\n",
       "      'weight_init_args': (0.6118420054156947,),\n",
       "      'weight_bounds': [None, 0],\n",
       "      'weight_constraint': 'no_autapses',\n",
       "      'direction': 'R',\n",
       "      'learning_rule': 'Backprop',\n",
       "      'learning_rule_kwargs': {'learning_rate': 0.15795094440809446}}}}}},\n",
       " 'training_kwargs': {'tau': 3,\n",
       "  'forward_steps': 15,\n",
       "  'backward_steps': 3,\n",
       "  'learning_rate': 0.2,\n",
       "  'verbose': False,\n",
       "  'optimizer': 'SGD'}}"
      ]
     },
     "execution_count": 4,
     "metadata": {},
     "output_type": "execute_result"
    }
   ],
   "source": [
    "d = ut.read_from_yaml(config_path)\n",
    "d"
   ]
  },
  {
   "cell_type": "code",
   "execution_count": 6,
   "metadata": {},
   "outputs": [
    {
     "data": {
      "text/plain": [
       "{'H1': {'E': {'Input': {'E': {'weight_init': 'half_kaiming',\n",
       "     'weight_init_args': (0.45341851689677354,),\n",
       "     'weight_bounds': [0, None],\n",
       "     'direction': 'F',\n",
       "     'learning_rule': 'Backprop',\n",
       "     'learning_rule_kwargs': {'learning_rate': 0.17515893364196825}}},\n",
       "   'H1': {'SomaI': {'weight_init': 'half_kaiming',\n",
       "     'weight_init_args': (0.07472398800493957,),\n",
       "     'weight_bounds': [None, 0],\n",
       "     'direction': 'R',\n",
       "     'learning_rule': 'Backprop',\n",
       "     'learning_rule_kwargs': {'learning_rate': 0.07836630590668701}}}},\n",
       "  'SomaI': {'Input': {'E': {'weight_init': 'half_kaiming',\n",
       "     'weight_init_args': (4.7663561644212695,),\n",
       "     'weight_bounds': [0, None],\n",
       "     'direction': 'F',\n",
       "     'learning_rule': 'Backprop',\n",
       "     'learning_rule_kwargs': {'learning_rate': 0.24925779245776264}}},\n",
       "   'H1': {'E': {'weight_init': 'half_kaiming',\n",
       "     'weight_init_args': (3.808885460644247,),\n",
       "     'weight_bounds': [0, None],\n",
       "     'direction': 'R',\n",
       "     'learning_rule': 'Backprop',\n",
       "     'learning_rule_kwargs': {'learning_rate': 0.24925779245776264}},\n",
       "    'SomaI': {'weight_init': 'half_kaiming',\n",
       "     'weight_init_args': (2.763489999934272,),\n",
       "     'weight_bounds': [None, 0],\n",
       "     'weight_constraint': 'no_autapses',\n",
       "     'direction': 'R',\n",
       "     'learning_rule': 'Backprop',\n",
       "     'learning_rule_kwargs': {'learning_rate': 0.15795094440809446}}}}},\n",
       " 'H2': {'E': {'H1': {'E': {'weight_init': 'half_kaiming',\n",
       "     'weight_init_args': (1.7446583559346398,),\n",
       "     'weight_bounds': [0, None],\n",
       "     'direction': 'F',\n",
       "     'learning_rule': 'Backprop',\n",
       "     'learning_rule_kwargs': {'learning_rate': 0.17515893364196825}}},\n",
       "   'H2': {'SomaI': {'weight_init': 'half_kaiming',\n",
       "     'weight_init_args': (2.380940376727865,),\n",
       "     'weight_bounds': [None, 0],\n",
       "     'direction': 'R',\n",
       "     'learning_rule': 'Backprop',\n",
       "     'learning_rule_kwargs': {'learning_rate': 0.07836630590668701}}}},\n",
       "  'SomaI': {'H1': {'E': {'weight_init': 'half_kaiming',\n",
       "     'weight_init_args': (2.0621350397176026,),\n",
       "     'weight_bounds': [0, None],\n",
       "     'direction': 'F',\n",
       "     'learning_rule': 'Backprop',\n",
       "     'learning_rule_kwargs': {'learning_rate': 0.24925779245776264}}},\n",
       "   'H2': {'E': {'weight_init': 'half_kaiming',\n",
       "     'weight_init_args': (1.3709140014148784,),\n",
       "     'weight_bounds': [0, None],\n",
       "     'direction': 'R',\n",
       "     'learning_rule': 'Backprop',\n",
       "     'learning_rule_kwargs': {'learning_rate': 0.24925779245776264}},\n",
       "    'SomaI': {'weight_init': 'half_kaiming',\n",
       "     'weight_init_args': (1.873646660129378,),\n",
       "     'weight_bounds': [None, 0],\n",
       "     'weight_constraint': 'no_autapses',\n",
       "     'direction': 'R',\n",
       "     'learning_rule': 'Backprop',\n",
       "     'learning_rule_kwargs': {'learning_rate': 0.15795094440809446}}}}},\n",
       " 'Output': {'E': {'H2': {'E': {'weight_init': 'half_kaiming',\n",
       "     'weight_init_args': (4.135808199833921,),\n",
       "     'weight_bounds': [0, None],\n",
       "     'direction': 'F',\n",
       "     'learning_rule': 'Backprop',\n",
       "     'learning_rule_kwargs': {'learning_rate': 0.370787917145862}}},\n",
       "   'Output': {'SomaI': {'weight_init': 'half_kaiming',\n",
       "     'weight_init_args': (0.18000609094170478,),\n",
       "     'weight_bounds': [None, 0],\n",
       "     'direction': 'R',\n",
       "     'learning_rule': 'Backprop',\n",
       "     'learning_rule_kwargs': {'learning_rate': 0.07836630590668701}}}},\n",
       "  'SomaI': {'H2': {'E': {'weight_init': 'half_kaiming',\n",
       "     'weight_init_args': (1.0407814652680418,),\n",
       "     'weight_bounds': [0, None],\n",
       "     'direction': 'F',\n",
       "     'learning_rule': 'Backprop',\n",
       "     'learning_rule_kwargs': {'learning_rate': 0.24925779245776264}}},\n",
       "   'Output': {'E': {'weight_init': 'half_kaiming',\n",
       "     'weight_init_args': (0.511680233881991,),\n",
       "     'weight_bounds': [0, None],\n",
       "     'direction': 'R',\n",
       "     'learning_rule': 'Backprop',\n",
       "     'learning_rule_kwargs': {'learning_rate': 0.24925779245776264}},\n",
       "    'SomaI': {'weight_init': 'half_kaiming',\n",
       "     'weight_init_args': (0.6118420054156947,),\n",
       "     'weight_bounds': [None, 0],\n",
       "     'weight_constraint': 'no_autapses',\n",
       "     'direction': 'R',\n",
       "     'learning_rule': 'Backprop',\n",
       "     'learning_rule_kwargs': {'learning_rate': 0.15795094440809446}}}}}}"
      ]
     },
     "execution_count": 6,
     "metadata": {},
     "output_type": "execute_result"
    }
   ],
   "source": [
    "d['projection_config']"
   ]
  }
 ],
 "metadata": {
  "kernelspec": {
   "display_name": "eiann",
   "language": "python",
   "name": "python3"
  },
  "language_info": {
   "codemirror_mode": {
    "name": "ipython",
    "version": 3
   },
   "file_extension": ".py",
   "mimetype": "text/x-python",
   "name": "python",
   "nbconvert_exporter": "python",
   "pygments_lexer": "ipython3",
   "version": "3.11.9"
  }
 },
 "nbformat": 4,
 "nbformat_minor": 4
}
