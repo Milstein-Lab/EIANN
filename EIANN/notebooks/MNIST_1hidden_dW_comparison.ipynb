{
 "cells": [
  {
   "cell_type": "markdown",
   "metadata": {},
   "source": [
    "## Setup"
   ]
  },
  {
   "cell_type": "code",
   "execution_count": 3,
   "metadata": {
    "pycharm": {
     "name": "#%%\n"
    }
   },
   "outputs": [
    {
     "name": "stderr",
     "output_type": "stream",
     "text": [
      "/Users/ag1880/github-repos/Milstein-Lab/EIANN/EIANN/utils/data_utils.py:7: TqdmExperimentalWarning: Using `tqdm.autonotebook.tqdm` in notebook mode. Use `tqdm.tqdm` instead to force console mode (e.g. in jupyter console)\n",
      "  from tqdm.autonotebook import tqdm\n"
     ]
    }
   ],
   "source": [
    "import torch\n",
    "import matplotlib.pyplot as plt\n",
    "import EIANN.utils as ut\n",
    "import EIANN.plot as pt\n",
    "\n",
    "from tqdm.autonotebook import tqdm\n",
    "import numpy as np\n",
    "import matplotlib.gridspec as gs\n",
    "%load_ext autoreload\n",
    "%autoreload 2\n",
    "\n",
    "pt.update_plot_defaults()\n",
    "\n",
    "train_dataloader, train_sub_dataloader, val_dataloader, test_dataloader, data_generator = ut.get_MNIST_dataloaders(sub_dataloader_size=20_000)"
   ]
  },
  {
   "cell_type": "code",
   "execution_count": null,
   "metadata": {},
   "outputs": [
    {
     "name": "stdout",
     "output_type": "stream",
     "text": [
      "Loading network from '../data/mnist/20240830_EIANN_2_hidden_mnist_BP_like_config_2L_learn_TD_HWN_3_66049_257_complete.pkl'\n",
      "Network successfully loaded from '../data/mnist/20240830_EIANN_2_hidden_mnist_BP_like_config_2L_learn_TD_HWN_3_66049_257_complete.pkl'\n"
     ]
    }
   ],
   "source": [
    "# bpLike_learnedTD\n",
    "config_path = \"../network_config/mnist/20240830_EIANN_2_hidden_mnist_BP_like_config_2L_learn_TD_HWN_3_complete_optimized.yaml\"\n",
    "saved_network_path = \"../data/mnist/20240830_EIANN_2_hidden_mnist_BP_like_config_2L_learn_TD_HWN_3_66049_257_complete.pkl\"\n",
    "network = ut.load_network(saved_network_path)"
   ]
  },
  {
   "cell_type": "code",
   "execution_count": 241,
   "metadata": {},
   "outputs": [
    {
     "data": {
      "application/vnd.jupyter.widget-view+json": {
       "model_id": "100f6297bfd2486fb79932fe0726dbe9",
       "version_major": 2,
       "version_minor": 0
      },
      "text/plain": [
       "Epochs:   0%|          | 0/1 [00:00<?, ?it/s]"
      ]
     },
     "metadata": {},
     "output_type": "display_data"
    },
    {
     "data": {
      "application/vnd.jupyter.widget-view+json": {
       "model_id": "5eea302e8f8f4dda9c52911824dd3e9a",
       "version_major": 2,
       "version_minor": 0
      },
      "text/plain": [
       "Samples:   0%|          | 0/19001 [00:00<?, ?it/s]"
      ]
     },
     "metadata": {},
     "output_type": "display_data"
    }
   ],
   "source": [
    "config_path = \"../network_config/mnist/20240830_EIANN_2_hidden_mnist_BP_like_config_2L_learn_TD_HWN_3_complete_optimized.yaml\"\n",
    "network = ut.build_EIANN_from_config(config_path, network_seed=66049)\n",
    "network.train(train_sub_dataloader, \n",
    "                epochs=1,\n",
    "                samples_per_epoch=19001,\n",
    "                store_history=True, \n",
    "                store_dynamics=True,\n",
    "                store_params=False,\n",
    "                status_bar=True)"
   ]
  },
  {
   "cell_type": "code",
   "execution_count": null,
   "metadata": {},
   "outputs": [
    {
     "data": {
      "text/plain": [
       "torch.Size([19001, 15, 10])"
      ]
     },
     "execution_count": 242,
     "metadata": {},
     "output_type": "execute_result"
    }
   ],
   "source": [
    "ut.compute_dendritic_state_dynamics(network)"
   ]
  },
  {
   "cell_type": "code",
   "execution_count": 273,
   "metadata": {},
   "outputs": [
    {
     "data": {
      "text/plain": [
       "torch.Size([19001, 15, 500])"
      ]
     },
     "execution_count": 273,
     "metadata": {},
     "output_type": "execute_result"
    }
   ],
   "source": [
    "pop.activity_history.shape"
   ]
  },
  {
   "cell_type": "code",
   "execution_count": 274,
   "metadata": {},
   "outputs": [
    {
     "ename": "ValueError",
     "evalue": "x and y must have same first dimension, but have shapes (15,) and torch.Size([10, 500])",
     "output_type": "error",
     "traceback": [
      "\u001b[0;31m---------------------------------------------------------------------------\u001b[0m",
      "\u001b[0;31mValueError\u001b[0m                                Traceback (most recent call last)",
      "Cell \u001b[0;32mIn[274], line 10\u001b[0m\n\u001b[1;32m      8\u001b[0m backward_activity \u001b[38;5;241m=\u001b[39m pop\u001b[38;5;241m.\u001b[39mbackward_activity_history[t, units]\n\u001b[1;32m      9\u001b[0m x1 \u001b[38;5;241m=\u001b[39m np\u001b[38;5;241m.\u001b[39marange(\u001b[38;5;241m0\u001b[39m, \u001b[38;5;241m15\u001b[39m)\n\u001b[0;32m---> 10\u001b[0m ax\u001b[38;5;241m.\u001b[39mplot(x1, forward_activity)\n\u001b[1;32m     11\u001b[0m x2 \u001b[38;5;241m=\u001b[39m np\u001b[38;5;241m.\u001b[39marange(\u001b[38;5;241m15\u001b[39m, \u001b[38;5;241m30\u001b[39m)\n\u001b[1;32m     12\u001b[0m ax\u001b[38;5;241m.\u001b[39mplot(x2, backward_activity)\n",
      "File \u001b[0;32m~/opt/anaconda3/envs/eiann/lib/python3.11/site-packages/matplotlib/axes/_axes.py:1724\u001b[0m, in \u001b[0;36mAxes.plot\u001b[0;34m(self, scalex, scaley, data, *args, **kwargs)\u001b[0m\n\u001b[1;32m   1481\u001b[0m \u001b[38;5;250m\u001b[39m\u001b[38;5;124;03m\"\"\"\u001b[39;00m\n\u001b[1;32m   1482\u001b[0m \u001b[38;5;124;03mPlot y versus x as lines and/or markers.\u001b[39;00m\n\u001b[1;32m   1483\u001b[0m \n\u001b[0;32m   (...)\u001b[0m\n\u001b[1;32m   1721\u001b[0m \u001b[38;5;124;03m(``'green'``) or hex strings (``'#008000'``).\u001b[39;00m\n\u001b[1;32m   1722\u001b[0m \u001b[38;5;124;03m\"\"\"\u001b[39;00m\n\u001b[1;32m   1723\u001b[0m kwargs \u001b[38;5;241m=\u001b[39m cbook\u001b[38;5;241m.\u001b[39mnormalize_kwargs(kwargs, mlines\u001b[38;5;241m.\u001b[39mLine2D)\n\u001b[0;32m-> 1724\u001b[0m lines \u001b[38;5;241m=\u001b[39m [\u001b[38;5;241m*\u001b[39m\u001b[38;5;28mself\u001b[39m\u001b[38;5;241m.\u001b[39m_get_lines(\u001b[38;5;28mself\u001b[39m, \u001b[38;5;241m*\u001b[39margs, data\u001b[38;5;241m=\u001b[39mdata, \u001b[38;5;241m*\u001b[39m\u001b[38;5;241m*\u001b[39mkwargs)]\n\u001b[1;32m   1725\u001b[0m \u001b[38;5;28;01mfor\u001b[39;00m line \u001b[38;5;129;01min\u001b[39;00m lines:\n\u001b[1;32m   1726\u001b[0m     \u001b[38;5;28mself\u001b[39m\u001b[38;5;241m.\u001b[39madd_line(line)\n",
      "File \u001b[0;32m~/opt/anaconda3/envs/eiann/lib/python3.11/site-packages/matplotlib/axes/_base.py:303\u001b[0m, in \u001b[0;36m_process_plot_var_args.__call__\u001b[0;34m(self, axes, data, *args, **kwargs)\u001b[0m\n\u001b[1;32m    301\u001b[0m     this \u001b[38;5;241m+\u001b[39m\u001b[38;5;241m=\u001b[39m args[\u001b[38;5;241m0\u001b[39m],\n\u001b[1;32m    302\u001b[0m     args \u001b[38;5;241m=\u001b[39m args[\u001b[38;5;241m1\u001b[39m:]\n\u001b[0;32m--> 303\u001b[0m \u001b[38;5;28;01myield from\u001b[39;00m \u001b[38;5;28mself\u001b[39m\u001b[38;5;241m.\u001b[39m_plot_args(\n\u001b[1;32m    304\u001b[0m     axes, this, kwargs, ambiguous_fmt_datakey\u001b[38;5;241m=\u001b[39mambiguous_fmt_datakey)\n",
      "File \u001b[0;32m~/opt/anaconda3/envs/eiann/lib/python3.11/site-packages/matplotlib/axes/_base.py:499\u001b[0m, in \u001b[0;36m_process_plot_var_args._plot_args\u001b[0;34m(self, axes, tup, kwargs, return_kwargs, ambiguous_fmt_datakey)\u001b[0m\n\u001b[1;32m    496\u001b[0m     axes\u001b[38;5;241m.\u001b[39myaxis\u001b[38;5;241m.\u001b[39mupdate_units(y)\n\u001b[1;32m    498\u001b[0m \u001b[38;5;28;01mif\u001b[39;00m x\u001b[38;5;241m.\u001b[39mshape[\u001b[38;5;241m0\u001b[39m] \u001b[38;5;241m!=\u001b[39m y\u001b[38;5;241m.\u001b[39mshape[\u001b[38;5;241m0\u001b[39m]:\n\u001b[0;32m--> 499\u001b[0m     \u001b[38;5;28;01mraise\u001b[39;00m \u001b[38;5;167;01mValueError\u001b[39;00m(\u001b[38;5;124mf\u001b[39m\u001b[38;5;124m\"\u001b[39m\u001b[38;5;124mx and y must have same first dimension, but \u001b[39m\u001b[38;5;124m\"\u001b[39m\n\u001b[1;32m    500\u001b[0m                      \u001b[38;5;124mf\u001b[39m\u001b[38;5;124m\"\u001b[39m\u001b[38;5;124mhave shapes \u001b[39m\u001b[38;5;132;01m{\u001b[39;00mx\u001b[38;5;241m.\u001b[39mshape\u001b[38;5;132;01m}\u001b[39;00m\u001b[38;5;124m and \u001b[39m\u001b[38;5;132;01m{\u001b[39;00my\u001b[38;5;241m.\u001b[39mshape\u001b[38;5;132;01m}\u001b[39;00m\u001b[38;5;124m\"\u001b[39m)\n\u001b[1;32m    501\u001b[0m \u001b[38;5;28;01mif\u001b[39;00m x\u001b[38;5;241m.\u001b[39mndim \u001b[38;5;241m>\u001b[39m \u001b[38;5;241m2\u001b[39m \u001b[38;5;129;01mor\u001b[39;00m y\u001b[38;5;241m.\u001b[39mndim \u001b[38;5;241m>\u001b[39m \u001b[38;5;241m2\u001b[39m:\n\u001b[1;32m    502\u001b[0m     \u001b[38;5;28;01mraise\u001b[39;00m \u001b[38;5;167;01mValueError\u001b[39;00m(\u001b[38;5;124mf\u001b[39m\u001b[38;5;124m\"\u001b[39m\u001b[38;5;124mx and y can be no greater than 2D, but have \u001b[39m\u001b[38;5;124m\"\u001b[39m\n\u001b[1;32m    503\u001b[0m                      \u001b[38;5;124mf\u001b[39m\u001b[38;5;124m\"\u001b[39m\u001b[38;5;124mshapes \u001b[39m\u001b[38;5;132;01m{\u001b[39;00mx\u001b[38;5;241m.\u001b[39mshape\u001b[38;5;132;01m}\u001b[39;00m\u001b[38;5;124m and \u001b[39m\u001b[38;5;132;01m{\u001b[39;00my\u001b[38;5;241m.\u001b[39mshape\u001b[38;5;132;01m}\u001b[39;00m\u001b[38;5;124m\"\u001b[39m)\n",
      "\u001b[0;31mValueError\u001b[0m: x and y must have same first dimension, but have shapes (15,) and torch.Size([10, 500])"
     ]
    },
    {
     "data": {
      "image/png": "[encoded data removed]",
      "text/plain": [
       "<Figure size 1000x500 with 3 Axes>"
      ]
     },
     "metadata": {},
     "output_type": "display_data"
    }
   ],
   "source": [
    "t = 900\n",
    "pop = network.H2.E\n",
    "units = torch.arange(0, 10)\n",
    "fig, axes = plt.subplots(3, 1, figsize=(10, 5))\n",
    "\n",
    "ax = axes[0]\n",
    "forward_activity = pop.activity_history[t, units]\n",
    "backward_activity = pop.backward_activity_history[t, units]\n",
    "x1 = np.arange(0, 15)\n",
    "ax.plot(x1, forward_activity)\n",
    "x2 = np.arange(15, 30)\n",
    "ax.plot(x2, backward_activity)\n",
    "ax.vlines(14, 0, 2, color='r', linestyle='--',alpha=0.2)\n",
    "ax.hlines(1, 0, 30, color='r', linestyle='--',alpha=0.2)\n",
    "# plt.ylim(-0.4,10)\n",
    "ax.set_xlabel('Time step')\n",
    "ax.set_ylabel('Activity')\n",
    "ax.set_title('Output E')\n",
    "\n",
    "# forward_activity = network.Output.SomaI.activity_history[t, units]\n",
    "# backward_activity = network.Output.SomaI.backward_activity_history[t, units]\n",
    "# x1 = np.arange(0, 15)\n",
    "# plt.plot(x1, forward_activity)\n",
    "# x2 = np.arange(15, 30)\n",
    "# plt.plot(x2, backward_activity)\n",
    "# plt.vlines(14, 0, 2, color='r', linestyle='--',alpha=0.2)\n",
    "# plt.hlines(1, 0, 30, color='r', linestyle='--',alpha=0.2)\n",
    "# # plt.ylim(-0.4,10)\n",
    "# plt.title('Output SomaI')\n",
    "\n",
    "plt.tight_layout()\n",
    "plt.show()"
   ]
  },
  {
   "cell_type": "code",
   "execution_count": 267,
   "metadata": {},
   "outputs": [
    {
     "data": {
      "image/png": "[encoded data removed]",
      "text/plain": [
       "<Figure size 1000x300 with 1 Axes>"
      ]
     },
     "metadata": {},
     "output_type": "display_data"
    }
   ],
   "source": [
    "t = 6000\n",
    "# network.Output.E.dendritic_state_history[t]\n",
    "mean_forward =  torch.mean(network.H2.E.forward_dendritic_state_history_dynamics[t], axis=1)\n",
    "mean_backward = torch.mean(network.H2.E.backward_dendritic_state_history_dynamics[t], axis=1)\n",
    "plt.plot(mean_forward, linewidth=0.5, label='forward')\n",
    "plt.plot(mean_backward, linewidth=0.5, label='backward')\n",
    "# plt.plot(network.H2.E.forward_dendritic_state_history_dynamics[t], linewidth=0.5)\n",
    "# plt.plot(network.H2.E.backward_dendritic_state_history_dynamics[t], linewidth=0.5)\n",
    "plt.legend()\n",
    "plt.show()"
   ]
  },
  {
   "cell_type": "code",
   "execution_count": 266,
   "metadata": {},
   "outputs": [
    {
     "data": {
      "image/png": "[encoded data removed]",
      "text/plain": [
       "<Figure size 1000x300 with 1 Axes>"
      ]
     },
     "metadata": {},
     "output_type": "display_data"
    }
   ],
   "source": [
    "mean_forward =  torch.mean(network.H2.E.forward_dendritic_state_history_dynamics, axis=2)[:,-1]\n",
    "mean_backward = torch.mean(network.H2.E.backward_dendritic_state_history_dynamics, axis=2)[:,-1]\n",
    "\n",
    "plt.plot(mean_forward, linewidth=1, label='forward', alpha=0.5)\n",
    "plt.plot(mean_backward, linewidth=1, label='backward', alpha=0.5)\n",
    "plt.legend()\n",
    "plt.xlabel('time (ms)')\n",
    "plt.ylabel('dendritic state')\n",
    "plt.show()"
   ]
  },
  {
   "cell_type": "code",
   "execution_count": null,
   "metadata": {},
   "outputs": [],
   "source": []
  },
  {
   "cell_type": "code",
   "execution_count": null,
   "metadata": {},
   "outputs": [],
   "source": []
  },
  {
   "cell_type": "code",
   "execution_count": 132,
   "metadata": {},
   "outputs": [
    {
     "ename": "ValueError",
     "evalue": "x and y must have same first dimension, but have shapes (15,) and torch.Size([10])",
     "output_type": "error",
     "traceback": [
      "\u001b[0;31m---------------------------------------------------------------------------\u001b[0m",
      "\u001b[0;31mValueError\u001b[0m                                Traceback (most recent call last)",
      "Cell \u001b[0;32mIn[132], line 4\u001b[0m\n\u001b[1;32m      2\u001b[0m backward_dend \u001b[38;5;241m=\u001b[39m network\u001b[38;5;241m.\u001b[39mOutput\u001b[38;5;241m.\u001b[39mE\u001b[38;5;241m.\u001b[39mplateau_history[t]\n\u001b[1;32m      3\u001b[0m x2 \u001b[38;5;241m=\u001b[39m np\u001b[38;5;241m.\u001b[39marange(\u001b[38;5;241m15\u001b[39m, \u001b[38;5;241m30\u001b[39m)\n\u001b[0;32m----> 4\u001b[0m plt\u001b[38;5;241m.\u001b[39mplot(x2, backward_dend)\n\u001b[1;32m      5\u001b[0m plt\u001b[38;5;241m.\u001b[39mvlines(\u001b[38;5;241m14\u001b[39m, \u001b[38;5;241m0\u001b[39m, \u001b[38;5;241m2\u001b[39m, color\u001b[38;5;241m=\u001b[39m\u001b[38;5;124m'\u001b[39m\u001b[38;5;124mr\u001b[39m\u001b[38;5;124m'\u001b[39m, linestyle\u001b[38;5;241m=\u001b[39m\u001b[38;5;124m'\u001b[39m\u001b[38;5;124m--\u001b[39m\u001b[38;5;124m'\u001b[39m,alpha\u001b[38;5;241m=\u001b[39m\u001b[38;5;241m0.2\u001b[39m)\n\u001b[1;32m      6\u001b[0m plt\u001b[38;5;241m.\u001b[39mhlines(\u001b[38;5;241m1\u001b[39m, \u001b[38;5;241m0\u001b[39m, \u001b[38;5;241m30\u001b[39m, color\u001b[38;5;241m=\u001b[39m\u001b[38;5;124m'\u001b[39m\u001b[38;5;124mr\u001b[39m\u001b[38;5;124m'\u001b[39m, linestyle\u001b[38;5;241m=\u001b[39m\u001b[38;5;124m'\u001b[39m\u001b[38;5;124m--\u001b[39m\u001b[38;5;124m'\u001b[39m,alpha\u001b[38;5;241m=\u001b[39m\u001b[38;5;241m0.2\u001b[39m)\n",
      "File \u001b[0;32m~/opt/anaconda3/envs/eiann/lib/python3.11/site-packages/matplotlib/pyplot.py:3590\u001b[0m, in \u001b[0;36mplot\u001b[0;34m(scalex, scaley, data, *args, **kwargs)\u001b[0m\n\u001b[1;32m   3582\u001b[0m \u001b[38;5;129m@_copy_docstring_and_deprecators\u001b[39m(Axes\u001b[38;5;241m.\u001b[39mplot)\n\u001b[1;32m   3583\u001b[0m \u001b[38;5;28;01mdef\u001b[39;00m \u001b[38;5;21mplot\u001b[39m(\n\u001b[1;32m   3584\u001b[0m     \u001b[38;5;241m*\u001b[39margs: \u001b[38;5;28mfloat\u001b[39m \u001b[38;5;241m|\u001b[39m ArrayLike \u001b[38;5;241m|\u001b[39m \u001b[38;5;28mstr\u001b[39m,\n\u001b[0;32m   (...)\u001b[0m\n\u001b[1;32m   3588\u001b[0m     \u001b[38;5;241m*\u001b[39m\u001b[38;5;241m*\u001b[39mkwargs,\n\u001b[1;32m   3589\u001b[0m ) \u001b[38;5;241m-\u001b[39m\u001b[38;5;241m>\u001b[39m \u001b[38;5;28mlist\u001b[39m[Line2D]:\n\u001b[0;32m-> 3590\u001b[0m     \u001b[38;5;28;01mreturn\u001b[39;00m gca()\u001b[38;5;241m.\u001b[39mplot(\n\u001b[1;32m   3591\u001b[0m         \u001b[38;5;241m*\u001b[39margs,\n\u001b[1;32m   3592\u001b[0m         scalex\u001b[38;5;241m=\u001b[39mscalex,\n\u001b[1;32m   3593\u001b[0m         scaley\u001b[38;5;241m=\u001b[39mscaley,\n\u001b[1;32m   3594\u001b[0m         \u001b[38;5;241m*\u001b[39m\u001b[38;5;241m*\u001b[39m({\u001b[38;5;124m\"\u001b[39m\u001b[38;5;124mdata\u001b[39m\u001b[38;5;124m\"\u001b[39m: data} \u001b[38;5;28;01mif\u001b[39;00m data \u001b[38;5;129;01mis\u001b[39;00m \u001b[38;5;129;01mnot\u001b[39;00m \u001b[38;5;28;01mNone\u001b[39;00m \u001b[38;5;28;01melse\u001b[39;00m {}),\n\u001b[1;32m   3595\u001b[0m         \u001b[38;5;241m*\u001b[39m\u001b[38;5;241m*\u001b[39mkwargs,\n\u001b[1;32m   3596\u001b[0m     )\n",
      "File \u001b[0;32m~/opt/anaconda3/envs/eiann/lib/python3.11/site-packages/matplotlib/axes/_axes.py:1724\u001b[0m, in \u001b[0;36mAxes.plot\u001b[0;34m(self, scalex, scaley, data, *args, **kwargs)\u001b[0m\n\u001b[1;32m   1481\u001b[0m \u001b[38;5;250m\u001b[39m\u001b[38;5;124;03m\"\"\"\u001b[39;00m\n\u001b[1;32m   1482\u001b[0m \u001b[38;5;124;03mPlot y versus x as lines and/or markers.\u001b[39;00m\n\u001b[1;32m   1483\u001b[0m \n\u001b[0;32m   (...)\u001b[0m\n\u001b[1;32m   1721\u001b[0m \u001b[38;5;124;03m(``'green'``) or hex strings (``'#008000'``).\u001b[39;00m\n\u001b[1;32m   1722\u001b[0m \u001b[38;5;124;03m\"\"\"\u001b[39;00m\n\u001b[1;32m   1723\u001b[0m kwargs \u001b[38;5;241m=\u001b[39m cbook\u001b[38;5;241m.\u001b[39mnormalize_kwargs(kwargs, mlines\u001b[38;5;241m.\u001b[39mLine2D)\n\u001b[0;32m-> 1724\u001b[0m lines \u001b[38;5;241m=\u001b[39m [\u001b[38;5;241m*\u001b[39m\u001b[38;5;28mself\u001b[39m\u001b[38;5;241m.\u001b[39m_get_lines(\u001b[38;5;28mself\u001b[39m, \u001b[38;5;241m*\u001b[39margs, data\u001b[38;5;241m=\u001b[39mdata, \u001b[38;5;241m*\u001b[39m\u001b[38;5;241m*\u001b[39mkwargs)]\n\u001b[1;32m   1725\u001b[0m \u001b[38;5;28;01mfor\u001b[39;00m line \u001b[38;5;129;01min\u001b[39;00m lines:\n\u001b[1;32m   1726\u001b[0m     \u001b[38;5;28mself\u001b[39m\u001b[38;5;241m.\u001b[39madd_line(line)\n",
      "File \u001b[0;32m~/opt/anaconda3/envs/eiann/lib/python3.11/site-packages/matplotlib/axes/_base.py:303\u001b[0m, in \u001b[0;36m_process_plot_var_args.__call__\u001b[0;34m(self, axes, data, *args, **kwargs)\u001b[0m\n\u001b[1;32m    301\u001b[0m     this \u001b[38;5;241m+\u001b[39m\u001b[38;5;241m=\u001b[39m args[\u001b[38;5;241m0\u001b[39m],\n\u001b[1;32m    302\u001b[0m     args \u001b[38;5;241m=\u001b[39m args[\u001b[38;5;241m1\u001b[39m:]\n\u001b[0;32m--> 303\u001b[0m \u001b[38;5;28;01myield from\u001b[39;00m \u001b[38;5;28mself\u001b[39m\u001b[38;5;241m.\u001b[39m_plot_args(\n\u001b[1;32m    304\u001b[0m     axes, this, kwargs, ambiguous_fmt_datakey\u001b[38;5;241m=\u001b[39mambiguous_fmt_datakey)\n",
      "File \u001b[0;32m~/opt/anaconda3/envs/eiann/lib/python3.11/site-packages/matplotlib/axes/_base.py:499\u001b[0m, in \u001b[0;36m_process_plot_var_args._plot_args\u001b[0;34m(self, axes, tup, kwargs, return_kwargs, ambiguous_fmt_datakey)\u001b[0m\n\u001b[1;32m    496\u001b[0m     axes\u001b[38;5;241m.\u001b[39myaxis\u001b[38;5;241m.\u001b[39mupdate_units(y)\n\u001b[1;32m    498\u001b[0m \u001b[38;5;28;01mif\u001b[39;00m x\u001b[38;5;241m.\u001b[39mshape[\u001b[38;5;241m0\u001b[39m] \u001b[38;5;241m!=\u001b[39m y\u001b[38;5;241m.\u001b[39mshape[\u001b[38;5;241m0\u001b[39m]:\n\u001b[0;32m--> 499\u001b[0m     \u001b[38;5;28;01mraise\u001b[39;00m \u001b[38;5;167;01mValueError\u001b[39;00m(\u001b[38;5;124mf\u001b[39m\u001b[38;5;124m\"\u001b[39m\u001b[38;5;124mx and y must have same first dimension, but \u001b[39m\u001b[38;5;124m\"\u001b[39m\n\u001b[1;32m    500\u001b[0m                      \u001b[38;5;124mf\u001b[39m\u001b[38;5;124m\"\u001b[39m\u001b[38;5;124mhave shapes \u001b[39m\u001b[38;5;132;01m{\u001b[39;00mx\u001b[38;5;241m.\u001b[39mshape\u001b[38;5;132;01m}\u001b[39;00m\u001b[38;5;124m and \u001b[39m\u001b[38;5;132;01m{\u001b[39;00my\u001b[38;5;241m.\u001b[39mshape\u001b[38;5;132;01m}\u001b[39;00m\u001b[38;5;124m\"\u001b[39m)\n\u001b[1;32m    501\u001b[0m \u001b[38;5;28;01mif\u001b[39;00m x\u001b[38;5;241m.\u001b[39mndim \u001b[38;5;241m>\u001b[39m \u001b[38;5;241m2\u001b[39m \u001b[38;5;129;01mor\u001b[39;00m y\u001b[38;5;241m.\u001b[39mndim \u001b[38;5;241m>\u001b[39m \u001b[38;5;241m2\u001b[39m:\n\u001b[1;32m    502\u001b[0m     \u001b[38;5;28;01mraise\u001b[39;00m \u001b[38;5;167;01mValueError\u001b[39;00m(\u001b[38;5;124mf\u001b[39m\u001b[38;5;124m\"\u001b[39m\u001b[38;5;124mx and y can be no greater than 2D, but have \u001b[39m\u001b[38;5;124m\"\u001b[39m\n\u001b[1;32m    503\u001b[0m                      \u001b[38;5;124mf\u001b[39m\u001b[38;5;124m\"\u001b[39m\u001b[38;5;124mshapes \u001b[39m\u001b[38;5;132;01m{\u001b[39;00mx\u001b[38;5;241m.\u001b[39mshape\u001b[38;5;132;01m}\u001b[39;00m\u001b[38;5;124m and \u001b[39m\u001b[38;5;132;01m{\u001b[39;00my\u001b[38;5;241m.\u001b[39mshape\u001b[38;5;132;01m}\u001b[39;00m\u001b[38;5;124m\"\u001b[39m)\n",
      "\u001b[0;31mValueError\u001b[0m: x and y must have same first dimension, but have shapes (15,) and torch.Size([10])"
     ]
    },
    {
     "data": {
      "image/png": "[encoded data removed]",
      "text/plain": [
       "<Figure size 1000x300 with 1 Axes>"
      ]
     },
     "metadata": {},
     "output_type": "display_data"
    }
   ],
   "source": [
    "network.Output.E.plateau_history[:,0]\n",
    "backward_dend = network.Output.E.plateau_history[t]\n",
    "x2 = np.arange(15, 30)\n",
    "plt.plot(x2, backward_dend)\n",
    "plt.vlines(14, 0, 2, color='r', linestyle='--',alpha=0.2)\n",
    "plt.hlines(1, 0, 30, color='r', linestyle='--',alpha=0.2)\n",
    "plt.ylim(-0.4,10)\n",
    "plt.show()"
   ]
  },
  {
   "cell_type": "code",
   "execution_count": 142,
   "metadata": {},
   "outputs": [
    {
     "ename": "AttributeError",
     "evalue": "'Population' object has no attribute 'dendritic_state_history'",
     "output_type": "error",
     "traceback": [
      "\u001b[0;31m---------------------------------------------------------------------------\u001b[0m",
      "\u001b[0;31mAttributeError\u001b[0m                            Traceback (most recent call last)",
      "Cell \u001b[0;32mIn[142], line 1\u001b[0m\n\u001b[0;32m----> 1\u001b[0m network\u001b[38;5;241m.\u001b[39mH1\u001b[38;5;241m.\u001b[39mE\u001b[38;5;241m.\u001b[39mdendritic_state_history\u001b[38;5;241m.\u001b[39mshape\n",
      "\u001b[0;31mAttributeError\u001b[0m: 'Population' object has no attribute 'dendritic_state_history'"
     ]
    }
   ],
   "source": [
    "network.H1.E.dendritic_state_history.shape"
   ]
  },
  {
   "cell_type": "code",
   "execution_count": 145,
   "metadata": {},
   "outputs": [
    {
     "data": {
      "text/plain": [
       "torch.Size([1000, 500])"
      ]
     },
     "execution_count": 145,
     "metadata": {},
     "output_type": "execute_result"
    }
   ],
   "source": [
    "network.H1.E.backward_dendritic_state_history.shape"
   ]
  },
  {
   "cell_type": "code",
   "execution_count": null,
   "metadata": {},
   "outputs": [],
   "source": []
  },
  {
   "cell_type": "code",
   "execution_count": null,
   "metadata": {},
   "outputs": [],
   "source": []
  },
  {
   "cell_type": "markdown",
   "metadata": {},
   "source": [
    "## Simple BP Dale"
   ]
  },
  {
   "cell_type": "code",
   "execution_count": null,
   "metadata": {},
   "outputs": [],
   "source": [
    "# Build network\n",
    "config_path = \"../network_config/MNIST_templates/EIANN_1_hidden_mnist_bpDale.yaml\"\n",
    "network = ut.build_EIANN_from_config(config_path, network_seed=66049)\n",
    "# data_generator.manual_seed(257)\n",
    "# network.train(train_sub_dataloader, \n",
    "#                 test_dataloader, \n",
    "#                 epochs=1,\n",
    "#                 val_interval=(0,-1,1000),\n",
    "#                 store_history=False, \n",
    "#                 store_params=False,\n",
    "#                 status_bar=True)\n",
    "\n",
    "saved_network_path = \"saved_networks/EIANN_1_hidden_mnist_bpDale_66049_257.pkl\"\n",
    "# ut.save_network(network, saved_network_path)\n",
    "\n",
    "network = ut.load_network(saved_network_path)"
   ]
  },
  {
   "cell_type": "code",
   "execution_count": null,
   "metadata": {},
   "outputs": [],
   "source": [
    "pt.plot_batch_accuracy(network, test_dataloader, population='OutputE')"
   ]
  },
  {
   "cell_type": "code",
   "execution_count": null,
   "metadata": {},
   "outputs": [],
   "source": [
    "hidden_weights = network.module_dict['H1E_InputE'].weight.data\n",
    "pt.plot_hidden_weights(hidden_weights, sort=True)"
   ]
  },
  {
   "cell_type": "code",
   "execution_count": null,
   "metadata": {},
   "outputs": [],
   "source": [
    "population = network.H1.E\n",
    "percent_correct, average_pop_activity_dict = ut.compute_test_activity(network, test_dataloader, sort=False)\n",
    "# receptive_fields = ut.compute_maxact_receptive_fields(population)\n",
    "# pt.plot_receptive_fields(receptive_fields, sort=True, scale=1, average_pop_activity=average_pop_activity_dict['H1E'])\n",
    "pt.plot_receptive_fields(hidden_weights, sort=True, scale=1, average_pop_activity=average_pop_activity_dict['H1E'])"
   ]
  },
  {
   "cell_type": "code",
   "execution_count": null,
   "metadata": {},
   "outputs": [],
   "source": [
    "pt.plot_receptive_fields(hidden_weights, sort=True, scale=1)"
   ]
  },
  {
   "cell_type": "code",
   "execution_count": null,
   "metadata": {},
   "outputs": [],
   "source": [
    "# population = network.Output.E\n",
    "# receptive_fields = ut.compute_maxact_receptive_fields(population)\n",
    "# percent_correct, average_pop_activity_dict = ut.compute_test_activity(network, test_dataloader, sort=False)\n",
    "pt.plot_receptive_fields(receptive_fields, sort=False, scale=1, num_rows=4, num_cols=3)\n"
   ]
  },
  {
   "cell_type": "code",
   "execution_count": null,
   "metadata": {},
   "outputs": [],
   "source": []
  },
  {
   "cell_type": "code",
   "execution_count": null,
   "metadata": {},
   "outputs": [],
   "source": []
  },
  {
   "cell_type": "code",
   "execution_count": null,
   "metadata": {},
   "outputs": [],
   "source": []
  },
  {
   "cell_type": "code",
   "execution_count": null,
   "metadata": {},
   "outputs": [],
   "source": []
  },
  {
   "cell_type": "markdown",
   "metadata": {},
   "source": [
    "## van Backprop G"
   ]
  },
  {
   "cell_type": "code",
   "execution_count": null,
   "metadata": {},
   "outputs": [],
   "source": [
    "# Build network\n",
    "config_path = \"../network_config/mnist/20231120_EIANN_1_hidden_mnist_van_bp_relu_SGD_config_G_optimized.yaml\"\n",
    "saved_network_path = \"../data/mnist/20231120_EIANN_1_hidden_mnist_van_bp_relu_SGD_config_G_66049_257.pkl\"\n",
    "bp_network = ut.build_EIANN_from_config(config_path, network_seed=66049)\n",
    "\n",
    "# data_generator.manual_seed(257)\n",
    "# bp_network.train(train_sub_dataloader, \n",
    "#                 test_dataloader, \n",
    "#                 epochs=1,\n",
    "#                 val_interval=(0,-1,100),\n",
    "#                 store_history=True, \n",
    "#                 store_params=True,\n",
    "#                 status_bar=True)\n",
    "saved_network_path = \"saved_networks/20231025_EIANN_1_hidden_mnist_van_bp_softplus_SGD_config_66049_257_retrained.pkl\"\n",
    "# ut.save_network(bp_network, saved_network_path)\n",
    "\n",
    "bp_network = ut.load_network(saved_network_path)"
   ]
  },
  {
   "cell_type": "code",
   "execution_count": null,
   "metadata": {},
   "outputs": [],
   "source": [
    "pt.plot_batch_accuracy(bp_network, test_dataloader)"
   ]
  },
  {
   "cell_type": "code",
   "execution_count": null,
   "metadata": {},
   "outputs": [],
   "source": [
    "pt.plot_hidden_weights(bp_network.module_dict['H1E_InputE'].weight, sort=True)"
   ]
  },
  {
   "cell_type": "code",
   "execution_count": null,
   "metadata": {},
   "outputs": [],
   "source": [
    "population = bp_network.H1.E\n",
    "receptive_fields = ut.compute_maxact_receptive_fields(population, export=False, overwrite=True)\n",
    "pt.plot_receptive_fields(receptive_fields, sort=True, scale=1)\n",
    "\n",
    "# percent_correct, average_pop_activity_dict = ut.compute_test_activity(bp_network, test_dataloader, sort=False)\n",
    "# preferred_classes = torch.argmax(average_pop_activity_dict['H1E'],dim=1)\n",
    "# pt.plot_receptive_fields(receptive_fields, scale=None, sort=True, preferred_classes=preferred_classes)"
   ]
  },
  {
   "cell_type": "code",
   "execution_count": null,
   "metadata": {},
   "outputs": [],
   "source": [
    "# population = bp_network.H1.E\n",
    "# receptive_fields = ut.compute_maxact_receptive_fields(population)\n",
    "# percent_correct, average_pop_activity_dict = ut.compute_test_activity(bp_network, test_dataloader)\n",
    "pt.plot_receptive_fields(receptive_fields, sort=True, scale=1, average_pop_activity=average_pop_activity_dict['H1E'])"
   ]
  },
  {
   "cell_type": "code",
   "execution_count": null,
   "metadata": {},
   "outputs": [],
   "source": []
  },
  {
   "cell_type": "code",
   "execution_count": null,
   "metadata": {},
   "outputs": [],
   "source": []
  },
  {
   "cell_type": "code",
   "execution_count": null,
   "metadata": {},
   "outputs": [],
   "source": []
  },
  {
   "cell_type": "code",
   "execution_count": null,
   "metadata": {},
   "outputs": [],
   "source": []
  },
  {
   "cell_type": "code",
   "execution_count": null,
   "metadata": {},
   "outputs": [],
   "source": [
    "# Plot receptive fields for output units\n",
    "population = bp_network.Output.E\n",
    "receptive_fields = ut.compute_maxact_receptive_fields(population, export=False, overwrite=False)\n",
    "pt.plot_receptive_fields(receptive_fields, scale=1)"
   ]
  },
  {
   "cell_type": "code",
   "execution_count": null,
   "metadata": {},
   "outputs": [],
   "source": [
    "# Plot receptive fields for output units\n",
    "population = bp_network.Output.E\n",
    "receptive_fields = ut.compute_maxact_receptive_fields(population, export=False, overwrite=False)\n",
    "pt.plot_receptive_fields(receptive_fields, scale=1)"
   ]
  },
  {
   "cell_type": "code",
   "execution_count": null,
   "metadata": {},
   "outputs": [],
   "source": []
  },
  {
   "cell_type": "code",
   "execution_count": null,
   "metadata": {},
   "outputs": [],
   "source": [
    "# van_bpClone = ut.compute_alternate_dParam_history(train_dataloader, bp_network, constrain_params=False, save_path=\"saved_networks/20231120_EIANN_1_hidden_mnist_van_bp_relu_SGD_config_G_66049_257_bpClone.pkl\")\n",
    "\n",
    "# # van_bpClone = build_EIANN_from_config(config_path, network_seed=66049)\n",
    "# # van_bpClone.load(\"\"saved_networks/20231120_EIANN_1_hidden_mnist_van_bp_relu_SGD_config_G_66049_257_bpClone.pkl\"\")"
   ]
  },
  {
   "cell_type": "code",
   "execution_count": null,
   "metadata": {},
   "outputs": [],
   "source": [
    "# # Single-step stochastic backprop vs fullbatch backprop\n",
    "# angles = ut.compute_dW_angles(van_bpClone.predicted_dParam_history, van_bpClone.actual_dParam_history, plot=True)"
   ]
  },
  {
   "cell_type": "code",
   "execution_count": null,
   "metadata": {},
   "outputs": [],
   "source": [
    "# # Stepaveraged backprop vs fullbatch backprop\n",
    "# angles = ut.compute_dW_angles(van_bpClone.predicted_dParam_history, van_bpClone.actual_dParam_history_stepaveraged, plot=True)"
   ]
  },
  {
   "cell_type": "code",
   "execution_count": null,
   "metadata": {},
   "outputs": [],
   "source": [
    "# Recompute dParam history with small batch size\n",
    "stored_history_step_size = torch.diff(bp_network.param_history_steps)[-1]\n",
    "van_bpClone2 = ut.compute_alternate_dParam_history(train_dataloader, bp_network, batch_size=stored_history_step_size, constrain_params=False, \n",
    "                                                   save_path = \"saved_networks/20231120_EIANN_1_hidden_mnist_van_bp_relu_SGD_config_G_66049_257_bpClone_batch100.pkl\")\n",
    "\n",
    "# Stepaveraged stochastic backprop vs backprop with batch_size=100\n",
    "angles = ut.compute_dW_angles(van_bpClone2.predicted_dParam_history, van_bpClone2.actual_dParam_history_stepaveraged, plot=True)"
   ]
  },
  {
   "cell_type": "code",
   "execution_count": null,
   "metadata": {},
   "outputs": [],
   "source": []
  },
  {
   "cell_type": "code",
   "execution_count": null,
   "metadata": {},
   "outputs": [],
   "source": [
    "name = \"20231129_EIANN_2_hidden_mnist_van_bp_relu_SGD_config_G_66051_259_complete.pkl\"\n",
    "network = ut.load_network(f\"../data/mnist/{name}\")\n",
    "\n",
    "name2 = \"20231129_EIANN_2_hidden_mnist_bpDale_relu_SGD_config_G_66049_257_complete.pkl\"\n",
    "network2 = ut.load_network(f\"../data/mnist/{name2}\")"
   ]
  },
  {
   "cell_type": "code",
   "execution_count": null,
   "metadata": {},
   "outputs": [],
   "source": [
    "# Recompute dParam history with small batch size\n",
    "stored_history_step_size = torch.diff(network.param_history_steps)[-1]\n",
    "bpClone = ut.compute_alternate_dParam_history(train_dataloader, network, batch_size=stored_history_step_size, constrain_params=False, \n",
    "                                                   save_path = \"saved_networks/test.pkl\")\n",
    "\n",
    "# Stepaveraged stochastic backprop vs backprop with batch_size=100\n",
    "angles = ut.compute_dW_angles(bpClone.predicted_dParam_history, bpClone.actual_dParam_history_stepaveraged, plot=True, only_updated_params=True)"
   ]
  },
  {
   "cell_type": "code",
   "execution_count": null,
   "metadata": {},
   "outputs": [],
   "source": [
    "\"Dend\" in \"\".join((network.populations.keys()))"
   ]
  },
  {
   "cell_type": "code",
   "execution_count": null,
   "metadata": {},
   "outputs": [],
   "source": []
  },
  {
   "cell_type": "markdown",
   "metadata": {},
   "source": [
    "## 2 hidden van Backprop G"
   ]
  },
  {
   "cell_type": "code",
   "execution_count": null,
   "metadata": {},
   "outputs": [],
   "source": [
    "# Build network\n",
    "config_path = \"../optimize/data/mnist/20231129_EIANN_2_hidden_mnist_van_bp_relu_SGD_config_G_complete_optimized.yaml\"\n",
    "saved_network_path = \"../data/mnist/20231129_EIANN_2_hidden_mnist_van_bp_relu_SGD_config_G_66049_257_complete.pkl\"\n",
    "# bp_network = build_EIANN_from_config(config_path, network_seed=66049)\n",
    "\n",
    "bp_network = ut.load_network(saved_network_path)\n",
    "pt.plot_batch_accuracy(bp_network, test_dataloader)\n",
    "# pt.plot_batch_accuracy(bp_network, test_dataloader, population=bp_network.H1.E, export=True, overwrite=False)\n"
   ]
  },
  {
   "cell_type": "code",
   "execution_count": null,
   "metadata": {},
   "outputs": [],
   "source": [
    "pt.plot_loss_landscape(test_dataloader, network1=bp_network, network2=None, num_points=10, extension=1, vmax=2, plot_line_loss=False)"
   ]
  },
  {
   "cell_type": "code",
   "execution_count": null,
   "metadata": {},
   "outputs": [],
   "source": [
    "import torch.nn.functional as F\n",
    "\n",
    "a = torch.tensor([0.1, 0.2, 0.3, 0.4])\n",
    "# F.softmax(a, dim=0)\n",
    "F.softmax(F.layer_norm(a, normalized_shape=(4,)), dim=0)"
   ]
  },
  {
   "cell_type": "code",
   "execution_count": null,
   "metadata": {},
   "outputs": [],
   "source": [
    "sum(a)"
   ]
  },
  {
   "cell_type": "code",
   "execution_count": null,
   "metadata": {},
   "outputs": [],
   "source": []
  },
  {
   "cell_type": "code",
   "execution_count": null,
   "metadata": {},
   "outputs": [],
   "source": [
    "# pt.plot_hidden_weights(bp_network.module_dict['H1E_InputE'].weight, sort=True)"
   ]
  },
  {
   "cell_type": "code",
   "execution_count": null,
   "metadata": {},
   "outputs": [],
   "source": [
    "# # Plot receptive fields for output units\n",
    "\n",
    "# population = bp_network.Output.E\n",
    "# receptive_fields, activity_preferred_inputs = ut.compute_act_weighted_avg(population, test_dataloader)\n",
    "# # _, activity_preferred_inputs = ut.compute_maxact_receptive_fields(population, test_dataloader, sigmoid=True)\n",
    "# receptive_fields, _ = ut.compute_maxact_receptive_fields(population, test_dataloader, sigmoid=False)\n",
    "# pt.plot_receptive_fields(receptive_fields, activity_preferred_inputs)"
   ]
  },
  {
   "cell_type": "code",
   "execution_count": null,
   "metadata": {},
   "outputs": [],
   "source": [
    "population = bp_network.Output.E\n",
    "receptive_fields = ut.compute_maxact_receptive_fields(population, export=False, overwrite=False)\n",
    "pt.plot_receptive_fields(receptive_fields, sort=False, scale=1)\n",
    "# pt.plot_receptive_fields(receptive_fields, sort=False, scale=None)"
   ]
  },
  {
   "cell_type": "code",
   "execution_count": null,
   "metadata": {},
   "outputs": [],
   "source": [
    "population = bp_network.H1.E\n",
    "receptive_fields = ut.compute_maxact_receptive_fields(population, export=False, overwrite=False)\n",
    "pt.plot_receptive_fields(receptive_fields, sort=True, scale=1)\n",
    "\n",
    "percent_correct, average_pop_activity_dict = ut.compute_test_activity(bp_network, test_dataloader)\n",
    "preferred_classes = torch.argmax(torch.tensor(average_pop_activity_dict['H1E']), dim=1)\n",
    "pt.plot_receptive_fields(receptive_fields, sort=True, scale=1, preferred_classes=preferred_classes)"
   ]
  },
  {
   "cell_type": "code",
   "execution_count": null,
   "metadata": {},
   "outputs": [],
   "source": []
  },
  {
   "cell_type": "code",
   "execution_count": null,
   "metadata": {},
   "outputs": [],
   "source": []
  },
  {
   "cell_type": "code",
   "execution_count": null,
   "metadata": {},
   "outputs": [],
   "source": []
  },
  {
   "cell_type": "code",
   "execution_count": null,
   "metadata": {},
   "outputs": [],
   "source": [
    "# Recompute dParam history with small batch size\n",
    "bpClone_network2 = ut.compute_alternate_dParam_history(train_dataloader, bp_network, batch_size=100, constrain_params=False, \n",
    "                                                    save_path=\"saved_networks/20231129_EIANN_2_hidden_mnist_van_bp_relu_SGD_config_G_66049_257_complete_bpClone_batch100.pkl\")\n",
    "\n",
    "# bpClone_network2 = build_EIANN_from_config(config_path, network_seed=66049)\n",
    "# bpClone_network2.load(\"saved_networks/20231129_EIANN_2_hidden_mnist_bpDale_relu_SGD_config_G_66049_257_complete_bpClone_batch100.pkl\")\n",
    "\n",
    "# Stepaveraged stochastic backprop vs backprop with batch_size=100\n",
    "angles = ut.compute_dW_angles(bpClone_network2.predicted_dParam_history, bpClone_network2.actual_dParam_history_stepaveraged, plot=True)"
   ]
  },
  {
   "cell_type": "code",
   "execution_count": null,
   "metadata": {},
   "outputs": [],
   "source": []
  },
  {
   "cell_type": "markdown",
   "metadata": {},
   "source": [
    "## 2 hidden bdDale F\n",
    "\n",
    "- all connections learned with BP"
   ]
  },
  {
   "cell_type": "code",
   "execution_count": null,
   "metadata": {},
   "outputs": [],
   "source": [
    "config_path = \"../network_config/mnist/20240419_EIANN_2_hidden_mnist_bpDale_relu_SGD_config_F_optimized.yaml\"\n",
    "saved_network_path = \"../data/mnist/20240419_EIANN_2_hidden_mnist_bpDale_relu_SGD_config_F_66049_257_complete.pkl\"\n",
    "\n",
    "bpDale_network = ut.build_EIANN_from_config(config_path, network_seed=66049)\n",
    "\n",
    "bpDale_network.load(saved_network_path)\n",
    "pt.plot_batch_accuracy(bpDale_network, test_dataloader)"
   ]
  },
  {
   "cell_type": "code",
   "execution_count": null,
   "metadata": {},
   "outputs": [],
   "source": [
    "pt.plot_batch_accuracy(bpDale_network, test_dataloader, population='all')"
   ]
  },
  {
   "cell_type": "code",
   "execution_count": null,
   "metadata": {},
   "outputs": [],
   "source": []
  },
  {
   "cell_type": "code",
   "execution_count": null,
   "metadata": {},
   "outputs": [],
   "source": []
  },
  {
   "cell_type": "markdown",
   "metadata": {},
   "source": [
    "## 2 hidden bpDale G\n",
    "\n",
    "- fixed somaI"
   ]
  },
  {
   "cell_type": "code",
   "execution_count": null,
   "metadata": {},
   "outputs": [],
   "source": [
    "saved_network_path = \"../data/mnist/20231129_EIANN_2_hidden_mnist_bpDale_relu_SGD_config_G_66049_257_complete.pkl\"\n",
    "bpDale_network = ut.load_network(saved_network_path)"
   ]
  },
  {
   "cell_type": "code",
   "execution_count": null,
   "metadata": {},
   "outputs": [],
   "source": [
    "pt.plot_batch_accuracy(bpDale_network, test_dataloader, population='OutputE')"
   ]
  },
  {
   "cell_type": "code",
   "execution_count": null,
   "metadata": {},
   "outputs": [],
   "source": [
    "hidden_weights = bpDale_network.module_dict['H1E_InputE'].weight.data\n",
    "pt.plot_hidden_weights(hidden_weights, sort=True)"
   ]
  },
  {
   "cell_type": "code",
   "execution_count": null,
   "metadata": {},
   "outputs": [],
   "source": [
    "# population = bpDale_network.H1.E\n",
    "# receptive_fields = ut.compute_maxact_receptive_fields(population)\n",
    "# percent_correct, average_pop_activity_dict = ut.compute_test_activity(bpDale_network, test_dataloader)\n",
    "pt.plot_receptive_fields(receptive_fields, sort=True, scale=1, average_pop_activity=average_pop_activity_dict['H1E'])\n",
    "pt.plot_receptive_fields(hidden_weights, sort=True, scale=1, average_pop_activity=average_pop_activity_dict['H1E'])"
   ]
  },
  {
   "cell_type": "code",
   "execution_count": null,
   "metadata": {},
   "outputs": [],
   "source": []
  },
  {
   "cell_type": "code",
   "execution_count": null,
   "metadata": {},
   "outputs": [],
   "source": []
  },
  {
   "cell_type": "code",
   "execution_count": null,
   "metadata": {},
   "outputs": [],
   "source": [
    "population = bpDale_network.Output.E\n",
    "receptive_fields = ut.compute_maxact_receptive_fields(population, export=False, overwrite=False)\n",
    "# pt.plot_receptive_fields(receptive_fields, sort=False, scale=None)\n",
    "pt.plot_receptive_fields(receptive_fields, sort=False, scale=1)"
   ]
  },
  {
   "cell_type": "code",
   "execution_count": null,
   "metadata": {},
   "outputs": [],
   "source": [
    "population = bpDale_network.H1.E\n",
    "receptive_fields = ut.compute_maxact_receptive_fields(population, export=False, overwrite=False)\n",
    "# pt.plot_receptive_fields(receptive_fields, sort=True, scale=None)\n",
    "pt.plot_receptive_fields(receptive_fields, sort=True, scale=1)\n",
    "\n",
    "percent_correct, average_pop_activity_dict = ut.compute_test_activity(bpDale_network, test_dataloader)\n",
    "preferred_classes = torch.argmax(torch.tensor(average_pop_activity_dict['H1E']), dim=1)\n",
    "pt.plot_receptive_fields(receptive_fields, sort=True, scale=1, preferred_classes=preferred_classes)"
   ]
  },
  {
   "cell_type": "code",
   "execution_count": null,
   "metadata": {},
   "outputs": [],
   "source": []
  },
  {
   "cell_type": "code",
   "execution_count": null,
   "metadata": {},
   "outputs": [],
   "source": []
  },
  {
   "cell_type": "code",
   "execution_count": null,
   "metadata": {},
   "outputs": [],
   "source": []
  },
  {
   "cell_type": "markdown",
   "metadata": {},
   "source": [
    "## BP_like_1"
   ]
  },
  {
   "cell_type": "code",
   "execution_count": null,
   "metadata": {},
   "outputs": [],
   "source": [
    "# Build network\n",
    "config_path = \"../network_config/mnist/20231109_EIANN_1_hidden_mnist_BP_like_config_1_optimized.yaml\"\n",
    "saved_network_path = \"../data/mnist/20231109_EIANN_1_hidden_mnist_BP_like_config_1_66049_257.pkl\"\n",
    "almostBP_network = ut.build_EIANN_from_config(config_path, network_seed=66049)\n",
    "\n",
    "almostBP_network.load(saved_network_path)\n",
    "pt.plot_batch_accuracy(almostBP_network, test_dataloader)"
   ]
  },
  {
   "cell_type": "code",
   "execution_count": null,
   "metadata": {},
   "outputs": [],
   "source": [
    "pt.plot_hidden_weights(almostBP_network.module_dict['H1E_InputE'].weight, sort=True)"
   ]
  },
  {
   "cell_type": "code",
   "execution_count": null,
   "metadata": {},
   "outputs": [],
   "source": [
    "# Plot receptive fields for output units\n",
    "\n",
    "population = almostBP_network.Output.E\n",
    "receptive_fields, activity_preferred_inputs = ut.compute_act_weighted_avg(population, test_dataloader)\n",
    "# _, activity_preferred_inputs = ut.compute_maxact_receptive_fields(population, test_dataloader, sigmoid=True)\n",
    "receptive_fields, _ = ut.compute_maxact_receptive_fields(population, test_dataloader, sigmoid=False)\n",
    "pt.plot_receptive_fields(receptive_fields, activity_preferred_inputs)"
   ]
  },
  {
   "cell_type": "code",
   "execution_count": null,
   "metadata": {},
   "outputs": [],
   "source": [
    "# bpClone_network = ut.compute_alternate_dParam_history(train_dataloader, almostBP_network, constrain_params=False, \n",
    "#                                                     save_path = \"saved_networks/20231109_EIANN_1_hidden_mnist_BP_like_config_1_66049_257_bpClone.pkl\")\n",
    "\n",
    "bpClone_network = build_EIANN_from_config(config_path, network_seed=66049)\n",
    "bpClone_network.load(\"saved_networks/20231109_EIANN_1_hidden_mnist_BP_like_config_1_66049_257_bpClone.pkl\")"
   ]
  },
  {
   "cell_type": "code",
   "execution_count": null,
   "metadata": {},
   "outputs": [],
   "source": [
    "# # Single-step stochastic backprop vs fullbatch backprop\n",
    "# angles = ut.compute_dW_angles(bpClone_network.predicted_dParam_history, bpClone_network.actual_dParam_history, plot=True)"
   ]
  },
  {
   "cell_type": "code",
   "execution_count": null,
   "metadata": {},
   "outputs": [],
   "source": [
    "# # Stepaveraged bpDale vs fullbatch backprop\n",
    "# angles = ut.compute_dW_angles(bpClone_network.predicted_dParam_history, bpClone_network.actual_dParam_history_stepaveraged, plot=True)"
   ]
  },
  {
   "cell_type": "code",
   "execution_count": null,
   "metadata": {},
   "outputs": [],
   "source": [
    "# Recompute dParam history with small batch size\n",
    "bpClone_network2 = ut.compute_alternate_dParam_history(train_dataloader, almostBP_network, batch_size=100, constrain_params=False, \n",
    "                                                    save_path=\"saved_networks/20231109_EIANN_1_hidden_mnist_BP_like_config_1_66049_257_bpClone_batch100.pkl\")\n",
    "\n",
    "# Stepaveraged stochastic backprop vs backprop with batch_size=100\n",
    "angles = ut.compute_dW_angles(bpClone_network2.predicted_dParam_history, bpClone_network2.actual_dParam_history_stepaveraged, plot=True)\n"
   ]
  },
  {
   "cell_type": "code",
   "execution_count": null,
   "metadata": {},
   "outputs": [],
   "source": [
    "# # Recompute dParam history with small batch size\n",
    "# bpClone_network3 = ut.compute_alternate_dParam_history(train_dataloader, almostBP_network, batch_size=1, constrain_params=False)\n",
    "\n",
    "# # Single-step stochastic backprop vs backprop with batch_size=1\n",
    "# angles = ut.compute_dW_angles(bpClone_network3.predicted_dParam_history, bpClone_network3.actual_dParam_history, plot=True)"
   ]
  },
  {
   "cell_type": "code",
   "execution_count": null,
   "metadata": {},
   "outputs": [],
   "source": []
  },
  {
   "cell_type": "markdown",
   "metadata": {},
   "source": [
    "## BP_like_5A:\n",
    "  - H1.DendI <- H1.E\n",
    "  - H1.E.Output.E is W.T\n",
    "  - E.E: BP_like_4\n",
    "    - Fixed fraction of H1.E units are updated\n",
    "    - Pos mod events above pos threshold\n",
    "\t- Neg mod events below neg threshold\n",
    "    - H1.E is nudged"
   ]
  },
  {
   "cell_type": "code",
   "execution_count": null,
   "metadata": {},
   "outputs": [],
   "source": [
    "# Build network\n",
    "config_path = \"../optimize/data/mnist/20231121_EIANN_1_hidden_mnist_BP_like_config_5A_optimized.yaml\"\n",
    "saved_network_path = \"../optimize/data/mnist/20231121_EIANN_1_hidden_mnist_BP_like_config_5A_66049_257_complete.pkl\"\n",
    "almostBP_network5a = build_EIANN_from_config(config_path, network_seed=66049)\n",
    "\n",
    "almostBP_network5a.load(saved_network_path)\n",
    "pt.plot_batch_accuracy(almostBP_network5a, test_dataloader, population=almostBP_network5a.H1.E)"
   ]
  },
  {
   "cell_type": "code",
   "execution_count": null,
   "metadata": {},
   "outputs": [],
   "source": []
  },
  {
   "cell_type": "code",
   "execution_count": null,
   "metadata": {},
   "outputs": [],
   "source": [
    "pt.plot_hidden_weights(almostBP_network.module_dict['H1E_InputE'].weight, sort=True)"
   ]
  },
  {
   "cell_type": "code",
   "execution_count": null,
   "metadata": {},
   "outputs": [],
   "source": [
    "# Plot receptive fields for output units\n",
    "\n",
    "population = almostBP_network.Output.E\n",
    "receptive_fields, activity_preferred_inputs = ut.compute_act_weighted_avg(population, test_dataloader)\n",
    "# _, activity_preferred_inputs = ut.compute_maxact_receptive_fields(population, test_dataloader, sigmoid=True)\n",
    "receptive_fields, _ = ut.compute_maxact_receptive_fields(population, test_dataloader, sigmoid=False)\n",
    "pt.plot_receptive_fields(receptive_fields, activity_preferred_inputs)"
   ]
  },
  {
   "cell_type": "code",
   "execution_count": null,
   "metadata": {},
   "outputs": [],
   "source": [
    "# Recompute dParam history with small batch size\n",
    "# bpClone_network2 = ut.compute_alternate_dParam_history(train_dataloader, almostBP_network, batch_size=100, constrain_params=False, \n",
    "#                                                     save_path=\"saved_networks/20231121_EIANN_1_hidden_mnist_BP_like_config_5A_66049_257_complete_bpClone_batch100.pkl\")\n",
    "\n",
    "bpClone_network2 = build_EIANN_from_config(config_path, network_seed=66049)\n",
    "bpClone_network2.load(\"saved_networks/20231121_EIANN_1_hidden_mnist_BP_like_config_5A_66049_257_complete_bpClone_batch100.pkl\")\n",
    "\n",
    "# Stepaveraged stochastic backprop vs backprop with batch_size=100\n",
    "angles = ut.compute_dW_angles(bpClone_network2.predicted_dParam_history, bpClone_network2.actual_dParam_history_stepaveraged, plot=True)"
   ]
  },
  {
   "cell_type": "code",
   "execution_count": null,
   "metadata": {},
   "outputs": [],
   "source": []
  },
  {
   "cell_type": "markdown",
   "metadata": {},
   "source": [
    "## BP_like_3A:\n",
    "  - H1.DendI <- H1.E\n",
    "  - H1.E.Output.E is W.T\n",
    "  - E.E: BP_like_3\n",
    "    - Fixed fraction of H1.E units are updated\n",
    "    - H1.E is not nudged"
   ]
  },
  {
   "cell_type": "code",
   "execution_count": null,
   "metadata": {},
   "outputs": [],
   "source": [
    "# Build network\n",
    "config_path = \"../optimize/data/mnist/20231121_EIANN_1_hidden_mnist_BP_like_config_3A_optimized.yaml\"\n",
    "saved_network_path = \"../optimize/data/mnist/20231121_EIANN_1_hidden_mnist_BP_like_config_3A_66049_257_complete.pkl\"\n",
    "almostBP_network = build_EIANN_from_config(config_path, network_seed=66049)\n",
    "\n",
    "almostBP_network.load(saved_network_path)\n",
    "pt.plot_batch_accuracy(almostBP_network, test_dataloader)"
   ]
  },
  {
   "cell_type": "code",
   "execution_count": null,
   "metadata": {},
   "outputs": [],
   "source": [
    "pt.plot_hidden_weights(almostBP_network.module_dict['H1E_InputE'].weight, sort=True)"
   ]
  },
  {
   "cell_type": "code",
   "execution_count": null,
   "metadata": {},
   "outputs": [],
   "source": [
    "# Plot receptive fields for output units\n",
    "\n",
    "population = almostBP_network.Output.E\n",
    "receptive_fields, activity_preferred_inputs = ut.compute_act_weighted_avg(population, test_dataloader)\n",
    "# _, activity_preferred_inputs = ut.compute_maxact_receptive_fields(population, test_dataloader, sigmoid=True)\n",
    "receptive_fields, _ = ut.compute_maxact_receptive_fields(population, test_dataloader, sigmoid=False)\n",
    "pt.plot_receptive_fields(receptive_fields, activity_preferred_inputs)"
   ]
  },
  {
   "cell_type": "code",
   "execution_count": null,
   "metadata": {},
   "outputs": [],
   "source": [
    "# Recompute dParam history with small batch size\n",
    "# bpClone_network2 = ut.compute_alternate_dParam_history(train_dataloader, almostBP_network, batch_size=100, constrain_params=False, \n",
    "#                                                     save_path=\"saved_networks/20231121_EIANN_1_hidden_mnist_BP_like_config_3A_66049_257_complete_bpClone_batch100.pkl\")\n",
    "\n",
    "bpClone_network2 = build_EIANN_from_config(config_path, network_seed=66049)\n",
    "bpClone_network2.load(\"saved_networks/20231121_EIANN_1_hidden_mnist_BP_like_config_3A_66049_257_complete_bpClone_batch100.pkl\")\n",
    "\n",
    "# Stepaveraged stochastic backprop vs backprop with batch_size=100\n",
    "angles = ut.compute_dW_angles(bpClone_network2.predicted_dParam_history, bpClone_network2.actual_dParam_history_stepaveraged, plot=True)"
   ]
  },
  {
   "cell_type": "code",
   "execution_count": null,
   "metadata": {},
   "outputs": [],
   "source": [
    "angles = ut.compute_dW_angles(bpClone_network2.predicted_dParam_history, bpClone_network2.actual_dParam_history_stepaveraged, plot=True, only_updated_params=True)"
   ]
  },
  {
   "cell_type": "code",
   "execution_count": null,
   "metadata": {},
   "outputs": [],
   "source": [
    "# Recompute dParam history with small batch size\n",
    "bpClone_network3 = ut.compute_alternate_dParam_history(train_dataloader, almostBP_network, batch_size=1, constrain_params=False)\n",
    "\n",
    "# Stepaveraged stochastic backprop vs backprop with batch_size=1\n",
    "angles = ut.compute_dW_angles(bpClone_network3.predicted_dParam_history, bpClone_network3.actual_dParam_history, plot=True, only_updated_params=True)"
   ]
  },
  {
   "cell_type": "code",
   "execution_count": null,
   "metadata": {},
   "outputs": [],
   "source": [
    "angles = ut.compute_dW_angles(bpClone_network3.predicted_dParam_history, bpClone_network3.actual_dParam_history, plot=True)"
   ]
  },
  {
   "cell_type": "code",
   "execution_count": null,
   "metadata": {},
   "outputs": [],
   "source": []
  },
  {
   "cell_type": "markdown",
   "metadata": {},
   "source": [
    "## BP_like_config_7A"
   ]
  },
  {
   "cell_type": "code",
   "execution_count": null,
   "metadata": {},
   "outputs": [],
   "source": [
    "# Build network\n",
    "config_path = \"../optimize/data/mnist/20231208_EIANN_1_hidden_mnist_BP_like_config_7A_optimized.yaml\"\n",
    "saved_network_path = \"../optimize/data/mnist/20231208_EIANN_1_hidden_mnist_BP_like_config_7A_66049_257_complete.pkl\"\n",
    "almostBP_network_7a = build_EIANN_from_config(config_path, network_seed=66049)\n",
    "\n",
    "almostBP_network_7a.load(saved_network_path)\n",
    "pt.plot_batch_accuracy(almostBP_network_7a, test_dataloader)"
   ]
  },
  {
   "cell_type": "code",
   "execution_count": null,
   "metadata": {},
   "outputs": [],
   "source": [
    "pt.plot_hidden_weights(almostBP_network_7a.module_dict['H1E_InputE'].weight, sort=True)"
   ]
  },
  {
   "cell_type": "code",
   "execution_count": null,
   "metadata": {},
   "outputs": [],
   "source": [
    "# Plot receptive fields for output units\n",
    "\n",
    "population = almostBP_network_7a.Output.E\n",
    "receptive_fields, activity_preferred_inputs = ut.compute_act_weighted_avg(population, test_dataloader)\n",
    "# _, activity_preferred_inputs = ut.compute_maxact_receptive_fields(population, test_dataloader, sigmoid=True)\n",
    "receptive_fields, _ = ut.compute_maxact_receptive_fields(population, test_dataloader, sigmoid=False)\n",
    "pt.plot_receptive_fields(receptive_fields, activity_preferred_inputs)"
   ]
  },
  {
   "cell_type": "code",
   "execution_count": null,
   "metadata": {},
   "outputs": [],
   "source": [
    "# Recompute dParam history with small batch size\n",
    "bpClone_network2 = ut.compute_alternate_dParam_history(train_dataloader, almostBP_network_7a, batch_size=100, constrain_params=False, \n",
    "                                                    save_path=\"saved_networks/20231201_EIANN_1_hidden_mnist_BP_like_config_7A_66049_257_complete_bpClone_batch100.pkl\")\n",
    "\n",
    "# bpClone_network2 = build_EIANN_from_config(config_path, network_seed=66049)\n",
    "# bpClone_network2.load(\"saved_networks/20231201_EIANN_1_hidden_mnist_BP_like_config_7A_66049_257_complete_bpClone_batch100.pkl\")\n",
    "\n",
    "# Stepaveraged stochastic backprop vs backprop with batch_size=100\n",
    "angles = ut.compute_dW_angles(bpClone_network2.predicted_dParam_history, bpClone_network2.actual_dParam_history_stepaveraged, plot=True)"
   ]
  },
  {
   "cell_type": "code",
   "execution_count": null,
   "metadata": {},
   "outputs": [],
   "source": []
  },
  {
   "cell_type": "markdown",
   "metadata": {},
   "source": [
    "## BP_like_config_8a\n"
   ]
  },
  {
   "cell_type": "code",
   "execution_count": null,
   "metadata": {},
   "outputs": [],
   "source": [
    "# Build network\n",
    "config_path = \"../optimize/data/mnist/20231205_EIANN_1_hidden_mnist_BP_like_config_8A_optimized.yaml\"\n",
    "saved_network_path = \"../optimize/data/mnist/20231205_EIANN_1_hidden_mnist_BP_like_config_8A_66049_257_complete.pkl\"\n",
    "btsp_like_8a = build_EIANN_from_config(config_path, network_seed=66049)\n",
    "\n",
    "btsp_like_8a.load(saved_network_path)\n",
    "pt.plot_batch_accuracy(btsp_like_8a, test_dataloader)"
   ]
  },
  {
   "cell_type": "code",
   "execution_count": null,
   "metadata": {},
   "outputs": [],
   "source": [
    "pt.plot_hidden_weights(btsp_like_8a.module_dict['H1E_InputE'].weight, sort=True)"
   ]
  },
  {
   "cell_type": "code",
   "execution_count": null,
   "metadata": {},
   "outputs": [],
   "source": [
    "# Plot receptive fields for output units\n",
    "\n",
    "population = btsp_like_8a.Output.E\n",
    "_, activity_preferred_inputs = ut.compute_act_weighted_avg(population, test_dataloader)\n",
    "receptive_fields = ut.compute_maxact_receptive_fields(population, test_dataloader)\n",
    "\n",
    "pt.plot_receptive_fields(receptive_fields, activity_preferred_inputs)"
   ]
  },
  {
   "cell_type": "code",
   "execution_count": null,
   "metadata": {},
   "outputs": [],
   "source": []
  },
  {
   "cell_type": "code",
   "execution_count": null,
   "metadata": {},
   "outputs": [],
   "source": [
    "# Recompute dParam history with small batch size\n",
    "bpClone_network2 = ut.compute_alternate_dParam_history(train_dataloader, btsp_like_8a, batch_size=100, constrain_params=False, \n",
    "                                                    save_path=\"saved_networks/20231201_EIANN_1_hidden_mnist_BP_like_config_7A_66049_257_complete_bpClone_batch100.pkl\")\n",
    "\n",
    "# bpClone_network2 = build_EIANN_from_config(config_path, network_seed=66049)\n",
    "# bpClone_network2.load(\"saved_networks/20231201_EIANN_1_hidden_mnist_BP_like_config_7A_66049_257_complete_bpClone_batch100.pkl\")\n",
    "\n",
    "# Stepaveraged stochastic backprop vs backprop with batch_size=100\n",
    "angles = ut.compute_dW_angles(bpClone_network2.predicted_dParam_history, bpClone_network2.actual_dParam_history_stepaveraged, plot=True)"
   ]
  },
  {
   "cell_type": "code",
   "execution_count": null,
   "metadata": {},
   "outputs": [],
   "source": []
  },
  {
   "cell_type": "code",
   "execution_count": null,
   "metadata": {},
   "outputs": [],
   "source": []
  },
  {
   "cell_type": "markdown",
   "metadata": {},
   "source": [
    "## BP_like_config_9a\n"
   ]
  },
  {
   "cell_type": "code",
   "execution_count": null,
   "metadata": {},
   "outputs": [],
   "source": [
    "# Build network\n",
    "config_path = \"../optimize/data/mnist/20231205_EIANN_1_hidden_mnist_BP_like_config_9A_optimized.yaml\"\n",
    "saved_network_path = \"../optimize/data/mnist/20231205_EIANN_1_hidden_mnist_BP_like_config_9A_66049_257_complete.pkl\"\n",
    "btsp_like_9a = build_EIANN_from_config(config_path, network_seed=66049)\n",
    "\n",
    "btsp_like_9a.load(saved_network_path)\n",
    "pt.plot_batch_accuracy(btsp_like_9a, test_dataloader)"
   ]
  },
  {
   "cell_type": "code",
   "execution_count": null,
   "metadata": {},
   "outputs": [],
   "source": [
    "pt.plot_hidden_weights(btsp_like_9a.module_dict['H1E_InputE'].weight, sort=True)"
   ]
  },
  {
   "cell_type": "code",
   "execution_count": null,
   "metadata": {},
   "outputs": [],
   "source": [
    "# Plot receptive fields for output units\n",
    "\n",
    "population = btsp_like_9a.Output.E\n",
    "receptive_fields, activity_preferred_inputs = ut.compute_act_weighted_avg(population, test_dataloader)\n",
    "# _, activity_preferred_inputs = ut.compute_maxact_receptive_fields(population, test_dataloader, sigmoid=True)\n",
    "receptive_fields, _ = ut.compute_maxact_receptive_fields(population, test_dataloader, sigmoid=False)\n",
    "pt.plot_receptive_fields(receptive_fields, activity_preferred_inputs)"
   ]
  },
  {
   "cell_type": "code",
   "execution_count": null,
   "metadata": {},
   "outputs": [],
   "source": [
    "# Recompute dParam history with small batch size\n",
    "bpClone_network2 = ut.compute_alternate_dParam_history(train_dataloader, btsp_like_9a, batch_size=100, constrain_params=False, \n",
    "                                                    save_path=\"saved_networks/20231201_EIANN_1_hidden_mnist_BP_like_config_7A_66049_257_complete_bpClone_batch100.pkl\")\n",
    "\n",
    "# bpClone_network2 = build_EIANN_from_config(config_path, network_seed=66049)\n",
    "# bpClone_network2.load(\"saved_networks/20231201_EIANN_1_hidden_mnist_BP_like_config_7A_66049_257_complete_bpClone_batch100.pkl\")\n",
    "\n",
    "# Stepaveraged stochastic backprop vs backprop with batch_size=100\n",
    "angles = ut.compute_dW_angles(bpClone_network2.predicted_dParam_history, bpClone_network2.actual_dParam_history_stepaveraged, plot=True)"
   ]
  },
  {
   "cell_type": "code",
   "execution_count": null,
   "metadata": {},
   "outputs": [],
   "source": [
    "angles = ut.compute_dW_angles(bpClone_network2.predicted_dParam_history, bpClone_network2.actual_dParam_history_stepaveraged, plot=True, only_updated_params=True)"
   ]
  },
  {
   "cell_type": "code",
   "execution_count": null,
   "metadata": {},
   "outputs": [],
   "source": []
  },
  {
   "cell_type": "markdown",
   "metadata": {},
   "source": [
    "## BP_like_config_7a 2-hidden\n",
    "\n",
    "- only a fraction of H1.E units are updated;\n",
    "- H1.E units must meet threshold to be updated and nudged\n",
    "-    accuracy: 79.0074\n",
    "-    loss: 0.0385467\n",
    "- stability: after 50000 steps:\n"
   ]
  },
  {
   "cell_type": "code",
   "execution_count": null,
   "metadata": {},
   "outputs": [],
   "source": [
    "# Build network\n",
    "config_path = \"../optimize/data/mnist/20231221_EIANN_2_hidden_mnist_BP_like_config_7A_optimized.yaml\"\n",
    "saved_network_path = \"../optimize/data/mnist/20231221_EIANN_2_hidden_mnist_BP_like_config_7A_66049_257.pkl\"\n",
    "btsp_like_7a_2h = build_EIANN_from_config(config_path, network_seed=66049)\n",
    "\n",
    "btsp_like_7a_2h.load(saved_network_path)\n",
    "pt.plot_batch_accuracy(btsp_like_7a_2h, test_dataloader)"
   ]
  },
  {
   "cell_type": "code",
   "execution_count": null,
   "metadata": {},
   "outputs": [],
   "source": [
    "pt.plot_hidden_weights(btsp_like_7a_2h.module_dict['H1E_InputE'].weight, sort=True)"
   ]
  },
  {
   "cell_type": "code",
   "execution_count": null,
   "metadata": {},
   "outputs": [],
   "source": [
    "pt.plot_hidden_weights(btsp_like_7a_2h.module_dict['H2E_H1E'].weight, sort=True)"
   ]
  },
  {
   "cell_type": "code",
   "execution_count": null,
   "metadata": {},
   "outputs": [],
   "source": [
    "# Plot receptive fields for output units\n",
    "\n",
    "population = btsp_like_7a_2h.H1.E\n",
    "receptive_fields, activity_preferred_inputs = ut.compute_act_weighted_avg(population, test_dataloader)\n",
    "pt.plot_receptive_fields(receptive_fields, activity_preferred_inputs)"
   ]
  },
  {
   "cell_type": "code",
   "execution_count": null,
   "metadata": {},
   "outputs": [],
   "source": [
    "# Plot receptive fields for output units\n",
    "\n",
    "population = btsp_like_7a_2h.H2.E\n",
    "receptive_fields, activity_preferred_inputs = ut.compute_act_weighted_avg(population, test_dataloader)\n",
    "pt.plot_receptive_fields(receptive_fields, activity_preferred_inputs)"
   ]
  },
  {
   "cell_type": "code",
   "execution_count": null,
   "metadata": {},
   "outputs": [],
   "source": [
    "# Plot receptive fields for output units\n",
    "\n",
    "population = btsp_like_7a_2h.Output.E\n",
    "receptive_fields, activity_preferred_inputs = ut.compute_act_weighted_avg(population, test_dataloader)\n",
    "pt.plot_receptive_fields(receptive_fields, activity_preferred_inputs)"
   ]
  },
  {
   "cell_type": "code",
   "execution_count": null,
   "metadata": {},
   "outputs": [],
   "source": [
    "# Plot receptive fields for output units\n",
    "\n",
    "population = btsp_like_7a_2h.H2.E\n",
    "receptive_fields, activity_preferred_inputs = ut.compute_act_weighted_avg(population, test_dataloader)\n",
    "# _, activity_preferred_inputs = ut.compute_maxact_receptive_fields(population, test_dataloader, sigmoid=True)\n",
    "receptive_fields, _ = ut.compute_maxact_receptive_fields(population, test_dataloader, sigmoid=False, num_units=50)\n",
    "pt.plot_receptive_fields(receptive_fields, activity_preferred_inputs[:50])"
   ]
  },
  {
   "cell_type": "code",
   "execution_count": null,
   "metadata": {},
   "outputs": [],
   "source": [
    "# Plot receptive fields for output units\n",
    "\n",
    "population = btsp_like_7a_2h.Output.E\n",
    "receptive_fields, activity_preferred_inputs = ut.compute_act_weighted_avg(population, test_dataloader)\n",
    "# _, activity_preferred_inputs = ut.compute_maxact_receptive_fields(population, test_dataloader, sigmoid=True)\n",
    "receptive_fields, _ = ut.compute_maxact_receptive_fields(population, test_dataloader, sigmoid=False)\n",
    "pt.plot_receptive_fields(receptive_fields, activity_preferred_inputs)"
   ]
  },
  {
   "cell_type": "code",
   "execution_count": null,
   "metadata": {},
   "outputs": [],
   "source": [
    "# Recompute dParam history with small batch size\n",
    "bpClone_network2 = ut.compute_alternate_dParam_history(train_dataloader, btsp_like_7a_2h, batch_size=100, constrain_params=False, \n",
    "                                                    save_path=\"saved_networks/20231201_EIANN_1_hidden_mnist_BP_like_config_7A_66049_257_complete_bpClone_batch100.pkl\")\n",
    "\n",
    "# bpClone_network2 = build_EIANN_from_config(config_path, network_seed=66049)\n",
    "# bpClone_network2.load(\"saved_networks/20231201_EIANN_1_hidden_mnist_BP_like_config_7A_66049_257_complete_bpClone_batch100.pkl\")\n",
    "\n",
    "# Stepaveraged stochastic backprop vs backprop with batch_size=100\n",
    "angles = ut.compute_dW_angles(bpClone_network2.predicted_dParam_history, bpClone_network2.actual_dParam_history_stepaveraged, plot=True)"
   ]
  },
  {
   "cell_type": "code",
   "execution_count": null,
   "metadata": {},
   "outputs": [],
   "source": [
    "fig, ax = plt.subplots(3,1, figsize=(8,6))\n",
    "dW = []\n",
    "for i in bpClone_network2.actual_dParam_history['module_dict.H1E_InputE.weight']:\n",
    "    dW.append(torch.sum(i))\n",
    "ax[0].plot(dW)\n",
    "\n",
    "dW = []\n",
    "for i in bpClone_network2.actual_dParam_history['module_dict.H2E_H1E.weight']:\n",
    "    dW.append(torch.sum(i))\n",
    "ax[1].plot(dW)\n",
    "\n",
    "dW = []\n",
    "for i in bpClone_network2.actual_dParam_history['module_dict.OutputE_H2E.weight']:\n",
    "    dW.append(torch.sum(i))\n",
    "ax[2].plot(dW)\n",
    "\n",
    "plt.show()"
   ]
  },
  {
   "cell_type": "code",
   "execution_count": null,
   "metadata": {},
   "outputs": [],
   "source": []
  },
  {
   "cell_type": "code",
   "execution_count": null,
   "metadata": {},
   "outputs": [],
   "source": []
  },
  {
   "cell_type": "markdown",
   "metadata": {},
   "source": [
    "## BP_like_config_1E"
   ]
  },
  {
   "cell_type": "code",
   "execution_count": null,
   "metadata": {},
   "outputs": [],
   "source": [
    "# Build network\n",
    "config_path = \"../network_config/mnist/20240307_EIANN_1_hidden_mnist_BP_like_config_1E_optimized.yaml\"\n",
    "saved_network_path = \"../data/mnist/20240307_EIANN_1_hidden_mnist_BP_like_config_1E_66049_257_complete.pkl\"\n",
    "btsp_like_1e = build_EIANN_from_config(config_path, network_seed=66049)\n",
    "\n",
    "btsp_like_1e.load(saved_network_path)\n",
    "pt.plot_batch_accuracy(btsp_like_1e, test_dataloader)"
   ]
  },
  {
   "cell_type": "code",
   "execution_count": null,
   "metadata": {},
   "outputs": [],
   "source": [
    "pt.plot_hidden_weights(btsp_like_1e.module_dict['H1E_InputE'].weight, sort=True)"
   ]
  },
  {
   "cell_type": "code",
   "execution_count": null,
   "metadata": {},
   "outputs": [],
   "source": [
    "# Plot receptive fields for output units\n",
    "\n",
    "population = btsp_like_1e.Output.E\n",
    "receptive_fields, activity_preferred_inputs = ut.compute_act_weighted_avg(population, test_dataloader)\n",
    "# _, activity_preferred_inputs = ut.compute_maxact_receptive_fields(population, test_dataloader, sigmoid=True)\n",
    "receptive_fields, _ = ut.compute_maxact_receptive_fields(population, test_dataloader, sigmoid=False)\n",
    "pt.plot_receptive_fields(receptive_fields, activity_preferred_inputs)"
   ]
  },
  {
   "cell_type": "code",
   "execution_count": null,
   "metadata": {},
   "outputs": [],
   "source": [
    "# Recompute dParam history with small batch size\n",
    "bpClone_network = ut.compute_alternate_dParam_history(train_dataloader, btsp_like_1e, batch_size=100, constrain_params=False, \n",
    "                                                    save_path=\"saved_networks/20240307_EIANN_1_hidden_mnist_BP_like_config_1E_66049_257_complete.pkl\")\n",
    "\n",
    "# Stepaveraged stochastic backprop vs backprop with batch_size=100\n",
    "angles = ut.compute_dW_angles(bpClone_network.predicted_dParam_history, bpClone_network.actual_dParam_history_stepaveraged, plot=True)"
   ]
  },
  {
   "cell_type": "code",
   "execution_count": null,
   "metadata": {},
   "outputs": [],
   "source": []
  },
  {
   "cell_type": "markdown",
   "metadata": {},
   "source": [
    "## BP_like_config_2E"
   ]
  },
  {
   "cell_type": "code",
   "execution_count": null,
   "metadata": {},
   "outputs": [],
   "source": [
    "# Build network\n",
    "config_path = \"../network_config/mnist/20240305_EIANN_1_hidden_mnist_BP_like_config_2E_optimized.yaml\"\n",
    "saved_network_path = \"../data/mnist/20240305_EIANN_1_hidden_mnist_BP_like_config_2E_66049_257_complete.pkl\"\n",
    "btsp_like_2e = build_EIANN_from_config(config_path, network_seed=66049)\n",
    "\n",
    "btsp_like_2e.load(saved_network_path)\n",
    "pt.plot_batch_accuracy(btsp_like_2e, test_dataloader)"
   ]
  },
  {
   "cell_type": "code",
   "execution_count": null,
   "metadata": {},
   "outputs": [],
   "source": [
    "pt.plot_hidden_weights(btsp_like_2e.module_dict['H1E_InputE'].weight, sort=True)"
   ]
  },
  {
   "cell_type": "code",
   "execution_count": null,
   "metadata": {},
   "outputs": [],
   "source": [
    "# Plot receptive fields for output units\n",
    "\n",
    "population = btsp_like_2e.Output.E\n",
    "receptive_fields, activity_preferred_inputs = ut.compute_act_weighted_avg(population, test_dataloader)\n",
    "# _, activity_preferred_inputs = ut.compute_maxact_receptive_fields(population, test_dataloader, sigmoid=True)\n",
    "receptive_fields, _ = ut.compute_maxact_receptive_fields(population, test_dataloader, sigmoid=False)\n",
    "pt.plot_receptive_fields(receptive_fields, activity_preferred_inputs)"
   ]
  },
  {
   "cell_type": "code",
   "execution_count": null,
   "metadata": {},
   "outputs": [],
   "source": [
    "# Recompute dParam history with small batch size\n",
    "bpClone_network = ut.compute_alternate_dParam_history(train_dataloader, btsp_like_2e, batch_size=100, constrain_params=False, \n",
    "                                                    save_path=\"saved_networks/20240305_EIANN_1_hidden_mnist_BP_like_config_2E_66049_257_complete.pkl\")\n",
    "\n",
    "# Stepaveraged stochastic backprop vs backprop with batch_size=100\n",
    "angles = ut.compute_dW_angles(bpClone_network.predicted_dParam_history, bpClone_network.actual_dParam_history_stepaveraged, plot=True)"
   ]
  },
  {
   "cell_type": "code",
   "execution_count": null,
   "metadata": {},
   "outputs": [],
   "source": []
  },
  {
   "cell_type": "markdown",
   "metadata": {},
   "source": [
    "## BP_like_config_2H"
   ]
  },
  {
   "cell_type": "code",
   "execution_count": null,
   "metadata": {},
   "outputs": [],
   "source": [
    "# Build network\n",
    "config_path = \"../network_config/mnist/20240305_EIANN_1_hidden_mnist_BP_like_config_2H_optimized.yaml\"\n",
    "saved_network_path = \"../data/mnist/20240305_EIANN_1_hidden_mnist_BP_like_config_2H_66049_257_complete.pkl\"\n",
    "btsp_like_2h = build_EIANN_from_config(config_path, network_seed=66049)\n",
    "\n",
    "btsp_like_2h.load(saved_network_path)\n",
    "pt.plot_batch_accuracy(btsp_like_2h, test_dataloader)"
   ]
  },
  {
   "cell_type": "code",
   "execution_count": null,
   "metadata": {},
   "outputs": [],
   "source": [
    "pt.plot_hidden_weights(btsp_like_2h.module_dict['H1E_InputE'].weight, sort=True)"
   ]
  },
  {
   "cell_type": "code",
   "execution_count": null,
   "metadata": {},
   "outputs": [],
   "source": [
    "# Plot receptive fields for output units\n",
    "\n",
    "population = btsp_like_2h.Output.E\n",
    "receptive_fields, activity_preferred_inputs = ut.compute_act_weighted_avg(population, test_dataloader)\n",
    "# _, activity_preferred_inputs = ut.compute_maxact_receptive_fields(population, test_dataloader, sigmoid=True)\n",
    "receptive_fields, _ = ut.compute_maxact_receptive_fields(population, test_dataloader, sigmoid=False)\n",
    "pt.plot_receptive_fields(receptive_fields, activity_preferred_inputs)"
   ]
  },
  {
   "cell_type": "code",
   "execution_count": null,
   "metadata": {},
   "outputs": [],
   "source": [
    "# Recompute dParam history with small batch size\n",
    "bpClone_network = ut.compute_alternate_dParam_history(train_dataloader, btsp_like_2h, batch_size=100, constrain_params=False, \n",
    "                                                    save_path=\"saved_networks/20240305_EIANN_1_hidden_mnist_BP_like_config_2H_66049_257_complete.pkl\")\n",
    "\n",
    "# Stepaveraged stochastic backprop vs backprop with batch_size=100\n",
    "angles = ut.compute_dW_angles(bpClone_network.predicted_dParam_history, bpClone_network.actual_dParam_history_stepaveraged, plot=True)"
   ]
  },
  {
   "cell_type": "code",
   "execution_count": null,
   "metadata": {},
   "outputs": [],
   "source": []
  },
  {
   "cell_type": "markdown",
   "metadata": {},
   "source": [
    "## BP_like_config_2G"
   ]
  },
  {
   "cell_type": "code",
   "execution_count": null,
   "metadata": {},
   "outputs": [],
   "source": [
    "# Build network\n",
    "config_path = \"../network_config/mnist/20240305_EIANN_1_hidden_mnist_BP_like_config_2G_optimized.yaml\"\n",
    "saved_network_path = \"../data/mnist/20240305_EIANN_1_hidden_mnist_BP_like_config_2G_66049_257_complete.pkl\"\n",
    "btsp_like_2g = build_EIANN_from_config(config_path, network_seed=66049)\n",
    "\n",
    "btsp_like_2g.load(saved_network_path)\n",
    "pt.plot_batch_accuracy(btsp_like_2g, test_dataloader)"
   ]
  },
  {
   "cell_type": "code",
   "execution_count": null,
   "metadata": {},
   "outputs": [],
   "source": [
    "pt.plot_hidden_weights(btsp_like_2g.module_dict['H1E_InputE'].weight, sort=True)"
   ]
  },
  {
   "cell_type": "code",
   "execution_count": null,
   "metadata": {},
   "outputs": [],
   "source": [
    "# Plot receptive fields for output units\n",
    "\n",
    "population = btsp_like_2g.Output.E\n",
    "receptive_fields, activity_preferred_inputs = ut.compute_act_weighted_avg(population, test_dataloader)\n",
    "# _, activity_preferred_inputs = ut.compute_maxact_receptive_fields(population, test_dataloader, sigmoid=True)\n",
    "receptive_fields, _ = ut.compute_maxact_receptive_fields(population, test_dataloader, sigmoid=False)\n",
    "pt.plot_receptive_fields(receptive_fields, activity_preferred_inputs)"
   ]
  },
  {
   "cell_type": "code",
   "execution_count": null,
   "metadata": {},
   "outputs": [],
   "source": [
    "# Recompute dParam history with small batch size\n",
    "bpClone_network = ut.compute_alternate_dParam_history(train_dataloader, btsp_like_2g, batch_size=100, constrain_params=False, \n",
    "                                                    save_path=\"saved_networks/20240305_EIANN_1_hidden_mnist_BP_like_config_2G_66049_257_complete.pkl\")\n",
    "\n",
    "# Stepaveraged stochastic backprop vs backprop with batch_size=100\n",
    "angles = ut.compute_dW_angles(bpClone_network.predicted_dParam_history, bpClone_network.actual_dParam_history_stepaveraged, plot=True)"
   ]
  },
  {
   "cell_type": "code",
   "execution_count": null,
   "metadata": {},
   "outputs": [],
   "source": []
  },
  {
   "cell_type": "markdown",
   "metadata": {},
   "source": [
    "## BP_like_config_2F"
   ]
  },
  {
   "cell_type": "code",
   "execution_count": null,
   "metadata": {},
   "outputs": [],
   "source": [
    "# Build network\n",
    "config_path = \"../network_config/mnist/20240305_EIANN_1_hidden_mnist_BP_like_config_2F_optimized.yaml\"\n",
    "saved_network_path = \"../data/mnist/20240305_EIANN_1_hidden_mnist_BP_like_config_2F_66049_257_complete.pkl\"\n",
    "btsp_like_2f = build_EIANN_from_config(config_path, network_seed=66049)\n",
    "\n",
    "btsp_like_2f.load(saved_network_path)\n",
    "pt.plot_batch_accuracy(btsp_like_2f, test_dataloader)"
   ]
  },
  {
   "cell_type": "code",
   "execution_count": null,
   "metadata": {},
   "outputs": [],
   "source": [
    "pt.plot_hidden_weights(btsp_like_2f.module_dict['H1E_InputE'].weight, sort=True)"
   ]
  },
  {
   "cell_type": "code",
   "execution_count": null,
   "metadata": {},
   "outputs": [],
   "source": [
    "# Plot receptive fields for output units\n",
    "\n",
    "population = btsp_like_2f.Output.E\n",
    "receptive_fields, activity_preferred_inputs = ut.compute_act_weighted_avg(population, test_dataloader)\n",
    "# _, activity_preferred_inputs = ut.compute_maxact_receptive_fields(population, test_dataloader, sigmoid=True)\n",
    "receptive_fields, _ = ut.compute_maxact_receptive_fields(population, test_dataloader, sigmoid=False)\n",
    "pt.plot_receptive_fields(receptive_fields, activity_preferred_inputs)"
   ]
  },
  {
   "cell_type": "code",
   "execution_count": null,
   "metadata": {},
   "outputs": [],
   "source": [
    "# Recompute dParam history with small batch size\n",
    "# bpClone_network = ut.compute_alternate_dParam_history(train_dataloader, btsp_like_2f, batch_size=100, constrain_params=False, \n",
    "#                                                     save_path=\"saved_networks/20240305_EIANN_1_hidden_mnist_BP_like_config_2F_66049_257_complete_bpClone_batch100.pkl\")\n",
    "\n",
    "# config_path = \"../network_config/mnist/20240305_EIANN_1_hidden_mnist_BP_like_config_2F_optimized.yaml\"\n",
    "# bpClone_network = build_EIANN_from_config(config_path, network_seed=66049)\n",
    "# bpClone_network.load(\"saved_networks/20240305_EIANN_1_hidden_mnist_BP_like_config_2F_66049_257_complete_bpClone_batch100.pkl\")\n",
    "\n",
    "# Stepaveraged stochastic backprop vs backprop with batch_size=100\n",
    "angles = ut.compute_dW_angles(bpClone_network.predicted_dParam_history, bpClone_network.actual_dParam_history_stepaveraged, plot=True, only_updated_params=False)"
   ]
  },
  {
   "cell_type": "code",
   "execution_count": null,
   "metadata": {},
   "outputs": [],
   "source": []
  },
  {
   "cell_type": "markdown",
   "metadata": {},
   "source": [
    "## BTSP_cont_J2\n",
    "\n",
    "BTSP_cont_J2:\n",
    "  - H1.E.Output.E is weight transpose\n",
    "  - E.E: BTSP_12_cont rule:\n",
    "  \t- No threshold - IS and dend2soma nudge are proportional to error\n",
    "\t- Negative error triggers a linear weight-dependent depression\n",
    "  - H1.E.H1.DendI: DendriticLoss_5 rule"
   ]
  },
  {
   "cell_type": "code",
   "execution_count": null,
   "metadata": {},
   "outputs": [],
   "source": [
    "# Build network\n",
    "config_path = \"../optimize/data/mnist/20231025_EIANN_1_hidden_mnist_BTSP_cont_config_J2_optimized.yaml\"\n",
    "saved_network_path = \"../optimize/data/mnist/20231025_EIANN_1_hidden_mnist_BTSP_cont_config_J2_66049_257_complete.pkl\"\n",
    "btsp_j2_network = build_EIANN_from_config(config_path, network_seed=66049)\n",
    "\n",
    "btsp_j2_network.load(saved_network_path)\n",
    "pt.plot_batch_accuracy(btsp_j2_network, test_dataloader)"
   ]
  },
  {
   "cell_type": "code",
   "execution_count": null,
   "metadata": {},
   "outputs": [],
   "source": [
    "pt.plot_hidden_weights(btsp_j2_network.module_dict['H1E_InputE'].weight, sort=True)"
   ]
  },
  {
   "cell_type": "code",
   "execution_count": null,
   "metadata": {},
   "outputs": [],
   "source": [
    "# Plot receptive fields for output units\n",
    "\n",
    "population = btsp_j2_network.Output.E\n",
    "receptive_fields, activity_preferred_inputs = ut.compute_act_weighted_avg(population, test_dataloader)\n",
    "# _, activity_preferred_inputs = ut.compute_maxact_receptive_fields(population, test_dataloader, sigmoid=True)\n",
    "receptive_fields, _ = ut.compute_maxact_receptive_fields(population, test_dataloader, sigmoid=False)\n",
    "pt.plot_receptive_fields(receptive_fields, activity_preferred_inputs)"
   ]
  },
  {
   "cell_type": "code",
   "execution_count": null,
   "metadata": {},
   "outputs": [],
   "source": [
    "# bpClone_network = ut.compute_alternate_dParam_history(train_dataloader, btsp_j2_network, constrain_params=False, \n",
    "#                                                     save_path = \"saved_networks/20231025_EIANN_1_hidden_mnist_BTSP_cont_config_J2_66049_257_complete_bpClone.pkl\")\n",
    "\n",
    "bpClone_network = build_EIANN_from_config(config_path, network_seed=66049)\n",
    "bpClone_network.load(\"saved_networks/20231025_EIANN_1_hidden_mnist_BTSP_cont_config_J2_66049_257_complete_bpClone.pkl\")"
   ]
  },
  {
   "cell_type": "code",
   "execution_count": null,
   "metadata": {},
   "outputs": [],
   "source": [
    "# # Single-step stochastic vs fullbatch backprop\n",
    "# angles = ut.compute_dW_angles(bpClone_network.predicted_dParam_history, bpClone_network.actual_dParam_history, plot=True)"
   ]
  },
  {
   "cell_type": "code",
   "execution_count": null,
   "metadata": {},
   "outputs": [],
   "source": [
    "# # Stepaveraged vs fullbatch backprop\n",
    "# angles = ut.compute_dW_angles(bpClone_network.predicted_dParam_history, bpClone_network.actual_dParam_history_stepaveraged, plot=True)"
   ]
  },
  {
   "cell_type": "code",
   "execution_count": null,
   "metadata": {},
   "outputs": [],
   "source": [
    "# Recompute dParam history with small batch size\n",
    "bpClone_network2 = ut.compute_alternate_dParam_history(train_dataloader, btsp_j2_network, batch_size=100, constrain_params=False, \n",
    "                                                    save_path=\"saved_networks/20231025_EIANN_1_hidden_mnist_BTSP_cont_config_J2_66049_257_complete_bpClone_batch100.pkl\")\n",
    "\n",
    "# Stepaveraged stochastic backprop vs backprop with batch_size=100\n",
    "angles = ut.compute_dW_angles(bpClone_network2.predicted_dParam_history, bpClone_network2.actual_dParam_history_stepaveraged, plot=True)"
   ]
  },
  {
   "cell_type": "code",
   "execution_count": null,
   "metadata": {},
   "outputs": [],
   "source": [
    "# # Recompute dParam history with small batch size\n",
    "# bpClone_network3 = ut.compute_alternate_dParam_history(train_dataloader, btsp_j2_network, batch_size=1, constrain_params=False)\n",
    "\n",
    "# # Single-step stochastic backprop vs backprop with batch_size=1\n",
    "# angles = ut.compute_dW_angles(bpClone_network3.predicted_dParam_history, bpClone_network3.actual_dParam_history, plot=True)"
   ]
  },
  {
   "cell_type": "code",
   "execution_count": null,
   "metadata": {},
   "outputs": [],
   "source": []
  },
  {
   "cell_type": "code",
   "execution_count": null,
   "metadata": {},
   "outputs": [],
   "source": []
  },
  {
   "cell_type": "markdown",
   "metadata": {},
   "source": [
    "## BTSP_K2\n",
    "\n",
    "  - 15 forward steps\n",
    "  - 50 H1.SomaI units (combined FF + FB), 10 Output.SomaI units\n",
    "  - 50 H1.DendI units\n",
    "  - H1.E.Output.E is W.T\n",
    "  - E.E: BTSP_13 rule:\n",
    "\t- Back to basics from BTSP_2:\n",
    "\t- Pos mod events above pos threshold\n",
    "\t- Neg mod events below neg threshold\n",
    "\t- Fixed max fraction of population allowed mod event"
   ]
  },
  {
   "cell_type": "code",
   "execution_count": null,
   "metadata": {},
   "outputs": [],
   "source": [
    "# Build network\n",
    "config_path = \"../optimize/data/mnist/20231120_EIANN_1_hidden_mnist_BTSP_config_K2_optimized.yaml\"\n",
    "saved_network_path = \"../optimize/data/mnist/20231120_EIANN_1_hidden_mnist_BTSP_config_K2_66049_257_complete.pkl\"\n",
    "btsp_k2_network = build_EIANN_from_config(config_path, network_seed=66049)\n",
    "\n",
    "btsp_k2_network.load(saved_network_path)\n",
    "pt.plot_batch_accuracy(btsp_k2_network, test_dataloader)"
   ]
  },
  {
   "cell_type": "code",
   "execution_count": null,
   "metadata": {},
   "outputs": [],
   "source": [
    "pt.plot_hidden_weights(btsp_k2_network.module_dict['H1E_InputE'].weight, sort=True)"
   ]
  },
  {
   "cell_type": "code",
   "execution_count": null,
   "metadata": {},
   "outputs": [],
   "source": [
    "# Plot receptive fields for output units\n",
    "\n",
    "population = btsp_k2_network.Output.E\n",
    "receptive_fields, activity_preferred_inputs = ut.compute_act_weighted_avg(population, test_dataloader)\n",
    "pt.plot_receptive_fields(receptive_fields, activity_preferred_inputs)"
   ]
  },
  {
   "cell_type": "code",
   "execution_count": null,
   "metadata": {},
   "outputs": [],
   "source": [
    "# Plot receptive fields for output units\n",
    "\n",
    "population = btsp_k2_network.Output.E\n",
    "receptive_fields, activity_preferred_inputs = ut.compute_act_weighted_avg(population, test_dataloader)\n",
    "# _, activity_preferred_inputs = ut.compute_maxact_receptive_fields(population, test_dataloader, sigmoid=True)\n",
    "receptive_fields, _ = ut.compute_maxact_receptive_fields(population, test_dataloader, sigmoid=False)\n",
    "pt.plot_receptive_fields(receptive_fields, activity_preferred_inputs)"
   ]
  },
  {
   "cell_type": "code",
   "execution_count": null,
   "metadata": {},
   "outputs": [],
   "source": [
    "# bpClone_network = ut.compute_alternate_dParam_history(train_dataloader, btsp_k2_network, constrain_params=False, \n",
    "#                                                     save_path = \"saved_networks/20231120_EIANN_1_hidden_mnist_BTSP_config_K2_66049_257_complete_bpClone.pkl\")\n",
    "\n",
    "# # bpClone_network = build_EIANN_from_config(config_path, network_seed=66049)\n",
    "# # bpClone_network.load(\"saved_networks/20231120_EIANN_1_hidden_mnist_BTSP_config_K2_66049_257_complete_bpClone.pkl\")"
   ]
  },
  {
   "cell_type": "code",
   "execution_count": null,
   "metadata": {},
   "outputs": [],
   "source": [
    "# # Single-step stochastic vs fullbatch backprop\n",
    "# angles = ut.compute_dW_angles(bpClone_network.predicted_dParam_history, bpClone_network.actual_dParam_history, plot=True)"
   ]
  },
  {
   "cell_type": "code",
   "execution_count": null,
   "metadata": {},
   "outputs": [],
   "source": [
    "# # Stepaveraged vs fullbatch backprop\n",
    "# angles = ut.compute_dW_angles(bpClone_network.predicted_dParam_history, bpClone_network.actual_dParam_history_stepaveraged, plot=True)"
   ]
  },
  {
   "cell_type": "code",
   "execution_count": null,
   "metadata": {},
   "outputs": [],
   "source": [
    "# Recompute dParam history with small batch size\n",
    "bpClone_network2 = ut.compute_alternate_dParam_history(train_dataloader, btsp_k2_network, batch_size=100, constrain_params=False, \n",
    "                                                    save_path=\"saved_networks/20231120_EIANN_1_hidden_mnist_BTSP_config_K2_66049_257_complete_bpClone_batch100.pkl\")\n",
    "\n",
    "# Stepaveraged stochastic backprop vs backprop with batch_size=100\n",
    "angles = ut.compute_dW_angles(bpClone_network2.predicted_dParam_history, bpClone_network2.actual_dParam_history_stepaveraged, plot=True)"
   ]
  },
  {
   "cell_type": "code",
   "execution_count": null,
   "metadata": {},
   "outputs": [],
   "source": [
    "# # Recompute dParam history with small batch size\n",
    "# bpClone_network3 = ut.compute_alternate_dParam_history(train_dataloader, btsp_k2_network, batch_size=1, constrain_params=False)\n",
    "\n",
    "# # Single-step stochastic backprop vs backprop with batch_size=1\n",
    "# angles = ut.compute_dW_angles(bpClone_network3.predicted_dParam_history, bpClone_network3.actual_dParam_history, plot=True)"
   ]
  },
  {
   "cell_type": "code",
   "execution_count": null,
   "metadata": {},
   "outputs": [],
   "source": []
  },
  {
   "cell_type": "markdown",
   "metadata": {},
   "source": [
    "## BTSP_K1\n",
    "- Same as K2 but top-down is learned with BTSP\n"
   ]
  },
  {
   "cell_type": "code",
   "execution_count": null,
   "metadata": {},
   "outputs": [],
   "source": [
    "# Build network\n",
    "config_path = \"../optimize/data/mnist/20231108_EIANN_1_hidden_mnist_BTSP_config_K1_optimized.yaml\"\n",
    "saved_network_path = \"../optimize/data/mnist/20231108_EIANN_1_hidden_mnist_BTSP_config_K1_66049_257_complete.pkl\"\n",
    "btsp_k1_network = build_EIANN_from_config(config_path, network_seed=66049)\n",
    "\n",
    "btsp_k1_network.load(saved_network_path)\n",
    "pt.plot_batch_accuracy(btsp_k1_network, test_dataloader)"
   ]
  },
  {
   "cell_type": "code",
   "execution_count": null,
   "metadata": {},
   "outputs": [],
   "source": [
    "pt.plot_hidden_weights(btsp_k1_network.module_dict['H1E_InputE'].weight, sort=True)"
   ]
  },
  {
   "cell_type": "code",
   "execution_count": null,
   "metadata": {},
   "outputs": [],
   "source": [
    "# Plot receptive fields for output units\n",
    "\n",
    "population = btsp_k1_network.Output.E\n",
    "receptive_fields, activity_preferred_inputs = ut.compute_act_weighted_avg(population, test_dataloader)\n",
    "# _, activity_preferred_inputs = ut.compute_maxact_receptive_fields(population, test_dataloader, sigmoid=True)\n",
    "receptive_fields, _ = ut.compute_maxact_receptive_fields(population, test_dataloader, sigmoid=False)\n",
    "pt.plot_receptive_fields(receptive_fields, activity_preferred_inputs)"
   ]
  },
  {
   "cell_type": "code",
   "execution_count": null,
   "metadata": {},
   "outputs": [],
   "source": [
    "# Recompute dParam history with small batch size\n",
    "bpClone_network2 = ut.compute_alternate_dParam_history(train_dataloader, btsp_k1_network, batch_size=100, constrain_params=False, \n",
    "                                                    save_path=\"saved_networks/20231108_EIANN_1_hidden_mnist_BTSP_config_K1_66049_257_complete_bpClone_batch100.pkl\")\n",
    "\n",
    "# Stepaveraged stochastic backprop vs backprop with batch_size=100\n",
    "angles = ut.compute_dW_angles(bpClone_network2.predicted_dParam_history, bpClone_network2.actual_dParam_history_stepaveraged, plot=True)"
   ]
  },
  {
   "cell_type": "code",
   "execution_count": null,
   "metadata": {},
   "outputs": [],
   "source": []
  },
  {
   "cell_type": "markdown",
   "metadata": {},
   "source": [
    "## BTSP G3\n",
    "\n",
    "  - Problem: CL_mnist performance comparable to backprop (i.e. bad)\n",
    "  - 15 forward steps\n",
    "  - 50 H1.SomaI units (combined FF + FB), 10 Output.SomaI units\n",
    "  - 50 H1.DendI units\n",
    "  - E.E: BTSP_11 rule:\n",
    "\t- Includes a plateau refractory period\n",
    "\t- Only positive (binary) nudges when above pos threshold\n",
    "  - H1.E.H1.DendI: DendriticLoss_5 rule"
   ]
  },
  {
   "cell_type": "code",
   "execution_count": null,
   "metadata": {},
   "outputs": [],
   "source": [
    "# Build network\n",
    "config_path = \"../network_config/mnist/20230825_EIANN_1_hidden_mnist_BTSP_config_G3_optimized.yaml\"\n",
    "saved_network_path = \"../data/mnist/20230822_EIANN_1_hidden_mnist_BTSP_config_G3_66049_257_20000_steps.pkl\"\n",
    "btsp_network = ut.build_EIANN_from_config(config_path, network_seed=66049)\n",
    "\n",
    "# data_generator.manual_seed(257)\n",
    "# btsp_network.train(train_sub_dataloader, \n",
    "#                 test_dataloader, \n",
    "#                 epochs=1,\n",
    "#                 val_interval=(0,-1,100),\n",
    "#                 store_history=True, \n",
    "#                 store_params=True,\n",
    "#                 status_bar=True)\n",
    "# btsp_network.save(\"saved_networks/20230822_EIANN_1_hidden_mnist_BTSP_config_G3_66049_257_20000_steps_retrained.pkl\")\n",
    "saved_network_path = \"saved_networks/20230822_EIANN_1_hidden_mnist_BTSP_config_G3_66049_257_20000_steps_retrained.pkl\"\n",
    "\n",
    "btsp_network.load(saved_network_path)"
   ]
  },
  {
   "cell_type": "code",
   "execution_count": null,
   "metadata": {},
   "outputs": [],
   "source": [
    "pt.plot_batch_accuracy(btsp_network, test_dataloader)"
   ]
  },
  {
   "cell_type": "code",
   "execution_count": null,
   "metadata": {},
   "outputs": [],
   "source": [
    "# Backprop ReLU\n",
    "# btsp_bpClone = ut.compute_alternate_dParam_history(train_dataloader, btsp_network,  constrain_params=False, save_path='saved_networks/20230822_EIANN_1_hidden_mnist_BTSP_config_G3_66049_257_20000_steps_bpCloneReLU.pkl')\n",
    "\n",
    "btsp_bpClone = build_EIANN_from_config(\"../optimize/data/mnist/20230825_EIANN_1_hidden_mnist_BTSP_config_G3_optimized.yaml\")\n",
    "btsp_bpClone.load('saved_networks/20230822_EIANN_1_hidden_mnist_BTSP_config_G3_66049_257_20000_steps_bpCloneReLU.pkl')\n",
    "\n",
    "to_delete = ['module_dict.H1E_H1DendI.weight', 'module_dict.H1E_OutputE.weight']\n",
    "for key in to_delete:\n",
    "    del btsp_bpClone.predicted_dParam_history[key]\n",
    "    del btsp_bpClone.actual_dParam_history[key]\n",
    "    del btsp_bpClone.actual_dParam_history_stepaveraged[key]\n",
    "ut.recompute_dParam_history_all(btsp_bpClone)"
   ]
  },
  {
   "cell_type": "code",
   "execution_count": null,
   "metadata": {},
   "outputs": [],
   "source": [
    "# Stochastic btsp vs fullbatch backprop\n",
    "angles = ut.compute_dW_angles(btsp_bpClone.predicted_dParam_history, btsp_bpClone.actual_dParam_history, plot=True)"
   ]
  },
  {
   "cell_type": "code",
   "execution_count": null,
   "metadata": {},
   "outputs": [],
   "source": [
    "# Stepaveraged btsp vs fullbatch backprop\n",
    "angles = ut.compute_dW_angles(btsp_bpClone.predicted_dParam_history, btsp_bpClone.actual_dParam_history_stepaveraged, plot=True)"
   ]
  },
  {
   "cell_type": "code",
   "execution_count": null,
   "metadata": {},
   "outputs": [],
   "source": [
    "# Recompute dParam history with small batch size and save to Clone network\n",
    "btsp_bpClone_batch = ut.compute_alternate_dParam_history(train_dataloader, btsp_network, batch_size=100, constrain_params=False, \n",
    "                                                        save_path='saved_networks/20230822_EIANN_1_hidden_mnist_BTSP_config_G3_66049_257_20000_steps_bpCloneReLU_batch100.pkl')\n",
    "\n",
    "# btsp_bpClone_batch = build_EIANN_from_config(\"../config/MNIST/20230822_EIANN_1_hidden_mnist_BTSP_config_G3.yaml\")\n",
    "# btsp_bpClone_batch.load('saved_networks/20230822_EIANN_1_hidden_mnist_BTSP_config_G3_66049_257_20000_steps_bpCloneReLU_batch100.pkl')\n",
    "\n",
    "to_delete = ['module_dict.H1E_H1DendI.weight', 'module_dict.H1E_OutputE.weight']\n",
    "for key in to_delete:\n",
    "    del btsp_bpClone_batch.predicted_dParam_history[key]\n",
    "    del btsp_bpClone_batch.actual_dParam_history[key]\n",
    "    del btsp_bpClone_batch.actual_dParam_history_stepaveraged[key]\n",
    "ut.recompute_dParam_history_all(btsp_bpClone_batch)"
   ]
  },
  {
   "cell_type": "code",
   "execution_count": null,
   "metadata": {},
   "outputs": [],
   "source": [
    "# Stepaveraged btsp vs backprop (batch_size=100)\n",
    "angles = ut.compute_dW_angles(btsp_bpClone_batch.predicted_dParam_history, btsp_bpClone_batch.actual_dParam_history_stepaveraged, plot=True)"
   ]
  },
  {
   "cell_type": "code",
   "execution_count": null,
   "metadata": {},
   "outputs": [],
   "source": [
    "# Recompute dParam history with small batch size and save to Clone network\n",
    "btsp_bpClone_batch = ut.compute_alternate_dParam_history(train_dataloader, btsp_network, batch_size=1, constrain_params=False, \n",
    "                                                        save_path='saved_networks/20230822_EIANN_1_hidden_mnist_BTSP_config_G3_66049_257_20000_steps_bpCloneReLU_batch1.pkl')\n",
    "\n",
    "# btsp_bpClone_batch = build_EIANN_from_config(\"../config/MNIST/20230822_EIANN_1_hidden_mnist_BTSP_config_G3.yaml\")\n",
    "# btsp_bpClone_batch.load('saved_networks/20230822_EIANN_1_hidden_mnist_BTSP_config_G3_66049_257_20000_steps_bpCloneReLU_batch100.pkl')\n",
    "\n",
    "to_delete = ['module_dict.H1E_H1DendI.weight', 'module_dict.H1E_OutputE.weight']\n",
    "for key in to_delete:\n",
    "    del btsp_bpClone_batch.predicted_dParam_history[key]\n",
    "    del btsp_bpClone_batch.actual_dParam_history[key]\n",
    "    del btsp_bpClone_batch.actual_dParam_history_stepaveraged[key]\n",
    "ut.recompute_dParam_history_all(btsp_bpClone_batch)"
   ]
  },
  {
   "cell_type": "code",
   "execution_count": null,
   "metadata": {},
   "outputs": [],
   "source": [
    "# Stepaveraged btsp vs backprop (batch_size=1)\n",
    "angles = ut.compute_dW_angles(btsp_bpClone_batch.predicted_dParam_history, btsp_bpClone_batch.actual_dParam_history, plot=True)"
   ]
  },
  {
   "cell_type": "code",
   "execution_count": null,
   "metadata": {},
   "outputs": [],
   "source": []
  },
  {
   "cell_type": "markdown",
   "metadata": {},
   "source": [
    "## Supervised Gj-Hebb"
   ]
  },
  {
   "cell_type": "code",
   "execution_count": null,
   "metadata": {},
   "outputs": [],
   "source": [
    "# Build network\n",
    "config_path = \"../network_config/mnist/20240714_EIANN_2_hidden_mnist_Top_Layer_Supervised_Hebb_WeightNorm_config_4_complete_optimized.yaml\"\n",
    "\n",
    "# gj_network = ut.build_EIANN_from_config(config_path, network_seed=66049)\n",
    "# data_generator.manual_seed(257)\n",
    "# gj_network.train(train_sub_dataloader, \n",
    "#                 test_dataloader, \n",
    "#                 epochs=1,\n",
    "#                 val_interval=(0,-1,100),\n",
    "#                 store_history=True, \n",
    "#                 store_params=True,\n",
    "#                 status_bar=True)\n",
    "# gj_network.save(\"saved_networks/20230505_EIANN_1_hidden_mnist_Supervised_Gjorgjieva_Hebb_config_F_66049_257_retrained.pkl\")\n",
    "# saved_network_path = \"saved_networks/20230505_EIANN_1_hidden_mnist_Supervised_Gjorgjieva_Hebb_config_F_66049_257_retrained.pkl\"\n",
    "# ut.rename_population(gj_network, 'I', 'SomaI')\n",
    "\n",
    "saved_network_path = \"../data/mnist/20240714_EIANN_2_hidden_mnist_Top_Layer_Supervised_Hebb_WeightNorm_config_4_66049_257_complete.pkl\"\n",
    "gj_network = ut.load_network(saved_network_path)"
   ]
  },
  {
   "cell_type": "code",
   "execution_count": null,
   "metadata": {},
   "outputs": [],
   "source": [
    "pt.plot_batch_accuracy(gj_network, test_dataloader, population='H1E')"
   ]
  },
  {
   "cell_type": "code",
   "execution_count": null,
   "metadata": {},
   "outputs": [],
   "source": [
    "hidden_weights = gj_network.module_dict['H1E_InputE'].weight.detach().clone()\n",
    "pt.plot_hidden_weights(hidden_weights, sort=True)"
   ]
  },
  {
   "cell_type": "code",
   "execution_count": null,
   "metadata": {},
   "outputs": [],
   "source": [
    "# Set all recurrent projections to zero\n",
    "for name, projection in gj_network.projections.items():\n",
    "    if 'SomaI' in name:\n",
    "        projection.weight.data.fill_(0)"
   ]
  },
  {
   "cell_type": "code",
   "execution_count": null,
   "metadata": {},
   "outputs": [],
   "source": [
    "population = gj_network.Output.E\n",
    "receptive_fields = ut.compute_maxact_receptive_fields(population, export=False, overwrite=False)\n",
    "pt.plot_receptive_fields(receptive_fields, sort=False, scale=1)\n",
    "\n",
    "# percent_correct, average_pop_activity_dict = ut.compute_test_activity(gj_network, test_dataloader)\n",
    "# pt.plot_receptive_fields(receptive_fields, sort=False, scale=1, average_pop_activity=average_pop_activity_dict['OutputE'])"
   ]
  },
  {
   "cell_type": "code",
   "execution_count": null,
   "metadata": {},
   "outputs": [],
   "source": [
    "population = gj_network.H1.E\n",
    "receptive_fields = ut.compute_maxact_receptive_fields(population, export=False, overwrite=False)\n",
    "# pt.plot_receptive_fields(receptive_fields, sort=False, scale=None)\n",
    "percent_correct, average_pop_activity_dict = ut.compute_test_activity(gj_network, test_dataloader, sort=False)\n",
    "preferred_classes = torch.argmax(torch.tensor(average_pop_activity_dict['H1E']), dim=1)\n",
    "pt.plot_receptive_fields(receptive_fields, sort=True, scale=1, preferred_classes=preferred_classes)\n"
   ]
  },
  {
   "cell_type": "code",
   "execution_count": null,
   "metadata": {},
   "outputs": [],
   "source": [
    "percent_correct, average_pop_activity_dict = ut.compute_test_activity(gj_network, test_dataloader, sort=False)\n",
    "# pt.plot_receptive_fields(receptive_fields, sort=True, scale=1, average_pop_activity=average_pop_activity_dict['H1E'])"
   ]
  },
  {
   "cell_type": "code",
   "execution_count": null,
   "metadata": {},
   "outputs": [],
   "source": [
    "hidden_weights = gj_network.module_dict['H1E_InputE'].weight.data\n",
    "pt.plot_receptive_fields(hidden_weights, sort=False, scale=None)"
   ]
  },
  {
   "cell_type": "code",
   "execution_count": null,
   "metadata": {},
   "outputs": [],
   "source": [
    "plt.imshow(average_pop_activity_dict['H1E'][0:10], aspect='auto', interpolation='nearest')\n",
    "plt.colorbar()"
   ]
  },
  {
   "cell_type": "code",
   "execution_count": null,
   "metadata": {},
   "outputs": [],
   "source": [
    "idx, data, target = next(iter(test_dataloader))\n",
    "example = 3\n",
    "image = data[example].view(28,28)\n",
    "plt.imshow(image, cmap='gray')"
   ]
  },
  {
   "cell_type": "code",
   "execution_count": null,
   "metadata": {},
   "outputs": [],
   "source": [
    "data_dict = {}\n",
    "activity_dict = {}\n",
    "unit_nr = 3\n",
    "selectivity = 6\n",
    "for i in range(10):\n",
    "    data_dict[i] = data[np.where(np.argmax(target,axis=1) == i)[0]]\n",
    "    activity_dict[i] = data_dict[i] @ hidden_weights[unit_nr]\n",
    "    if i==selectivity:\n",
    "        plt.plot(activity_dict[i], label=f'Class {i}', linewidth=2, color='r', alpha=0.8, zorder=2)\n",
    "    else:\n",
    "        plt.plot(activity_dict[i], linewidth=0.5, color='k', alpha=0.5, zorder=1)\n",
    "plt.legend()\n",
    "plt.xlabel('input image')\n",
    "plt.ylabel('activity')\n",
    "\n"
   ]
  },
  {
   "cell_type": "code",
   "execution_count": null,
   "metadata": {},
   "outputs": [],
   "source": [
    "percent_correct, average_pop_activity_dict = ut.compute_test_activity(gj_network, test_dataloader, sort=False)\n",
    "avg_activity_6 = [torch.mean(activity_dict[i]) for i in range(10)]\n",
    "\n",
    "plt.plot(avg_activity_6, label='Average activity', linewidth=2, color='b', alpha=0.8, zorder=2)\n",
    "plt.plot(average_pop_activity_dict['H1E'][3], label='compute_test_activity', linewidth=2, color='r', alpha=0.8, zorder=2)\n",
    "plt.legend()"
   ]
  },
  {
   "cell_type": "code",
   "execution_count": null,
   "metadata": {},
   "outputs": [],
   "source": [
    "data_6 = data[np.where(np.argmax(target,axis=1) == 6)[0]]\n",
    "activity_6 = data_6 @ hidden_weights[unit_nr]\n",
    "plt.plot(activity_6, label='Class 6', linewidth=0.5, color='k', alpha=0.8)"
   ]
  },
  {
   "cell_type": "code",
   "execution_count": null,
   "metadata": {},
   "outputs": [],
   "source": [
    "fig, ax = plt.subplots(5,5, figsize=(8,8))\n",
    "for i in range(25):\n",
    "    ax.flatten()[i].imshow(data_6[i].view(28,28), cmap='gray')\n",
    "    ax.flatten()[i].axis('off')\n"
   ]
  },
  {
   "cell_type": "code",
   "execution_count": null,
   "metadata": {},
   "outputs": [],
   "source": []
  },
  {
   "cell_type": "code",
   "execution_count": null,
   "metadata": {},
   "outputs": [],
   "source": [
    "receptive_fields = gj_network.module_dict['H1E_InputE'].weight.data\n",
    "structure = ut.compute_rf_structure(receptive_fields, dimensions=None, method='moran')\n",
    "\n",
    "fig, ax = plt.subplots(1, 1, figsize=(8, 8))\n",
    "ax.hist(structure.flatten(), bins=100, range=(0, 1), density=True)\n",
    "ax.set_xlabel('RF structure')\n",
    "ax.set_ylabel('Density')\n",
    "ax.set_title('Distribution of RF structure')\n",
    "plt.show()"
   ]
  },
  {
   "cell_type": "code",
   "execution_count": null,
   "metadata": {},
   "outputs": [],
   "source": [
    "hebb_bpClone = ut.compute_alternate_dParam_history(train_dataloader,gj_network, save_path='saved_networks/20230505_EIANN_1_hidden_mnist_Supervised_Gjorgjieva_Hebb_config_F_66049_257_bpClone.pkl')\n",
    "\n",
    "# hebb_bpClone = build_EIANN_from_config(config_path)\n",
    "# ut.rename_population(hebb_bpClone, 'I', 'SomaI')\n",
    "# saved_network_path = 'saved_networks/20230505_EIANN_1_hidden_mnist_Supervised_Gjorgjieva_Hebb_config_F_66049_257_bpClone.pkl'\n",
    "# hebb_bpClone.load(saved_network_path)"
   ]
  },
  {
   "cell_type": "code",
   "execution_count": null,
   "metadata": {},
   "outputs": [],
   "source": [
    "angles = ut.compute_dW_angles(hebb_bpClone.predicted_dParam_history, hebb_bpClone.actual_dParam_history_stepaveraged, plot=True)"
   ]
  },
  {
   "cell_type": "code",
   "execution_count": null,
   "metadata": {},
   "outputs": [],
   "source": [
    "hebb_bpClone_batch = ut.compute_alternate_dParam_history(train_dataloader,gj_network, batch_size=100,\n",
    "                                                   save_path='saved_networks/20230505_EIANN_1_hidden_mnist_Supervised_Gjorgjieva_Hebb_config_F_66049_257_bpClone_batch100.pkl')\n"
   ]
  },
  {
   "cell_type": "code",
   "execution_count": null,
   "metadata": {},
   "outputs": [],
   "source": [
    "angles = ut.compute_dW_angles(hebb_bpClone_batch.predicted_dParam_history, hebb_bpClone_batch.actual_dParam_history_stepaveraged, plot=True)"
   ]
  },
  {
   "cell_type": "code",
   "execution_count": null,
   "metadata": {},
   "outputs": [],
   "source": []
  },
  {
   "cell_type": "markdown",
   "metadata": {},
   "source": [
    "## Supervised BCM"
   ]
  },
  {
   "cell_type": "code",
   "execution_count": null,
   "metadata": {},
   "outputs": [],
   "source": [
    "# Build network\n",
    "config_path = \"../optimize/data/mnist/20231025_EIANN_1_hidden_mnist_Supervised_BCM_config_G_optimized.yaml\"\n",
    "saved_network_path = \"../optimize/data/mnist/20230815_EIANN_1_hidden_mnist_Supervised_BCM_config_G_66049_257.pkl\"\n",
    "bcm_network = build_EIANN_from_config(config_path, network_seed=66049)\n",
    "\n",
    "data_generator.manual_seed(257)\n",
    "bcm_network.train(train_sub_dataloader, \n",
    "                test_dataloader, \n",
    "                epochs=1,\n",
    "                val_interval=(0,-1,100),\n",
    "                store_history=True, \n",
    "                store_params=True,\n",
    "                status_bar=True)\n",
    "bcm_network.save(\"saved_networks/20230815_EIANN_1_hidden_mnist_Supervised_BCM_config_G_66049_257_retrained.pkl\")\n",
    "saved_network_path = \"saved_networks/20230815_EIANN_1_hidden_mnist_Supervised_BCM_config_G_66049_257_retrained.pkl\"\n",
    "\n",
    "bcm_network.load(saved_network_path)"
   ]
  },
  {
   "cell_type": "code",
   "execution_count": null,
   "metadata": {},
   "outputs": [],
   "source": [
    "pt.plot_batch_accuracy(bcm_network, test_dataloader)"
   ]
  },
  {
   "cell_type": "code",
   "execution_count": null,
   "metadata": {},
   "outputs": [],
   "source": [
    "bcm_bpClone = ut.compute_alternate_dParam_history(train_dataloader,bcm_network, save_path='saved_networks/20230815_EIANN_1_hidden_mnist_Supervised_BCM_config_G_66049_257_bpClone.pkl')\n",
    "\n",
    "# bcm_bpClone = build_EIANN_from_config(config_path, network_seed=42)\n",
    "# saved_network_path = 'saved_networks/20230815_EIANN_1_hidden_mnist_Supervised_BCM_config_G_66049_257_bpClone.pkl'\n",
    "# bcm_bpClone.load(saved_network_path)"
   ]
  },
  {
   "cell_type": "code",
   "execution_count": null,
   "metadata": {},
   "outputs": [],
   "source": [
    "angles = ut.compute_dW_angles(bcm_bpClone.predicted_dParam_history, bcm_bpClone.actual_dParam_history, plot=True)"
   ]
  },
  {
   "cell_type": "code",
   "execution_count": null,
   "metadata": {},
   "outputs": [],
   "source": [
    "angles = ut.compute_dW_angles(bcm_bpClone.predicted_dParam_history, bcm_bpClone.actual_dParam_history_stepaveraged, plot=True)"
   ]
  },
  {
   "cell_type": "code",
   "execution_count": null,
   "metadata": {},
   "outputs": [],
   "source": [
    "bcm_bpClone_batch = ut.compute_alternate_dParam_history(train_dataloader,bcm_network, batch_size=100,\n",
    "                                                  save_path='saved_networks/20230815_EIANN_1_hidden_mnist_Supervised_BCM_config_G_66049_257_bpClone_batch100.pkl')\n"
   ]
  },
  {
   "cell_type": "code",
   "execution_count": null,
   "metadata": {},
   "outputs": [],
   "source": [
    "angles = ut.compute_dW_angles(bcm_bpClone_batch.predicted_dParam_history, bcm_bpClone_batch.actual_dParam_history_stepaveraged, plot=True)"
   ]
  },
  {
   "cell_type": "code",
   "execution_count": null,
   "metadata": {},
   "outputs": [],
   "source": []
  },
  {
   "cell_type": "markdown",
   "metadata": {},
   "source": [
    "## Unsupervised Gj-Hebb"
   ]
  },
  {
   "cell_type": "code",
   "execution_count": null,
   "metadata": {},
   "outputs": [],
   "source": [
    "# Build network\n",
    "config_path = \"../network_config/mnist/20231025_EIANN_1_hidden_mnist_Gjorgjieva_Hebb_config_F_optimized.yaml\"\n",
    "saved_network_path = \"../data/mnist/20231025_EIANN_1_hidden_mnist_Gjorgjieva_Hebb_config_F_66049_257.pkl\"\n",
    "ugj_network = ut.build_EIANN_from_config(config_path, network_seed=66049)\n",
    "\n",
    "# data_generator.manual_seed(257)\n",
    "# ugj_network.train(train_sub_dataloader, \n",
    "#                 test_dataloader, \n",
    "#                 epochs=1,\n",
    "#                 val_interval=(0,-1,100),\n",
    "#                 store_history=True, \n",
    "#                 store_params=True,\n",
    "#                 status_bar=True)\n",
    "# ugj_network.save(\"saved_networks/20231025_EIANN_1_hidden_mnist_Gjorgjieva_Hebb_config_F_66049_257_retrained.pkl\")\n",
    "saved_network_path = \"saved_networks/20231025_EIANN_1_hidden_mnist_Gjorgjieva_Hebb_config_F_66049_257_retrained.pkl\"\n",
    "\n",
    "ut.rename_population(ugj_network, 'I', 'SomaI')\n",
    "ugj_network.load(saved_network_path)"
   ]
  },
  {
   "cell_type": "code",
   "execution_count": null,
   "metadata": {},
   "outputs": [],
   "source": [
    "pt.plot_batch_accuracy(ugj_network, test_dataloader, population='all')  "
   ]
  },
  {
   "cell_type": "code",
   "execution_count": null,
   "metadata": {},
   "outputs": [],
   "source": []
  },
  {
   "cell_type": "code",
   "execution_count": null,
   "metadata": {},
   "outputs": [],
   "source": [
    "# init: just random noise\n",
    "receptive_fields = ut.compute_maxact_receptive_fields(ugj_network.H1.E, test_dataloader)\n",
    "pt.plot_receptive_fields(receptive_fields)"
   ]
  },
  {
   "cell_type": "code",
   "execution_count": null,
   "metadata": {},
   "outputs": [],
   "source": [
    "# init: maxact + random noise\n",
    "receptive_fields = ut.compute_maxact_receptive_fields(ugj_network.H1.E, test_dataloader)\n",
    "pt.plot_receptive_fields(receptive_fields)"
   ]
  },
  {
   "cell_type": "code",
   "execution_count": null,
   "metadata": {},
   "outputs": [],
   "source": [
    "# init: maxact\n",
    "receptive_fields = ut.compute_maxact_receptive_fields(ugj_network.H1.E, test_dataloader)\n",
    "pt.plot_receptive_fields(receptive_fields)"
   ]
  },
  {
   "cell_type": "code",
   "execution_count": null,
   "metadata": {},
   "outputs": [],
   "source": []
  },
  {
   "cell_type": "code",
   "execution_count": null,
   "metadata": {},
   "outputs": [],
   "source": []
  },
  {
   "cell_type": "markdown",
   "metadata": {},
   "source": [
    "## Unsupervised BCM"
   ]
  },
  {
   "cell_type": "code",
   "execution_count": null,
   "metadata": {},
   "outputs": [],
   "source": [
    "# Build network\n",
    "config_path = \"../optimize/data/mnist/20231025_EIANN_1_hidden_mnist_BCM_config_G_optimized.yaml\"\n",
    "saved_network_path = \"../optimize/data/mnist/20230815_EIANN_1_hidden_mnist_BCM_config_G_66049_257.pkl\"\n",
    "ubcm_network = build_EIANN_from_config(config_path, network_seed=66049)\n",
    "\n",
    "# data_generator.manual_seed(257)\n",
    "# ubcm_network.train(train_sub_dataloader, \n",
    "#                 test_dataloader, \n",
    "#                 epochs=1,\n",
    "#                 val_interval=(0,-1,100),\n",
    "#                 store_history=True, \n",
    "#                 store_params=True,\n",
    "#                 status_bar=True)\n",
    "# ubcm_network.save(\"saved_networks/20230815_EIANN_1_hidden_mnist_BCM_config_G_66049_257_retrained.pkl\")\n",
    "saved_network_path = \"saved_networks/20230815_EIANN_1_hidden_mnist_BCM_config_G_66049_257_retrained.pkl\"\n",
    "\n",
    "ubcm_network.load(saved_network_path)"
   ]
  },
  {
   "cell_type": "code",
   "execution_count": null,
   "metadata": {},
   "outputs": [],
   "source": [
    "ubcm_bpClone = ut.compute_alternate_dParam_history(train_dataloader, ubcm_network, save_path='saved_networks/20230815_EIANN_1_hidden_mnist_BCM_config_G_66049_257_bpClone.pkl')\n",
    "\n",
    "# ubcm_bpClone = build_EIANN_from_config(config_path, network_seed=42)\n",
    "# saved_network_path = 'saved_networks/20230815_EIANN_1_hidden_mnist_BCM_config_G_66049_257_bpClone.pkl'\n",
    "# ubcm_bpClone.load(saved_network_path)"
   ]
  },
  {
   "cell_type": "code",
   "execution_count": null,
   "metadata": {},
   "outputs": [],
   "source": []
  }
 ],
 "metadata": {
  "kernelspec": {
   "display_name": "eiann",
   "language": "python",
   "name": "python3"
  },
  "language_info": {
   "codemirror_mode": {
    "name": "ipython",
    "version": 3
   },
   "file_extension": ".py",
   "mimetype": "text/x-python",
   "name": "python",
   "nbconvert_exporter": "python",
   "pygments_lexer": "ipython3",
   "version": "3.11.9"
  }
 },
 "nbformat": 4,
 "nbformat_minor": 4
}
