{
 "cells": [
  {
   "cell_type": "code",
   "execution_count": null,
   "metadata": {
    "pycharm": {
     "name": "#%%\n"
    }
   },
   "outputs": [],
   "source": [
    "import torch\n",
    "import torchvision\n",
    "import torchvision.transforms as transforms\n",
    "from torch.utils.data import DataLoader\n",
    "from pprint import pprint\n",
    "import matplotlib.pyplot as plt\n",
    "\n",
    "from EIANN import Network\n",
    "import EIANN.utils as ut\n",
    "import EIANN.plot as ep\n",
    "\n",
    "ep.update_plot_defaults()"
   ]
  },
  {
   "cell_type": "code",
   "execution_count": null,
   "metadata": {},
   "outputs": [],
   "source": [
    "tensor_normalize = transforms.Compose([transforms.ToTensor()])\n",
    "#                                       transforms.Normalize(mean=[0.1307],std=[0.3081])])\n",
    "\n",
    "MNIST_train = torchvision.datasets.MNIST(root='../datasets/MNIST_data/',train=True,transform=tensor_normalize,download=True)\n",
    "MNIST_train_sub = torch.utils.data.Subset(MNIST_train, range(1000))\n",
    "MNIST_test = torchvision.datasets.MNIST(root='../datasets/MNIST_data/',train=False,transform=tensor_normalize,download=True)"
   ]
  },
  {
   "cell_type": "code",
   "execution_count": null,
   "metadata": {},
   "outputs": [],
   "source": [
    "flat_MNIST_train = []\n",
    "for idx,(data,target) in enumerate(MNIST_train):\n",
    "    data = data.flatten()\n",
    "    target = torch.eye(len(MNIST_train.classes))[target]\n",
    "    flat_MNIST_train.append((idx, data, target))\n",
    "\n",
    "flat_MNIST_test = []\n",
    "for idx,(data,target) in enumerate(MNIST_test):\n",
    "    data = data.flatten()\n",
    "    target = torch.eye(len(MNIST_test.classes))[target]\n",
    "    flat_MNIST_test.append((idx, data, target))\n",
    "\n",
    "data_generator = torch.Generator()\n",
    "    \n",
    "train_dataloader = torch.utils.data.DataLoader(flat_MNIST_train, shuffle=True, generator=data_generator)\n",
    "\n",
    "train_sub_dataloader = torch.utils.data.DataLoader(flat_MNIST_train[:2000], shuffle=True, generator=data_generator)\n",
    "\n",
    "test_dataloader = torch.utils.data.DataLoader(flat_MNIST_test, batch_size=10000, shuffle=False)"
   ]
  },
  {
   "cell_type": "code",
   "execution_count": null,
   "metadata": {},
   "outputs": [],
   "source": [
    "data_seed = 0\n",
    "seed = 42"
   ]
  },
  {
   "cell_type": "markdown",
   "metadata": {},
   "source": [
    "### Backprop (no weight contraints)"
   ]
  },
  {
   "cell_type": "code",
   "execution_count": null,
   "metadata": {
    "scrolled": true
   },
   "outputs": [],
   "source": [
    "network_config = ut.read_from_yaml('../config/EIANN_2_hidden_mnist_backprop_relu_SGD_config.yaml')\n",
    "pprint(network_config)\n",
    "\n",
    "layer_config = network_config['layer_config']\n",
    "projection_config = network_config['projection_config']\n",
    "training_kwargs = network_config['training_kwargs']\n",
    "\n",
    "network = Network(layer_config, projection_config, seed=seed, **training_kwargs)"
   ]
  },
  {
   "cell_type": "code",
   "execution_count": null,
   "metadata": {},
   "outputs": [],
   "source": [
    "data_generator.manual_seed(data_seed)\n",
    "network.train(train_sub_dataloader,\n",
    "              epochs=1, \n",
    "              store_history=False, \n",
    "              status_bar=True)"
   ]
  },
  {
   "cell_type": "code",
   "execution_count": null,
   "metadata": {},
   "outputs": [],
   "source": [
    "ep.plot_performance(network)\n",
    "ep.plot_MNIST_examples(network, test_dataloader)\n",
    "ut.compute_batch_accuracy(network, test_dataloader)"
   ]
  },
  {
   "cell_type": "markdown",
   "metadata": {},
   "source": [
    "### Backprop (Dale's Law)"
   ]
  },
  {
   "cell_type": "code",
   "execution_count": null,
   "metadata": {},
   "outputs": [],
   "source": [
    "network_config = ut.read_from_yaml('../config/EIANN_2_hidden_mnist_backprop_Dale_relu_SGD_config.yaml')\n",
    "\n",
    "layer_config = network_config['layer_config']\n",
    "projection_config = network_config['projection_config']\n",
    "training_kwargs = network_config['training_kwargs']\n",
    "\n",
    "network = Network(layer_config, projection_config, seed=seed, **training_kwargs)"
   ]
  },
  {
   "cell_type": "code",
   "execution_count": null,
   "metadata": {},
   "outputs": [],
   "source": [
    "data_generator.manual_seed(data_seed)\n",
    "network.train(train_sub_dataloader, \n",
    "              epochs=1, \n",
    "              store_history=True, \n",
    "              status_bar=True)"
   ]
  },
  {
   "cell_type": "code",
   "execution_count": null,
   "metadata": {},
   "outputs": [],
   "source": [
    "torch.any(network.Output.E.H2.E.weight.grad)"
   ]
  },
  {
   "cell_type": "code",
   "execution_count": null,
   "metadata": {},
   "outputs": [],
   "source": [
    "print(network.Output.E.activity_history.shape)\n",
    "\n",
    "plt.figure()\n",
    "for i in range(network.Output.E.size):\n",
    "    plt.plot(network.Output.E.activity_history[-1,:,i], c='grey')\n",
    "for i in range(network.Output.FBI.size):\n",
    "    plt.plot(network.Output.FBI.activity_history[-1,:,i], c='r')"
   ]
  },
  {
   "cell_type": "code",
   "execution_count": null,
   "metadata": {},
   "outputs": [],
   "source": [
    "ep.plot_performance(network)\n",
    "ep.plot_MNIST_examples(network, test_dataloader)\n",
    "ut.compute_batch_accuracy(network, test_dataloader)"
   ]
  },
  {
   "cell_type": "code",
   "execution_count": null,
   "metadata": {},
   "outputs": [],
   "source": [
    "plt.figure()\n",
    "plt.imshow(network.Output.E.activity.detach().numpy().T, aspect='auto')\n",
    "plt.colorbar()\n",
    "\n",
    "plt.figure()\n",
    "plt.imshow(network.H2.E.activity.detach().numpy().T, aspect='auto')\n",
    "plt.colorbar()\n",
    "\n",
    "plt.figure()\n",
    "plt.imshow(network.H1.E.activity.detach().numpy().T, aspect='auto')\n",
    "plt.colorbar()\n",
    "\n",
    "plt.figure()\n",
    "plt.imshow(network.Input.E.activity.detach().numpy().T, aspect='auto')\n",
    "plt.colorbar()"
   ]
  },
  {
   "cell_type": "code",
   "execution_count": null,
   "metadata": {},
   "outputs": [],
   "source": [
    "network.Output.E.activity.shape"
   ]
  },
  {
   "cell_type": "code",
   "execution_count": null,
   "metadata": {},
   "outputs": [],
   "source": []
  }
 ],
 "metadata": {
  "kernelspec": {
   "display_name": "Python 3 (ipykernel)",
   "language": "python",
   "name": "python3"
  },
  "language_info": {
   "codemirror_mode": {
    "name": "ipython",
    "version": 3
   },
   "file_extension": ".py",
   "mimetype": "text/x-python",
   "name": "python",
   "nbconvert_exporter": "python",
   "pygments_lexer": "ipython3",
   "version": "3.9.13"
  }
 },
 "nbformat": 4,
 "nbformat_minor": 4
}
