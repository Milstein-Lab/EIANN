{
 "cells": [
  {
   "cell_type": "markdown",
   "metadata": {},
   "source": [
    "## 0. Setup"
   ]
  },
  {
   "cell_type": "code",
   "execution_count": null,
   "metadata": {
    "pycharm": {
     "name": "#%%\n"
    }
   },
   "outputs": [],
   "source": [
    "import torch\n",
    "import torchvision\n",
    "import torchvision.transforms as T\n",
    "import matplotlib.pyplot as plt\n",
    "from EIANN import Network\n",
    "import EIANN.utils as ut\n",
    "import EIANN.plot as pt\n",
    "\n",
    "pt.update_plot_defaults()\n",
    "\n",
    "\n",
    "# Load dataset\n",
    "tensor_flatten = T.Compose([T.ToTensor(), T.Lambda(torch.flatten)])\n",
    "MNIST_train_dataset = torchvision.datasets.MNIST(root='../datasets/MNIST_data/', train=True, download=False,\n",
    "                                         transform=tensor_flatten)\n",
    "MNIST_test_dataset = torchvision.datasets.MNIST(root='../datasets/MNIST_data/',\n",
    "                                        train=False, download=False,\n",
    "                                        transform=tensor_flatten)\n",
    "\n",
    "# Add index to train & test data\n",
    "MNIST_train = []\n",
    "for idx,(data,target) in enumerate(MNIST_train_dataset):\n",
    "    target = torch.eye(len(MNIST_train_dataset.classes))[target]\n",
    "    MNIST_train.append((idx, data, target))\n",
    "    \n",
    "MNIST_test = []\n",
    "for idx,(data,target) in enumerate(MNIST_test_dataset):\n",
    "    target = torch.eye(len(MNIST_test_dataset.classes))[target]\n",
    "    MNIST_test.append((idx, data, target))\n",
    "    \n",
    "# Put data in dataloader\n",
    "data_generator = torch.Generator()\n",
    "train_sub_dataloader = torch.utils.data.DataLoader(MNIST_train[0:10000], shuffle=True, generator=data_generator)\n",
    "val_dataloader = torch.utils.data.DataLoader(MNIST_train[-10000:], batch_size=10000, shuffle=False)\n",
    "test_dataloader = torch.utils.data.DataLoader(MNIST_test, batch_size=10000, shuffle=False)\n",
    "\n",
    "epochs = 1\n",
    "data_seed = 0\n",
    "network_seed = 42"
   ]
  },
  {
   "cell_type": "markdown",
   "metadata": {},
   "source": [
    "### Backprop (no weight contraints)"
   ]
  },
  {
   "cell_type": "code",
   "execution_count": null,
   "metadata": {
    "scrolled": false
   },
   "outputs": [],
   "source": [
    "# Create network\n",
    "network_config = ut.read_from_yaml('../config/MNIST/EIANN_1_hidden_mnist_backprop_relu_SGD_config.yaml')\n",
    "layer_config = network_config['layer_config']\n",
    "projection_config = network_config['projection_config']\n",
    "training_kwargs = network_config['training_kwargs']\n",
    "\n",
    "bp_network = Network(layer_config, projection_config, seed=network_seed, **training_kwargs)\n",
    "\n",
    "# Train network\n",
    "data_generator.manual_seed(data_seed)\n",
    "\n",
    "bp_network.train_and_validate(train_sub_dataloader, \n",
    "                              val_dataloader, \n",
    "                              epochs=epochs,\n",
    "                              val_interval=(0, -1, 100),\n",
    "                              store_history=False, \n",
    "                              store_weights=True,\n",
    "                              store_weights_interval=(0, -1, 100),\n",
    "                              status_bar=True)"
   ]
  },
  {
   "cell_type": "code",
   "execution_count": null,
   "metadata": {},
   "outputs": [],
   "source": [
    "pt.plot_batch_accuracy(bp_network, test_dataloader, title='Final')\n",
    "pt.plot_train_loss_history(bp_network)\n",
    "pt.plot_validate_loss_history(bp_network)\n",
    "pt.evaluate_test_loss_history(bp_network, test_dataloader, plot=True)\n",
    "\n",
    "# pt.plot_MNIST_examples(bp_network, test_dataloader)\n",
    "plt.show()"
   ]
  },
  {
   "cell_type": "markdown",
   "metadata": {},
   "source": [
    "### Backprop (Dale's Law)"
   ]
  },
  {
   "cell_type": "code",
   "execution_count": null,
   "metadata": {
    "scrolled": false
   },
   "outputs": [],
   "source": [
    "# Create network\n",
    "network_config = ut.read_from_yaml('../optimize/data/20221219_EIANN_1_hidden_mnist_backprop_Dale_relu_SGD_config.yaml')\n",
    "layer_config = network_config['layer_config']\n",
    "projection_config = network_config['projection_config']\n",
    "training_kwargs = network_config['training_kwargs']\n",
    "\n",
    "bpDale_network = Network(layer_config, projection_config, seed=network_seed, **training_kwargs)\n",
    "\n",
    "# Train network\n",
    "data_generator.manual_seed(data_seed)\n",
    "bpDale_network.train_and_validate(train_sub_dataloader, \n",
    "                              val_dataloader, \n",
    "                              epochs=epochs,\n",
    "                              val_interval=(0, -1, 100),\n",
    "                              store_history=False, \n",
    "                              store_weights=True,\n",
    "                              store_weights_interval=(0, -1, 100),\n",
    "                              status_bar=True)"
   ]
  },
  {
   "cell_type": "code",
   "execution_count": null,
   "metadata": {},
   "outputs": [],
   "source": [
    "pt.plot_batch_accuracy(bpDale_network, test_dataloader, title='Final')\n",
    "pt.plot_train_loss_history(bpDale_network)\n",
    "pt.plot_validate_loss_history(bpDale_network)\n",
    "pt.evaluate_test_loss_history(bpDale_network, test_dataloader, plot=True)\n",
    "\n",
    "# pt.plot_MNIST_examples(bpDale_network, test_dataloader)\n",
    "plt.show()"
   ]
  },
  {
   "cell_type": "code",
   "execution_count": null,
   "metadata": {},
   "outputs": [],
   "source": [
    "# Train network\n",
    "bpDale_network.reset_history()\n",
    "\n",
    "data_generator.manual_seed(data_seed)\n",
    "bpDale_network.train(train_sub_dataloader, \n",
    "                     epochs=epochs, \n",
    "                     store_history=True, \n",
    "                     store_weights=False, \n",
    "                     status_bar=True)"
   ]
  },
  {
   "cell_type": "code",
   "execution_count": null,
   "metadata": {},
   "outputs": [],
   "source": [
    "from EIANN.plot import *\n",
    "\n",
    "fig,ax = plt.subplots(2,2,figsize=(12,4))\n",
    "\n",
    "t = 0\n",
    "hidden_activity = torch.mean(bpDale_network.H1.E.activity_history[t], dim=1)\n",
    "output_activity = torch.mean(bpDale_network.Output.E.activity_history[t], dim=1)\n",
    "ax[0,0].plot(hidden_activity,'--',color='r', label='H1E')\n",
    "ax[0,0].plot(output_activity,color='r', label='OutputE')\n",
    "ax[0,0].set_title('Before training')\n",
    "ax[0,0].legend()\n",
    "\n",
    "hiddenFBI_activity = torch.mean(bpDale_network.H1.FBI.activity_history[t], dim=1)\n",
    "outputFBI_activity = torch.mean(bpDale_network.Output.FBI.activity_history[t], dim=1)\n",
    "ax[1,0].plot(hiddenFBI_activity,'--',color='b', label='H1FBI')\n",
    "ax[1,0].plot(outputFBI_activity,color='b', label='OutputFBI')\n",
    "\n",
    "\n",
    "t = -1\n",
    "hidden_activity = torch.mean(bpDale_network.H1.E.activity_history[t], dim=1)\n",
    "output_activity = torch.mean(bpDale_network.Output.E.activity_history[t], dim=1)\n",
    "ax[0,1].plot(hidden_activity,'--',color='r', label='H1E')\n",
    "ax[0,1].plot(output_activity,color='r', label='OutputE')\n",
    "ax[0,1].set_title('After training')\n",
    "ax[0,1].legend()\n",
    "\n",
    "hiddenFBI_activity = torch.mean(bpDale_network.H1.FBI.activity_history[t], dim=1)\n",
    "outputFBI_activity = torch.mean(bpDale_network.Output.FBI.activity_history[t], dim=1)\n",
    "ax[1,1].plot(hiddenFBI_activity,'--',color='b', label='H1FBI')\n",
    "ax[1,1].plot(outputFBI_activity,color='b', label='OutputFBI')\n",
    "\n",
    "plt.show()"
   ]
  },
  {
   "cell_type": "markdown",
   "metadata": {},
   "source": [
    "## BTSP"
   ]
  },
  {
   "cell_type": "code",
   "execution_count": null,
   "metadata": {},
   "outputs": [],
   "source": [
    "# Create network\n",
    "network_config = ut.read_from_yaml('../optimize/data/20221219_EIANN_1_hidden_mnist_BTSP_config_D.yaml') \n",
    "layer_config = network_config['layer_config']\n",
    "projection_config = network_config['projection_config']\n",
    "training_kwargs = network_config['training_kwargs']\n",
    "\n",
    "btsp_network = Network(layer_config, projection_config, seed=network_seed, **training_kwargs)\n",
    "\n",
    "# Train network\n",
    "data_generator.manual_seed(data_seed)\n",
    "\n",
    "data_generator.manual_seed(data_seed)\n",
    "btsp_network.train_and_validate(train_sub_dataloader, \n",
    "                              val_dataloader, \n",
    "                              epochs=epochs,\n",
    "                              val_interval=(0, -1, 100),\n",
    "                              store_history=False, \n",
    "                              store_weights=True,\n",
    "                              store_weights_interval=(0, -1, 100),\n",
    "                              status_bar=True)"
   ]
  },
  {
   "cell_type": "code",
   "execution_count": null,
   "metadata": {},
   "outputs": [],
   "source": [
    "pt.plot_batch_accuracy(btsp_network, test_dataloader, title='Final')\n",
    "pt.plot_train_loss_history(btsp_network)\n",
    "pt.plot_validate_loss_history(btsp_network)\n",
    "pt.evaluate_test_loss_history(btsp_network, test_dataloader, plot=True)\n",
    "\n",
    "# pt.plot_MNIST_examples(btsp_network, test_dataloader)\n",
    "plt.show()"
   ]
  },
  {
   "cell_type": "code",
   "execution_count": null,
   "metadata": {},
   "outputs": [],
   "source": []
  }
 ],
 "metadata": {
  "kernelspec": {
   "display_name": "Python 3 (ipykernel)",
   "language": "python",
   "name": "python3"
  },
  "language_info": {
   "codemirror_mode": {
    "name": "ipython",
    "version": 3
   },
   "file_extension": ".py",
   "mimetype": "text/x-python",
   "name": "python",
   "nbconvert_exporter": "python",
   "pygments_lexer": "ipython3",
   "version": "3.9.13"
  }
 },
 "nbformat": 4,
 "nbformat_minor": 4
}
