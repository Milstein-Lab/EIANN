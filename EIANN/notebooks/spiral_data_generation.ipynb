{
 "cells": [
  {
   "cell_type": "code",
   "execution_count": null,
   "metadata": {},
   "outputs": [],
   "source": [
    "import torch\n",
    "from torch.utils.data import DataLoader, TensorDataset\n",
    "import numpy as np\n",
    "import itertools\n",
    "import matplotlib.pyplot as plt\n",
    "from tqdm.autonotebook import tqdm\n",
    "import h5py\n",
    "import os\n",
    "import yaml\n",
    "import torchvision\n",
    "import EIANN.plot as plot"
   ]
  },
  {
   "cell_type": "code",
   "execution_count": null,
   "metadata": {},
   "outputs": [],
   "source": [
    "N = 2000\n",
    "K = 4\n",
    "sigma = 0.16\n",
    "\n",
    "t = torch.linspace(0, 1, N) # Generate linearly spaced values from 0 to 1, used as the parameter that varies along the length of the spiral\n",
    "X = torch.zeros(K*N, 2)\n",
    "y = torch.zeros(K*N)\n",
    "idx = torch.arange(K*N)"
   ]
  },
  {
   "cell_type": "code",
   "execution_count": null,
   "metadata": {},
   "outputs": [],
   "source": [
    "# arm_index is the offset or phase shift, allowing the function to generate points for each arm in the spiral\n",
    "for arm_index in range(K):\n",
    "    X[arm_index*N:(arm_index+1)*N, 0] = t*(torch.sin(2*np.pi/K*(2*t+arm_index)) + sigma*torch.randn(N))\n",
    "    X[arm_index*N:(arm_index+1)*N, 1] = t*(torch.cos(2*np.pi/K*(2*t+arm_index)) + sigma*torch.randn(N))\n",
    "    y[arm_index*N:(arm_index+1)*N] = arm_index"
   ]
  },
  {
   "cell_type": "code",
   "execution_count": null,
   "metadata": {},
   "outputs": [],
   "source": [
    "plt.scatter(range(len(y)), y, c=y, cmap='viridis', marker='o')"
   ]
  },
  {
   "cell_type": "code",
   "execution_count": null,
   "metadata": {},
   "outputs": [],
   "source": [
    "all_data = []\n",
    "targets = []\n",
    "\n",
    "for index, (data, label) in enumerate(zip(X, y)):\n",
    "    print(f\"Index: {index}, Label: {label}\") \n",
    "    target = torch.eye(K)[int(label)]\n",
    "    print(f\"Target: {target}\") \n",
    "    targets.append(target)\n",
    "\n",
    "    all_data.append((index, data, target))\n",
    "\n",
    "# Print the first few targets to verify\n",
    "print(\"First few targets:\")\n",
    "for i in range(min(10, len(targets))):\n",
    "    print(targets[i])\n",
    "print(\"Last few targets:\")\n",
    "for i in range(max(0, len(targets)-10), len(targets)):\n",
    "    print(targets[i])"
   ]
  },
  {
   "cell_type": "code",
   "execution_count": null,
   "metadata": {},
   "outputs": [],
   "source": [
    "num_samples = len(all_data)\n",
    "num_samples"
   ]
  },
  {
   "cell_type": "code",
   "execution_count": null,
   "metadata": {},
   "outputs": [],
   "source": [
    "# Split data into train/test\n",
    "test_size = int(0.15 * num_samples)\n",
    "val_size = int(0.15 * num_samples)\n",
    "train_size = num_samples - (test_size + val_size)\n",
    "\n",
    "test_end_idx = test_size\n",
    "val_end_idx = test_size + val_size\n",
    "\n",
    "test_data = all_data[:test_end_idx]\n",
    "val_data = all_data[test_end_idx:val_end_idx]\n",
    "train_data = all_data[val_end_idx:]"
   ]
  },
  {
   "cell_type": "code",
   "execution_count": null,
   "metadata": {},
   "outputs": [],
   "source": [
    "data_generator = torch.Generator()\n",
    "batch_size = 1"
   ]
  },
  {
   "cell_type": "code",
   "execution_count": null,
   "metadata": {},
   "outputs": [],
   "source": [
    "train_loader = DataLoader(train_data, batch_size=batch_size, shuffle=True, generator=data_generator)\n",
    "val_loader = DataLoader(val_data, batch_size=len(val_data), shuffle=False, num_workers=0)\n",
    "test_loader = DataLoader(test_data, batch_size=len(test_data), shuffle=False, num_workers=0)"
   ]
  },
  {
   "cell_type": "code",
   "execution_count": null,
   "metadata": {},
   "outputs": [],
   "source": [
    "def generate_spiral_data(N = 2000, K = 4, sigma = 0.16):\n",
    "    t = torch.linspace(0, 1, N) # Generate linearly spaced values from 0 to 1, used as the parameter that varies along the length of the spiral\n",
    "    X = torch.zeros(K*N, 2)\n",
    "    y = torch.zeros(K*N)\n",
    "\n",
    "    # arm_index is the offset or phase shift, allowing the function to generate points for each arm in the spiral\n",
    "    for arm_index in range(K):\n",
    "        X[arm_index*N:(arm_index+1)*N, 0] = t*(torch.sin(2*np.pi/K*(2*t+arm_index)) + sigma*torch.randn(N))\n",
    "        X[arm_index*N:(arm_index+1)*N, 1] = t*(torch.cos(2*np.pi/K*(2*t+arm_index)) + sigma*torch.randn(N))\n",
    "        y[arm_index*N:(arm_index+1)*N] = arm_index    \n",
    "\n",
    "    all_data = []\n",
    "    for index, (data, label) in enumerate(zip(X, y)):\n",
    "        target = torch.eye(K)[int(label)]\n",
    "        all_data.append((index, data, target))\n",
    "\n",
    "    return all_data"
   ]
  },
  {
   "cell_type": "code",
   "execution_count": null,
   "metadata": {},
   "outputs": [],
   "source": [
    "train_data = generate_spiral_data(N=1400)\n",
    "val_data = generate_spiral_data(N=300)\n",
    "test_data = generate_spiral_data(N=300)"
   ]
  },
  {
   "cell_type": "code",
   "execution_count": null,
   "metadata": {},
   "outputs": [],
   "source": [
    "data_generator = torch.Generator()\n",
    "batch_size = 1\n",
    "\n",
    "train_loader = DataLoader(train_data, batch_size=batch_size, shuffle=True, generator=data_generator)\n",
    "val_loader = DataLoader(val_data, batch_size=len(val_data), shuffle=False, num_workers=0)\n",
    "test_loader = DataLoader(test_data, batch_size=len(test_data), shuffle=False, num_workers=0)"
   ]
  }
 ],
 "metadata": {
  "kernelspec": {
   "display_name": "eiann",
   "language": "python",
   "name": "python3"
  },
  "language_info": {
   "codemirror_mode": {
    "name": "ipython",
    "version": 3
   },
   "file_extension": ".py",
   "mimetype": "text/x-python",
   "name": "python",
   "nbconvert_exporter": "python",
   "pygments_lexer": "ipython3",
   "version": "3.11.9"
  }
 },
 "nbformat": 4,
 "nbformat_minor": 2
}
