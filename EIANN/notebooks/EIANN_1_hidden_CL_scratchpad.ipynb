{
 "cells": [
  {
   "cell_type": "code",
   "execution_count": null,
   "metadata": {
    "pycharm": {
     "name": "#%%\n"
    }
   },
   "outputs": [],
   "source": [
    "%matplotlib notebook\n",
    "import torch\n",
    "from torch.utils.data import DataLoader\n",
    "from EIANN import Network\n",
    "from EIANN.utils import test_EIANN_CL_config, read_from_yaml, write_to_yaml\n",
    "import numpy as np\n",
    "import matplotlib.pyplot as plt\n",
    "import pprint"
   ]
  },
  {
   "cell_type": "code",
   "execution_count": null,
   "metadata": {},
   "outputs": [],
   "source": [
    "input_size = 21\n",
    "dataset = torch.eye(input_size)\n",
    "target = torch.eye(dataset.shape[0])\n",
    "\n",
    "data_seed = 0\n",
    "data_generator = torch.Generator()\n",
    "sample_indexes = torch.arange(len(dataset))\n",
    "dataloader = DataLoader(list(zip(sample_indexes, dataset, target)), shuffle=True, generator=data_generator)\n",
    "\n",
    "epochs=300\n",
    "seed=42"
   ]
  },
  {
   "cell_type": "markdown",
   "metadata": {},
   "source": [
    "Backprop w/learned inhibition (softplus; Adam)"
   ]
  },
  {
   "cell_type": "code",
   "execution_count": null,
   "metadata": {
    "scrolled": false
   },
   "outputs": [],
   "source": [
    "layer_config = {'Input': \n",
    "                    {'E': \n",
    "                         {'size': 21}\n",
    "                    },\n",
    "                'H1': \n",
    "                    {'E': \n",
    "                       {'size': 7, \n",
    "                        'activation': 'softplus', \n",
    "                        'activation_kwargs': \n",
    "                            {'beta': 4.}\n",
    "                       },\n",
    "                    'FBI': \n",
    "                        {'size': 7, \n",
    "                        'activation': 'softplus', \n",
    "                        'activation_kwargs': \n",
    "                            {'beta': 4.}\n",
    "                        }\n",
    "                    },\n",
    "                'Output': \n",
    "                    {'E': \n",
    "                       {'size': 21, \n",
    "                        'activation': 'softplus', \n",
    "                        'activation_kwargs': \n",
    "                            {'beta': 4.}\n",
    "                       },\n",
    "                    'FBI': \n",
    "                        {'size': 7, \n",
    "                        'activation': 'softplus', \n",
    "                        'activation_kwargs': \n",
    "                            {'beta': 4.}\n",
    "                        }\n",
    "                    }\n",
    "                 }\n",
    "\n",
    "projection_config = {'H1':\n",
    "                         {'E': \n",
    "                              {'Input': \n",
    "                                   {'E': \n",
    "                                        {'weight_bounds': (0, None), \n",
    "                                         'direction': 'F', \n",
    "                                         'learning_rule': 'Backprop'\n",
    "                                        }\n",
    "                                   }, \n",
    "                               'H1': \n",
    "                                   {'FBI': \n",
    "                                        {'weight_bounds': (None, 0), \n",
    "                                         'direction': 'R', \n",
    "                                         'learning_rule': 'Backprop'\n",
    "                                        }\n",
    "                                   }\n",
    "                              },\n",
    "                          'FBI': \n",
    "                              {'H1': \n",
    "                                   {'E': \n",
    "                                        {'weight_bounds': (0, None), \n",
    "                                         'direction': 'F', \n",
    "                                         'learning_rule': 'Backprop'\n",
    "                                        }\n",
    "                                   }\n",
    "                              }\n",
    "                         },\n",
    "                     'Output': \n",
    "                         {'E': \n",
    "                              {'H1': \n",
    "                                   {'E': \n",
    "                                        {'weight_bounds': (0, None), \n",
    "                                         'direction': 'F', \n",
    "                                         'learning_rule': 'Backprop'\n",
    "                                        }\n",
    "                                   }, \n",
    "                               'Output': \n",
    "                                   {'FBI': \n",
    "                                        {'weight_bounds': (None, 0), \n",
    "                                         'direction': 'R', \n",
    "                                         'learning_rule': 'Backprop'\n",
    "                                        }\n",
    "                                   }\n",
    "                              },\n",
    "                          'FBI': \n",
    "                              {'Output': \n",
    "                                   {'E': \n",
    "                                        {'weight_bounds': (0, None),\n",
    "                                         'direction': 'F', \n",
    "                                         'learning_rule': 'Backprop'\n",
    "                                        }\n",
    "                                   }\n",
    "                              }\n",
    "                         }\n",
    "                    }\n",
    "\n",
    "training_kwargs = {'tau': 3,\n",
    "                   'forward_steps': 10,\n",
    "                   'backward_steps': 2,\n",
    "                   'learning_rate': 0.01,\n",
    "                   'verbose': False,\n",
    "                   'optimizer': 'Adam'\n",
    "                  }\n",
    "\n",
    "network = Network(layer_config, projection_config, seed=seed, **training_kwargs)\n",
    "data_generator.manual_seed(data_seed)\n",
    "test_EIANN_CL_config(network, dataloader, epochs, split=0.75, generator=data_generator)"
   ]
  },
  {
   "cell_type": "markdown",
   "metadata": {},
   "source": [
    "Backprop w/o sign constraints (softplus; SGD)"
   ]
  },
  {
   "cell_type": "code",
   "execution_count": null,
   "metadata": {
    "scrolled": true
   },
   "outputs": [],
   "source": [
    "network_config = read_from_yaml('../config/EIANN_1_hidden_vanilla_backprop_softplus_SGD_config.yaml')\n",
    "pprint.pprint(network_config)\n",
    "\n",
    "layer_config = network_config['layer_config']\n",
    "projection_config = network_config['projection_config']\n",
    "training_kwargs = network_config['training_kwargs']\n",
    "\n",
    "network = Network(layer_config, projection_config, seed=seed, **training_kwargs)\n",
    "data_generator.manual_seed(data_seed)\n",
    "test_EIANN_CL_config(network, dataloader, epochs, split=0.75, generator=data_generator)"
   ]
  },
  {
   "cell_type": "markdown",
   "metadata": {},
   "source": [
    "Backprop w/learned inhibition (softplus; SGD)"
   ]
  },
  {
   "cell_type": "code",
   "execution_count": null,
   "metadata": {
    "scrolled": false
   },
   "outputs": [],
   "source": [
    "network_config = read_from_yaml('../optimize/data/20220915_EIANN_1_hidden_backprop_softplus_SGD_config.yaml')\n",
    "pprint.pprint(network_config)\n",
    "\n",
    "layer_config = network_config['layer_config']\n",
    "projection_config = network_config['projection_config']\n",
    "training_kwargs = network_config['training_kwargs']\n",
    "\n",
    "network = Network(layer_config, projection_config, seed=seed, **training_kwargs)\n",
    "data_generator.manual_seed(data_seed)\n",
    "test_EIANN_CL_config(network, dataloader, epochs, split=0.75, generator=data_generator)"
   ]
  },
  {
   "cell_type": "markdown",
   "metadata": {},
   "source": [
    "Backprop w/learned inhibition (relu; SGD)"
   ]
  },
  {
   "cell_type": "code",
   "execution_count": null,
   "metadata": {
    "scrolled": true
   },
   "outputs": [],
   "source": [
    "network_config = read_from_yaml('../optimize/data/20220915_EIANN_1_hidden_backprop_relu_SGD_config.yaml')\n",
    "pprint.pprint(network_config)\n",
    "\n",
    "layer_config = network_config['layer_config']\n",
    "projection_config = network_config['projection_config']\n",
    "training_kwargs = network_config['training_kwargs']\n",
    "\n",
    "network = Network(layer_config, projection_config, seed=seed, **training_kwargs)\n",
    "data_generator.manual_seed(data_seed)\n",
    "test_EIANN_CL_config(network, dataloader, epochs, split=0.75, generator=data_generator)"
   ]
  },
  {
   "cell_type": "markdown",
   "metadata": {},
   "source": [
    "Gjorgieva Hebb Norm rule w/learned inhibition (Gjorgieva Hebb Norm rule) (relu)"
   ]
  },
  {
   "cell_type": "code",
   "execution_count": null,
   "metadata": {
    "scrolled": false
   },
   "outputs": [],
   "source": [
    "network_config = read_from_yaml('../optimize/data/20220902_EIANN_1_hidden_Gjorgieva_Hebb_config_A.yaml')\n",
    "pprint.pprint(network_config)\n",
    "\n",
    "layer_config = network_config['layer_config']\n",
    "projection_config = network_config['projection_config']\n",
    "training_kwargs = network_config['training_kwargs']\n",
    "\n",
    "network = Network(layer_config, projection_config, seed=seed, **training_kwargs)\n",
    "data_generator.manual_seed(data_seed)\n",
    "test_EIANN_CL_config(network, dataloader, epochs, split=0.75, supervised=False, generator=data_generator)"
   ]
  },
  {
   "cell_type": "markdown",
   "metadata": {},
   "source": [
    "BTSP rule w/static somatic inhibition and learned dendritic inhibition (relu)"
   ]
  },
  {
   "cell_type": "code",
   "execution_count": null,
   "metadata": {
    "scrolled": true
   },
   "outputs": [],
   "source": [
    "network_config = read_from_yaml('../optimize/data/20200830_EIANN_1_hidden_BTSP_config_A.yaml')\n",
    "pprint.pprint(network_config)\n",
    "\n",
    "layer_config = network_config['layer_config']\n",
    "projection_config = network_config['projection_config']\n",
    "training_kwargs = network_config['training_kwargs']\n",
    "\n",
    "network = Network(layer_config, projection_config, seed=seed, **training_kwargs)\n",
    "data_generator.manual_seed(data_seed)\n",
    "test_EIANN_CL_config(network, dataloader, epochs, split=0.75, generator=data_generator)"
   ]
  },
  {
   "cell_type": "code",
   "execution_count": null,
   "metadata": {},
   "outputs": [],
   "source": []
  }
 ],
 "metadata": {
  "kernelspec": {
   "display_name": "Python 3 (ipykernel)",
   "language": "python",
   "name": "python3"
  },
  "language_info": {
   "codemirror_mode": {
    "name": "ipython",
    "version": 3
   },
   "file_extension": ".py",
   "mimetype": "text/x-python",
   "name": "python",
   "nbconvert_exporter": "python",
   "pygments_lexer": "ipython3",
   "version": "3.9.13"
  }
 },
 "nbformat": 4,
 "nbformat_minor": 4
}
