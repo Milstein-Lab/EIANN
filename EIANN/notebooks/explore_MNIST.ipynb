{
 "cells": [
  {
   "cell_type": "code",
   "execution_count": null,
   "metadata": {},
   "outputs": [],
   "source": [
    "%matplotlib inline"
   ]
  },
  {
   "cell_type": "code",
   "execution_count": null,
   "metadata": {
    "pycharm": {
     "name": "#%%\n"
    }
   },
   "outputs": [],
   "source": [
    "import os\n",
    "import pprint\n",
    "import torch\n",
    "import torchvision\n",
    "import torchvision.transforms as T\n",
    "import numpy as np\n",
    "import matplotlib.pyplot as plt\n",
    "from EIANN import Network\n",
    "import EIANN.utils as ut\n",
    "import EIANN.plot as pt\n",
    "\n",
    "\n",
    "# Load dataset\n",
    "tensor_flatten = T.Compose([T.ToTensor(), T.Lambda(torch.flatten)])\n",
    "MNIST_train_dataset = torchvision.datasets.MNIST(root='../data/mnist/datasets/MNIST_data/', train=True, download=True,\n",
    "                                         transform=tensor_flatten)\n",
    "MNIST_test_dataset = torchvision.datasets.MNIST(root='../data/mnist/datasets/MNIST_data/',\n",
    "                                        train=False, download=True, transform=tensor_flatten)\n",
    "\n",
    "# Add index to train & test data\n",
    "MNIST_train = []\n",
    "for idx,(data,target) in enumerate(MNIST_train_dataset):\n",
    "    target = torch.eye(len(MNIST_train_dataset.classes))[target]\n",
    "    MNIST_train.append((idx, data, target))\n",
    "    \n",
    "MNIST_test = []\n",
    "for idx,(data,target) in enumerate(MNIST_test_dataset):\n",
    "    target = torch.eye(len(MNIST_test_dataset.classes))[target]\n",
    "    MNIST_test.append((idx, data, target))\n",
    "    \n",
    "# Put data in dataloader\n",
    "data_generator = torch.Generator()\n",
    "train_dataloader = torch.utils.data.DataLoader(MNIST_train[0:50000], shuffle=True, generator=data_generator)\n",
    "val_dataloader = torch.utils.data.DataLoader(MNIST_train[-10000:], batch_size=10000, shuffle=False)\n",
    "test_dataloader = torch.utils.data.DataLoader(MNIST_test, batch_size=10000, shuffle=False)\n",
    "\n",
    "epochs = 1\n",
    "data_seed = 257\n",
    "network_seed = 66049\n",
    "train_steps = 2000  # 20000\n",
    "analyze_receptive_fields = None  # ['H2E']"
   ]
  },
  {
   "cell_type": "code",
   "execution_count": null,
   "metadata": {},
   "outputs": [],
   "source": [
    "def get_network(config_file_path, network_seed):\n",
    "    network_config = ut.read_from_yaml(config_file_path)\n",
    "    layer_config = network_config['layer_config']\n",
    "    projection_config = network_config['projection_config']\n",
    "    training_kwargs = network_config['training_kwargs']\n",
    "\n",
    "    return Network(layer_config, projection_config, seed=network_seed, **training_kwargs)"
   ]
  },
  {
   "cell_type": "code",
   "execution_count": null,
   "metadata": {},
   "outputs": [],
   "source": [
    "def train_network_mnist(network, train_dataloader, val_dataloader, train_steps):\n",
    "    network.train(train_dataloader, val_dataloader, samples_per_epoch=train_steps, val_interval=(0, -1, 100), store_history=True, \\\n",
    "                  store_history_interval=(0, -1, 100), status_bar=True)"
   ]
  },
  {
   "cell_type": "code",
   "execution_count": null,
   "metadata": {},
   "outputs": [],
   "source": [
    "def plot_mnist_network_intermediates(network, analyze_receptive_fields=None):\n",
    "    if not ('H2E' in network.populations):\n",
    "        return\n",
    "    \n",
    "    if hasattr(network.H2.E, 'plateau_history') and network.H2.E.plateau_history is not None:\n",
    "        fig, axes = plt.subplots(4, 3, figsize=(10., 12.))\n",
    "\n",
    "        binned_train_steps = network.val_history_train_steps\n",
    "        xmin = binned_train_steps[0]\n",
    "        xmax = binned_train_steps[-1] + 1\n",
    "        ymax = 0\n",
    "        \n",
    "        ymin = network.H1.E.size\n",
    "        im = axes[0][0].imshow(network.H1.E.plateau_history.T, aspect='auto', interpolation='none', extent=(xmin, xmax, ymin, ymax))\n",
    "        plt.colorbar(im, ax=axes[0][0])\n",
    "        axes[0][0].set_title('Plateau history: H1.E')\n",
    "        axes[0][0].set_ylabel('Unit ID')\n",
    "        axes[0][0].set_xlabel('Training steps')\n",
    "\n",
    "        ymin = network.H2.E.size\n",
    "        im = axes[0][1].imshow(network.H2.E.plateau_history.T, aspect='auto', interpolation='none', extent=(xmin, xmax, ymin, ymax))\n",
    "        plt.colorbar(im, ax=axes[0][1])\n",
    "        axes[0][1].set_title('Plateau history: H2.E')\n",
    "        axes[0][1].set_ylabel('Unit ID')\n",
    "        axes[0][1].set_xlabel('Training steps')\n",
    "\n",
    "        ymin = network.Output.E.size\n",
    "        im = axes[0][2].imshow(network.Output.E.plateau_history.T, aspect='auto', interpolation='none', extent=(xmin, xmax, ymin, ymax))\n",
    "        plt.colorbar(im, ax=axes[0][2])\n",
    "        axes[0][2].set_title('Plateau history: Output.E')\n",
    "        axes[0][2].set_xlabel('Training steps')\n",
    "        \n",
    "        binned_Output_E_plateau_prob = network.Output.E.plateau_history.mean(dim=(1))\n",
    "        binned_H1_E_plateau_prob = network.H1.E.plateau_history.mean(dim=(1))\n",
    "        binned_H2_E_plateau_prob = network.H2.E.plateau_history.mean(dim=(1))\n",
    "          \n",
    "        axes[1][0].plot(binned_train_steps, binned_H1_E_plateau_prob)\n",
    "        axes[1][1].plot(binned_train_steps, binned_H2_E_plateau_prob)\n",
    "        axes[1][2].plot(binned_train_steps, binned_Output_E_plateau_prob)\n",
    "        axes[1][0].set_ylabel('Mean plateau amp')\n",
    "        axes[1][0].set_xlabel('Training steps')\n",
    "        axes[1][1].set_xlabel('Training steps')\n",
    "        axes[1][2].set_xlabel('Training steps')\n",
    "        axes[1][0].set_title('Plateau_history: H1.E')\n",
    "        axes[1][1].set_title('Plateau_history: H2.E')\n",
    "        axes[1][2].set_title('Plateau_history: Output.E')\n",
    "        \n",
    "        binned_H1_E_forward_dend_state = network.H1.E.forward_dendritic_state_history.mean(dim=(1))\n",
    "        binned_H1_E_backward_dend_state = network.H1.E.backward_dendritic_state_history.mean(dim=(1))\n",
    "        \n",
    "        axes[2][0].plot(binned_train_steps, binned_H1_E_forward_dend_state)\n",
    "        axes[2][0].set_title('Forward dendritic state: H1.E')\n",
    "        axes[2][0].set_xlabel('Training steps')\n",
    "        axes[2][0].set_ylabel('Mean amplitude')\n",
    "        \n",
    "        axes[2][1].plot(binned_train_steps, binned_H1_E_backward_dend_state)\n",
    "        axes[2][1].set_title('Backward dendritic state: H1.E')\n",
    "        axes[2][1].set_xlabel('Training steps')\n",
    "        \n",
    "        binned_H2_E_forward_dend_state = network.H2.E.forward_dendritic_state_history.mean(dim=(1))\n",
    "        binned_H2_E_backward_dend_state = network.H2.E.backward_dendritic_state_history.mean(dim=(1))\n",
    "        \n",
    "        axes[3][0].plot(binned_train_steps, binned_H2_E_forward_dend_state)\n",
    "        axes[3][0].set_title('Forward dendritic state: H2.E')\n",
    "        axes[3][0].set_xlabel('Training steps')\n",
    "        axes[3][0].set_ylabel('Mean amplitude')\n",
    "        \n",
    "        axes[3][1].plot(binned_train_steps, binned_H2_E_backward_dend_state)\n",
    "        axes[3][1].set_title('Backward dendritic state: H2.E')\n",
    "        axes[3][1].set_xlabel('Training steps')\n",
    "            \n",
    "        fig.tight_layout()\n",
    "        fig.show()\n",
    "    \n",
    "    if analyze_receptive_fields is not None:\n",
    "        for population_name in analyze_receptive_fields:\n",
    "            if population_name in network.populations:\n",
    "                population = network.populations[population_name]\n",
    "                receptive_fields = ut.compute_maxact_receptive_fields(population)\n",
    "                if population is network.Output.E:\n",
    "                    sort = False\n",
    "                    num_rows = 1\n",
    "                else:\n",
    "                    sort = True\n",
    "                    num_rows = 2\n",
    "                pt.plot_receptive_fields(receptive_fields, sort=sort, num_cols=10, num_rows=num_rows, title=population_name)\n",
    "                ut.compute_representation_metrics(population, test_dataloader, receptive_fields, plot=True)"
   ]
  },
  {
   "cell_type": "code",
   "execution_count": null,
   "metadata": {},
   "outputs": [],
   "source": [
    "def analyze_network_mnist(network, test_dataloader, analyze_receptive_fields=False):\n",
    "    pt.plot_batch_accuracy(network, test_dataloader, population='all', sorted_output_idx=torch.arange(0, network.Output.E.size),\n",
    "                          title='')\n",
    "    pt.plot_train_loss_history(network)\n",
    "    pt.plot_validate_loss_history(network)\n",
    "    plot_mnist_network_intermediates(network, analyze_receptive_fields=analyze_receptive_fields)"
   ]
  },
  {
   "cell_type": "markdown",
   "metadata": {},
   "source": [
    "## Feedforward ANN (Backprop)"
   ]
  },
  {
   "cell_type": "code",
   "execution_count": null,
   "metadata": {
    "scrolled": true
   },
   "outputs": [],
   "source": [
    "# Create network\n",
    "\n",
    "config_file_path = '../network_config/mnist/20231129_EIANN_2_hidden_mnist_van_bp_relu_SGD_config_G_complete_optimized.yaml'\n",
    "\n",
    "data_generator.manual_seed(data_seed)\n",
    "\n",
    "network = get_network(config_file_path, network_seed)\n",
    "\n",
    "train_network_mnist(network, train_dataloader, val_dataloader, train_steps=train_steps)\n",
    "\n",
    "analyze_network_mnist(network, test_dataloader, analyze_receptive_fields=analyze_receptive_fields)\n",
    "\n",
    "FFANN_bp_network = network"
   ]
  },
  {
   "cell_type": "markdown",
   "metadata": {},
   "source": [
    "## EIANN - Learned SomaI (Backprop)"
   ]
  },
  {
   "cell_type": "code",
   "execution_count": null,
   "metadata": {
    "scrolled": true
   },
   "outputs": [],
   "source": [
    "# Create network\n",
    "\n",
    "config_file_path = '../network_config/mnist/20240419_EIANN_2_hidden_mnist_bpDale_relu_SGD_config_F_complete_optimized.yaml'\n",
    "\n",
    "data_generator.manual_seed(data_seed)\n",
    "\n",
    "network = get_network(config_file_path, network_seed)\n",
    "\n",
    "train_network_mnist(network, train_dataloader, val_dataloader, train_steps=train_steps)\n",
    "\n",
    "analyze_network_mnist(network, test_dataloader, analyze_receptive_fields=analyze_receptive_fields)\n",
    "\n",
    "EIANN_bp_learned_somaI_network = network"
   ]
  },
  {
   "cell_type": "markdown",
   "metadata": {},
   "source": [
    "## EIANN - Fixed SomaI (Backprop)"
   ]
  },
  {
   "cell_type": "code",
   "execution_count": null,
   "metadata": {
    "scrolled": true
   },
   "outputs": [],
   "source": [
    "# Create network\n",
    "\n",
    "config_file_path = '../network_config/mnist/20231129_EIANN_2_hidden_mnist_bpDale_relu_SGD_config_G_complete_optimized.yaml'\n",
    "\n",
    "data_generator.manual_seed(data_seed)\n",
    "\n",
    "network = get_network(config_file_path, network_seed)\n",
    "\n",
    "train_network_mnist(network, train_dataloader, val_dataloader, train_steps=train_steps)\n",
    "\n",
    "analyze_network_mnist(network, test_dataloader, analyze_receptive_fields=analyze_receptive_fields)\n",
    "\n",
    "EIANN_bp_fixed_somaI_network = network"
   ]
  },
  {
   "cell_type": "markdown",
   "metadata": {},
   "source": [
    "## EIANN - Learned SomaI (Hebb, Top-Layer Supervised)"
   ]
  },
  {
   "cell_type": "code",
   "execution_count": null,
   "metadata": {
    "scrolled": true
   },
   "outputs": [],
   "source": [
    "# Create network\n",
    "\n",
    "config_file_path = '../network_config/mnist/20241105_EIANN_2_hidden_mnist_Top_Layer_Supervised_Hebb_WeightNorm_config_7_complete_optimized.yaml'\n",
    "\n",
    "data_generator.manual_seed(data_seed)\n",
    "\n",
    "network = get_network(config_file_path, network_seed)\n",
    "\n",
    "train_network_mnist(network, train_dataloader, val_dataloader, train_steps=train_steps)\n",
    "\n",
    "analyze_network_mnist(network, test_dataloader, analyze_receptive_fields=analyze_receptive_fields)\n",
    "\n",
    "EIANN_hebb_network = network"
   ]
  },
  {
   "cell_type": "markdown",
   "metadata": {},
   "source": [
    "## Dendritic Target Propagation (LDS, Top-down Weight Symmetry)"
   ]
  },
  {
   "cell_type": "code",
   "execution_count": null,
   "metadata": {},
   "outputs": [],
   "source": [
    "# Create network\n",
    "\n",
    "config_file_path = '../network_config/mnist/20241009_EIANN_2_hidden_mnist_BP_like_config_5J_complete_optimized.yaml'\n",
    "\n",
    "data_generator.manual_seed(data_seed)\n",
    "\n",
    "network = get_network(config_file_path, network_seed)\n",
    "\n",
    "train_network_mnist(network, train_dataloader, val_dataloader, train_steps=train_steps)\n",
    "\n",
    "analyze_network_mnist(network, test_dataloader, analyze_receptive_fields=analyze_receptive_fields)\n",
    "\n",
    "DTP_LDS_network = network"
   ]
  },
  {
   "cell_type": "code",
   "execution_count": null,
   "metadata": {},
   "outputs": [],
   "source": [
    "analyze_network_mnist(network, test_dataloader, analyze_receptive_fields=analyze_receptive_fields)"
   ]
  },
  {
   "cell_type": "markdown",
   "metadata": {},
   "source": [
    "## Dendritic Target Propagation (BTSP, Top-down Weight Symmetry)"
   ]
  },
  {
   "cell_type": "code",
   "execution_count": null,
   "metadata": {},
   "outputs": [],
   "source": [
    "# Create network\n",
    "\n",
    "config_file_path = '../network_config/mnist/20241212_EIANN_2_hidden_mnist_BTSP_config_5L_complete_optimized.yaml'\n",
    "\n",
    "data_generator.manual_seed(data_seed)\n",
    "\n",
    "network = get_network(config_file_path, network_seed)\n",
    "\n",
    "train_network_mnist(network, train_dataloader, val_dataloader, train_steps=train_steps)\n",
    "\n",
    "analyze_network_mnist(network, test_dataloader, analyze_receptive_fields=analyze_receptive_fields)\n",
    "\n",
    "DTP_BTSP_network = network"
   ]
  },
  {
   "cell_type": "markdown",
   "metadata": {},
   "source": [
    "## Dendritic Target Propagation (BTSP, Learned Top-down weights)"
   ]
  },
  {
   "cell_type": "code",
   "execution_count": null,
   "metadata": {
    "scrolled": true
   },
   "outputs": [],
   "source": [
    "# Create network\n",
    "\n",
    "config_file_path = '../network_config/mnist/20241216_EIANN_2_hidden_mnist_BTSP_config_5L_learn_TD_HTCWN_3_complete_optimized.yaml'\n",
    "\n",
    "data_generator.manual_seed(data_seed)\n",
    "\n",
    "network = get_network(config_file_path, network_seed)\n",
    "\n",
    "train_network_mnist(network, train_dataloader, val_dataloader, train_steps=train_steps)\n",
    "\n",
    "analyze_network_mnist(network, test_dataloader, analyze_receptive_fields=analyze_receptive_fields)\n",
    "\n",
    "DTP_BTSP_TD_HTCWN_network = network"
   ]
  },
  {
   "cell_type": "code",
   "execution_count": null,
   "metadata": {},
   "outputs": [],
   "source": []
  }
 ],
 "metadata": {
  "kernelspec": {
   "display_name": "Python 3 (ipykernel)",
   "language": "python",
   "name": "python3"
  },
  "language_info": {
   "codemirror_mode": {
    "name": "ipython",
    "version": 3
   },
   "file_extension": ".py",
   "mimetype": "text/x-python",
   "name": "python",
   "nbconvert_exporter": "python",
   "pygments_lexer": "ipython3",
   "version": "3.11.9"
  }
 },
 "nbformat": 4,
 "nbformat_minor": 4
}
