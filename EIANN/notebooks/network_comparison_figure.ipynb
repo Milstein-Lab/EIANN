{
 "cells": [
  {
   "cell_type": "code",
   "execution_count": 2,
   "metadata": {},
   "outputs": [],
   "source": [
    "import torch\n",
    "import matplotlib.pyplot as plt\n",
    "import EIANN.utils as ut\n",
    "import EIANN.plot as pt\n",
    "\n",
    "from tqdm.autonotebook import tqdm\n",
    "import numpy as np\n",
    "import matplotlib.gridspec as gs\n",
    "%load_ext autoreload\n",
    "%autoreload 2\n",
    "\n",
    "pt.update_plot_defaults()\n",
    "\n",
    "train_dataloader, train_sub_dataloader, val_dataloader, test_dataloader, data_generator = ut.get_MNIST_dataloaders(sub_dataloader_size=20_000)"
   ]
  },
  {
   "cell_type": "markdown",
   "metadata": {},
   "source": [
    "## Figure 1. Hebbian network comparison\n",
    "\n",
    "### Van BP  **|**  Unsup. HebbWeightNorm  **|**  Top-layer sup. HebbWeightNorm  **|**  Dale BP (fully learned E+I)"
   ]
  },
  {
   "cell_type": "code",
   "execution_count": 37,
   "metadata": {},
   "outputs": [
    {
     "data": {
      "application/vnd.jupyter.widget-view+json": {
       "model_id": "f333ed19264c4ef29be6f9d4658f74b3",
       "version_major": 2,
       "version_minor": 0
      },
      "text/plain": [
       "Epochs:   0%|          | 0/1 [00:00<?, ?it/s]"
      ]
     },
     "metadata": {},
     "output_type": "display_data"
    },
    {
     "data": {
      "application/vnd.jupyter.widget-view+json": {
       "model_id": "bdb8c7ae21044f10b299bb84616f3d2e",
       "version_major": 2,
       "version_minor": 0
      },
      "text/plain": [
       "Samples:   0%|          | 0/20000 [00:00<?, ?it/s]"
      ]
     },
     "metadata": {},
     "output_type": "display_data"
    },
    {
     "name": "stdout",
     "output_type": "stream",
     "text": [
      "Model saved to saved_networks/20230815_EIANN_1_hidden_mnist_bpDale_softplus_SGD_config_G_66050_257_retrained.pkl\n",
      "Loading model data from 'saved_networks/20230815_EIANN_1_hidden_mnist_bpDale_softplus_SGD_config_G_66050_257_retrained.pkl'...\n",
      "Loading parameters into the network...\n",
      "Model successfully loaded from 'saved_networks/20230815_EIANN_1_hidden_mnist_bpDale_softplus_SGD_config_G_66050_257_retrained.pkl'\n"
     ]
    }
   ],
   "source": [
    "# Load VanBP model\n",
    "config_path = \"../network_config/mnist/20231120_EIANN_1_hidden_mnist_van_bp_relu_SGD_config_G_optimized.yaml\"\n",
    "saved_network_path = \"../data/mnist/20231120_EIANN_1_hidden_mnist_van_bp_relu_SGD_config_G_66049_257.pkl\"\n",
    "bp_network = ut.build_EIANN_from_config(config_path, network_seed=66049)\n",
    "bp_network.load(saved_network_path)\n",
    "\n",
    "# Load (U)HebbWeightNorm model\n",
    "config_path = \"../network_config/mnist/20231025_EIANN_1_hidden_mnist_Gjorgjieva_Hebb_config_F_optimized.yaml\"\n",
    "saved_network_path = \"saved_networks/20231025_EIANN_1_hidden_mnist_Gjorgjieva_Hebb_config_F_66049_257_retrained.pkl\"\n",
    "ugj_network = ut.build_EIANN_from_config(config_path, network_seed=66049)\n",
    "ut.rename_population(ugj_network, 'I', 'SomaI')\n",
    "ugj_network.load(saved_network_path)\n",
    "\n",
    "# Load (S)HebbWeightNorm model\n",
    "config_path = \"../network_config/mnist/20231025_EIANN_1_hidden_mnist_Supervised_Gjorgjieva_Hebb_config_F_optimized.yaml\"\n",
    "saved_network_path = \"../data/mnist/20230505_EIANN_1_hidden_mnist_Supervised_Gjorgjieva_Hebb_config_F_66049_257.pkl\"\n",
    "gj_network = ut.build_EIANN_from_config(config_path, network_seed=66049)\n",
    "ut.rename_population(gj_network, 'I', 'SomaI')\n",
    "gj_network.load(saved_network_path)\n",
    "\n",
    "# Load bpDale (full) model\n",
    "config_path = \"../network_config/mnist/20231018_EIANN_1_hidden_mnist_bpDale_relu_SGD_config_G_optimized.yaml\"\n",
    "saved_network_path = \"saved_networks/20230815_EIANN_1_hidden_mnist_bpDale_softplus_SGD_config_G_66050_257_retrained.pkl\"\n",
    "bpDale_network = ut.build_EIANN_from_config(config_path, network_seed=66049)\n",
    "bpDale_network.load(saved_network_path)"
   ]
  },
  {
   "cell_type": "code",
   "execution_count": 38,
   "metadata": {},
   "outputs": [
    {
     "data": {
      "text/plain": [
       "Network(\n",
       "  (criterion): MSELoss()\n",
       "  (module_dict): ModuleDict(\n",
       "    (H1E_InputE): Projection(in_features=784, out_features=500, bias=False)\n",
       "    (H1E_H1SomaI): Projection(in_features=50, out_features=500, bias=False)\n",
       "    (H1SomaI_InputE): Projection(in_features=784, out_features=50, bias=False)\n",
       "    (H1SomaI_H1E): Projection(in_features=500, out_features=50, bias=False)\n",
       "    (H1SomaI_H1SomaI): Projection(in_features=50, out_features=50, bias=False)\n",
       "    (OutputE_H1E): Projection(in_features=500, out_features=10, bias=False)\n",
       "    (OutputE_OutputSomaI): Projection(in_features=10, out_features=10, bias=False)\n",
       "    (OutputSomaI_H1E): Projection(in_features=500, out_features=10, bias=False)\n",
       "    (OutputSomaI_OutputE): Projection(in_features=10, out_features=10, bias=False)\n",
       "    (OutputSomaI_OutputSomaI): Projection(in_features=10, out_features=10, bias=False)\n",
       "  )\n",
       "  (parameter_dict): ParameterDict(\n",
       "      (H1E_bias): Parameter containing: [torch.FloatTensor of size 500]\n",
       "      (H1SomaI_bias): Parameter containing: [torch.FloatTensor of size 50]\n",
       "      (OutputE_bias): Parameter containing: [torch.FloatTensor of size 10]\n",
       "      (OutputSomaI_bias): Parameter containing: [torch.FloatTensor of size 10]\n",
       "  )\n",
       ")"
      ]
     },
     "execution_count": 38,
     "metadata": {},
     "output_type": "execute_result"
    }
   ],
   "source": [
    "fig, ax = plt.subplots(1, 4, figsize=(20, 5))\n",
    "\n",
    "# Plot example receptive fields for each network\n",
    "# VanBP\n",
    "pt.plot_hidden_weights(bp_network.module_dict['H1E_InputE'].weight, sort=True, max_units=10, ax=ax[0])"
   ]
  },
  {
   "cell_type": "code",
   "execution_count": null,
   "metadata": {},
   "outputs": [],
   "source": []
  },
  {
   "cell_type": "code",
   "execution_count": null,
   "metadata": {},
   "outputs": [],
   "source": []
  },
  {
   "cell_type": "code",
   "execution_count": 30,
   "metadata": {},
   "outputs": [
    {
     "name": "stdout",
     "output_type": "stream",
     "text": [
      "module_dict.H1E_InputE.weight\n",
      "module_dict.H1E_H1SomaI.weight\n",
      "module_dict.H1SomaI_InputE.weight\n",
      "module_dict.H1SomaI_H1E.weight\n",
      "module_dict.H1SomaI_H1SomaI.weight\n",
      "module_dict.OutputE_H1E.weight\n",
      "module_dict.OutputE_OutputSomaI.weight\n",
      "module_dict.OutputSomaI_H1E.weight\n",
      "module_dict.OutputSomaI_OutputE.weight\n",
      "module_dict.OutputSomaI_OutputSomaI.weight\n",
      "parameter_dict.H1E_bias\n",
      "parameter_dict.H1SomaI_bias\n",
      "parameter_dict.OutputE_bias\n",
      "parameter_dict.OutputSomaI_bias\n"
     ]
    }
   ],
   "source": [
    "for i in bpDale_network.state_dict().keys():\n",
    "    print(i)"
   ]
  },
  {
   "cell_type": "code",
   "execution_count": 18,
   "metadata": {},
   "outputs": [
    {
     "data": {
      "text/plain": [
       "odict_keys(['module_dict.H1E_InputE.weight', 'module_dict.OutputE_H1E.weight', 'projections.H1E_InputE.weight', 'projections.OutputE_H1E.weight', 'parameter_dict.H1E_bias', 'parameter_dict.OutputE_bias'])"
      ]
     },
     "execution_count": 18,
     "metadata": {},
     "output_type": "execute_result"
    }
   ],
   "source": [
    "bp_network.state_dict().keys()"
   ]
  },
  {
   "cell_type": "code",
   "execution_count": null,
   "metadata": {},
   "outputs": [],
   "source": []
  },
  {
   "cell_type": "code",
   "execution_count": null,
   "metadata": {},
   "outputs": [],
   "source": []
  },
  {
   "cell_type": "code",
   "execution_count": null,
   "metadata": {},
   "outputs": [],
   "source": []
  },
  {
   "cell_type": "markdown",
   "metadata": {},
   "source": [
    "## Figure 2. Comparison with fixed I weights (only learn E)\n",
    "\n",
    "### Dale BP  **|**  Top-layer sup. HebbWeightNorm  **|**  unsup. BCM  **|**  Top-layer sup. BCM "
   ]
  },
  {
   "cell_type": "code",
   "execution_count": null,
   "metadata": {},
   "outputs": [],
   "source": []
  },
  {
   "cell_type": "markdown",
   "metadata": {},
   "source": [
    "## Figure 3. \n",
    "\n",
    "### BP-like-1 (perfect dendI subtraction)  **|**  BP-like-2 (learned dendI)  **|**  Hebb (?)  **|**  BCM (?)"
   ]
  },
  {
   "cell_type": "code",
   "execution_count": null,
   "metadata": {},
   "outputs": [],
   "source": []
  },
  {
   "cell_type": "markdown",
   "metadata": {},
   "source": [
    "## Figure 4. BTSP variants\n",
    "\n",
    "### BTSP (Burstprop-like with multiplexing) **|**"
   ]
  },
  {
   "cell_type": "code",
   "execution_count": null,
   "metadata": {},
   "outputs": [],
   "source": []
  }
 ],
 "metadata": {
  "kernelspec": {
   "display_name": "base",
   "language": "python",
   "name": "python3"
  },
  "language_info": {
   "codemirror_mode": {
    "name": "ipython",
    "version": 3
   },
   "file_extension": ".py",
   "mimetype": "text/x-python",
   "name": "python",
   "nbconvert_exporter": "python",
   "pygments_lexer": "ipython3",
   "version": "3.8.5"
  }
 },
 "nbformat": 4,
 "nbformat_minor": 2
}
