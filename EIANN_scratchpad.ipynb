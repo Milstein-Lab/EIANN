{
 "cells": [
  {
   "cell_type": "code",
   "execution_count": 1,
   "metadata": {
    "pycharm": {
     "name": "#%%\n"
    }
   },
   "outputs": [],
   "source": [
    "%matplotlib notebook\n",
    "from EIANN_utils import *\n",
    "import matplotlib.pyplot as plt\n",
    "plt.rcParams.update({'font.size': 15})"
   ]
  },
  {
   "cell_type": "code",
   "execution_count": null,
   "outputs": [],
   "source": [
    "n_hot_patterns(n=2,length=7).shape"
   ],
   "metadata": {
    "collapsed": false,
    "pycharm": {
     "name": "#%%\n"
    }
   }
  },
  {
   "cell_type": "code",
   "execution_count": null,
   "outputs": [],
   "source": [
    "# Initialize RNN\n",
    "input_size = 7\n",
    "output_size = n_choose_k(7,2)\n",
    "fbi_size = 1\n",
    "tau = 3\n",
    "forward_steps = 10\n",
    "backward_steps = 1\n",
    "seed = 42\n",
    "\n",
    "model = FBI_RNN(input_size, output_size, fbi_size, tau, forward_steps, backward_steps, seed)\n",
    "\n",
    "# Train network\n",
    "num_epochs = 300\n",
    "lr = 0.01\n",
    "\n",
    "all_patterns = n_hot_patterns(n=2,length=input_size)\n",
    "\n",
    "model.forward(all_patterns[0,:], store_history=True)\n",
    "\n",
    "plt.figure()\n",
    "plt.imshow(model.layers['Output'].populations['E'].projections['Input']['Input'].weights)\n",
    "\n",
    "plt.show()"
   ],
   "metadata": {
    "collapsed": false,
    "pycharm": {
     "name": "#%%\n"
    }
   }
  },
  {
   "cell_type": "code",
   "execution_count": null,
   "outputs": [],
   "source": [
    "# Initialize RNN\n",
    "input_size = 7\n",
    "output_size = n_choose_k(7,2)\n",
    "fbi_size = 7\n",
    "tau = 3\n",
    "\n",
    "model = FBI_RNN(input_size, output_size, fbi_size, tau, seed=100)\n",
    "\n",
    "# Train network\n",
    "num_epochs = 300\n",
    "num_timesteps = 10\n",
    "eval_step = 9\n",
    "num_BPTT_steps = 0 #how many steps in the past to backpropagate the error\n",
    "lr = 0.01\n",
    "\n",
    "all_patterns = n_hot_patterns(n=2,length=input_size)\n",
    "\n",
    "model.forward(all_patterns[:,0], num_timesteps, num_BPTT_steps, all_patterns, lr)\n",
    "\n",
    "plt.figure()\n",
    "plt.imshow(model.layers['Output'].populations['E'].projections['Input']['Input'].weights)\n",
    "\n",
    "plt.show()"
   ],
   "metadata": {
    "collapsed": false,
    "pycharm": {
     "name": "#%%\n"
    }
   }
  },
  {
   "cell_type": "code",
   "execution_count": 4,
   "metadata": {},
   "outputs": [
    {
     "ename": "TypeError",
     "evalue": "__init__() got an unexpected keyword argument 'requires_grad'",
     "output_type": "error",
     "traceback": [
      "\u001B[0;31m---------------------------------------------------------------------------\u001B[0m",
      "\u001B[0;31mTypeError\u001B[0m                                 Traceback (most recent call last)",
      "\u001B[0;32m<ipython-input-4-d1ba30c90680>\u001B[0m in \u001B[0;36m<module>\u001B[0;34m\u001B[0m\n\u001B[1;32m      8\u001B[0m \u001B[0mseed\u001B[0m \u001B[0;34m=\u001B[0m \u001B[0;36m42\u001B[0m\u001B[0;34m\u001B[0m\u001B[0;34m\u001B[0m\u001B[0m\n\u001B[1;32m      9\u001B[0m \u001B[0;34m\u001B[0m\u001B[0m\n\u001B[0;32m---> 10\u001B[0;31m \u001B[0mmodel\u001B[0m \u001B[0;34m=\u001B[0m \u001B[0mFBI_RNN\u001B[0m\u001B[0;34m(\u001B[0m\u001B[0minput_size\u001B[0m\u001B[0;34m,\u001B[0m \u001B[0moutput_size\u001B[0m\u001B[0;34m,\u001B[0m \u001B[0mfbi_size\u001B[0m\u001B[0;34m,\u001B[0m \u001B[0mtau\u001B[0m\u001B[0;34m,\u001B[0m \u001B[0mforward_steps\u001B[0m\u001B[0;34m,\u001B[0m \u001B[0mbackward_steps\u001B[0m\u001B[0;34m,\u001B[0m \u001B[0mseed\u001B[0m\u001B[0;34m)\u001B[0m\u001B[0;34m\u001B[0m\u001B[0;34m\u001B[0m\u001B[0m\n\u001B[0m\u001B[1;32m     11\u001B[0m \u001B[0;34m\u001B[0m\u001B[0m\n\u001B[1;32m     12\u001B[0m \u001B[0;31m# Train network\u001B[0m\u001B[0;34m\u001B[0m\u001B[0;34m\u001B[0m\u001B[0;34m\u001B[0m\u001B[0m\n",
      "\u001B[0;32m~/src/dentate_circuit_learning/EIANN_utils.py\u001B[0m in \u001B[0;36m__init__\u001B[0;34m(self, input_size, output_size, fbi_size, tau, forward_steps, backward_steps, seed)\u001B[0m\n\u001B[1;32m    101\u001B[0m         \u001B[0moutput_layer\u001B[0m\u001B[0;34m.\u001B[0m\u001B[0mappend_population\u001B[0m\u001B[0;34m(\u001B[0m\u001B[0mFBI_pop\u001B[0m\u001B[0;34m)\u001B[0m\u001B[0;34m\u001B[0m\u001B[0;34m\u001B[0m\u001B[0m\n\u001B[1;32m    102\u001B[0m \u001B[0;34m\u001B[0m\u001B[0m\n\u001B[0;32m--> 103\u001B[0;31m         \u001B[0moutput_layer\u001B[0m\u001B[0;34m.\u001B[0m\u001B[0mpopulations\u001B[0m\u001B[0;34m[\u001B[0m\u001B[0;34m'E'\u001B[0m\u001B[0;34m]\u001B[0m\u001B[0;34m.\u001B[0m\u001B[0mappend_projection\u001B[0m\u001B[0;34m(\u001B[0m\u001B[0minput_layer\u001B[0m\u001B[0;34m.\u001B[0m\u001B[0mpopulations\u001B[0m\u001B[0;34m[\u001B[0m\u001B[0;34m'Input'\u001B[0m\u001B[0;34m]\u001B[0m\u001B[0;34m,\u001B[0m \u001B[0;34m'FF'\u001B[0m\u001B[0;34m,\u001B[0m \u001B[0;34m'backprop'\u001B[0m\u001B[0;34m,\u001B[0m \u001B[0;34m'uniform_'\u001B[0m\u001B[0;34m,\u001B[0m \u001B[0;34m(\u001B[0m\u001B[0;36m0\u001B[0m\u001B[0;34m,\u001B[0m \u001B[0;36m1\u001B[0m\u001B[0;34m)\u001B[0m\u001B[0;34m,\u001B[0m \u001B[0;34m(\u001B[0m\u001B[0;36m0\u001B[0m\u001B[0;34m,\u001B[0m \u001B[0;36m100\u001B[0m\u001B[0;34m)\u001B[0m\u001B[0;34m)\u001B[0m\u001B[0;34m\u001B[0m\u001B[0;34m\u001B[0m\u001B[0m\n\u001B[0m\u001B[1;32m    104\u001B[0m         \u001B[0moutput_layer\u001B[0m\u001B[0;34m.\u001B[0m\u001B[0mpopulations\u001B[0m\u001B[0;34m[\u001B[0m\u001B[0;34m'E'\u001B[0m\u001B[0;34m]\u001B[0m\u001B[0;34m.\u001B[0m\u001B[0mappend_projection\u001B[0m\u001B[0;34m(\u001B[0m\u001B[0moutput_layer\u001B[0m\u001B[0;34m.\u001B[0m\u001B[0mpopulations\u001B[0m\u001B[0;34m[\u001B[0m\u001B[0;34m'FBI'\u001B[0m\u001B[0;34m]\u001B[0m\u001B[0;34m,\u001B[0m \u001B[0;34m'FB'\u001B[0m\u001B[0;34m,\u001B[0m \u001B[0;34m'backprop'\u001B[0m\u001B[0;34m,\u001B[0m \u001B[0;34m'uniform_'\u001B[0m\u001B[0;34m,\u001B[0m \u001B[0;34m(\u001B[0m\u001B[0;34m-\u001B[0m\u001B[0;36m0.1\u001B[0m\u001B[0;34m,\u001B[0m \u001B[0;36m0\u001B[0m\u001B[0;34m)\u001B[0m\u001B[0;34m,\u001B[0m \u001B[0;34m(\u001B[0m\u001B[0;34m-\u001B[0m\u001B[0;36m100\u001B[0m\u001B[0;34m,\u001B[0m \u001B[0;36m0\u001B[0m\u001B[0;34m)\u001B[0m\u001B[0;34m)\u001B[0m\u001B[0;34m\u001B[0m\u001B[0;34m\u001B[0m\u001B[0m\n\u001B[1;32m    105\u001B[0m         \u001B[0moutput_layer\u001B[0m\u001B[0;34m.\u001B[0m\u001B[0mpopulations\u001B[0m\u001B[0;34m[\u001B[0m\u001B[0;34m'FBI'\u001B[0m\u001B[0;34m]\u001B[0m\u001B[0;34m.\u001B[0m\u001B[0mappend_projection\u001B[0m\u001B[0;34m(\u001B[0m\u001B[0moutput_layer\u001B[0m\u001B[0;34m.\u001B[0m\u001B[0mpopulations\u001B[0m\u001B[0;34m[\u001B[0m\u001B[0;34m'E'\u001B[0m\u001B[0;34m]\u001B[0m\u001B[0;34m,\u001B[0m \u001B[0;34m'FF'\u001B[0m\u001B[0;34m,\u001B[0m \u001B[0;34m'backprop'\u001B[0m\u001B[0;34m,\u001B[0m \u001B[0;34m'uniform_'\u001B[0m\u001B[0;34m,\u001B[0m \u001B[0;34m(\u001B[0m\u001B[0;36m0\u001B[0m\u001B[0;34m,\u001B[0m \u001B[0;36m1\u001B[0m\u001B[0;34m)\u001B[0m\u001B[0;34m,\u001B[0m \u001B[0;34m(\u001B[0m\u001B[0;36m0\u001B[0m\u001B[0;34m,\u001B[0m \u001B[0;36m100\u001B[0m\u001B[0;34m)\u001B[0m\u001B[0;34m)\u001B[0m\u001B[0;34m\u001B[0m\u001B[0;34m\u001B[0m\u001B[0m\n",
      "\u001B[0;32m~/src/dentate_circuit_learning/EIANN_utils.py\u001B[0m in \u001B[0;36mappend_projection\u001B[0;34m(self, pre_pop, direction, learning_rule, weight_init, weight_init_params, learning_rule_params, weight_bounds)\u001B[0m\n\u001B[1;32m     55\u001B[0m         \u001B[0;32mif\u001B[0m \u001B[0mpre_pop\u001B[0m\u001B[0;34m.\u001B[0m\u001B[0mlayer\u001B[0m\u001B[0;34m.\u001B[0m\u001B[0mname\u001B[0m \u001B[0;32mnot\u001B[0m \u001B[0;32min\u001B[0m \u001B[0mself\u001B[0m\u001B[0;34m.\u001B[0m\u001B[0mprojections\u001B[0m\u001B[0;34m:\u001B[0m\u001B[0;34m\u001B[0m\u001B[0;34m\u001B[0m\u001B[0m\n\u001B[1;32m     56\u001B[0m             \u001B[0mself\u001B[0m\u001B[0;34m.\u001B[0m\u001B[0mprojections\u001B[0m\u001B[0;34m[\u001B[0m\u001B[0mpre_pop\u001B[0m\u001B[0;34m.\u001B[0m\u001B[0mlayer\u001B[0m\u001B[0;34m.\u001B[0m\u001B[0mname\u001B[0m\u001B[0;34m]\u001B[0m \u001B[0;34m=\u001B[0m \u001B[0;34m{\u001B[0m\u001B[0;34m}\u001B[0m\u001B[0;34m\u001B[0m\u001B[0;34m\u001B[0m\u001B[0m\n\u001B[0;32m---> 57\u001B[0;31m         \u001B[0mprojection\u001B[0m \u001B[0;34m=\u001B[0m \u001B[0mnn\u001B[0m\u001B[0;34m.\u001B[0m\u001B[0mLinear\u001B[0m\u001B[0;34m(\u001B[0m\u001B[0mpre_pop\u001B[0m\u001B[0;34m.\u001B[0m\u001B[0msize\u001B[0m\u001B[0;34m,\u001B[0m \u001B[0mself\u001B[0m\u001B[0;34m.\u001B[0m\u001B[0msize\u001B[0m\u001B[0;34m,\u001B[0m \u001B[0mbias\u001B[0m\u001B[0;34m=\u001B[0m\u001B[0mbias\u001B[0m\u001B[0;34m,\u001B[0m \u001B[0mrequires_grad\u001B[0m\u001B[0;34m=\u001B[0m\u001B[0;32mFalse\u001B[0m\u001B[0;34m)\u001B[0m\u001B[0;34m\u001B[0m\u001B[0;34m\u001B[0m\u001B[0m\n\u001B[0m\u001B[1;32m     58\u001B[0m         \u001B[0;32mif\u001B[0m \u001B[0mdirection\u001B[0m \u001B[0;32mnot\u001B[0m \u001B[0;32min\u001B[0m \u001B[0;34m[\u001B[0m\u001B[0;34m'FF'\u001B[0m\u001B[0;34m,\u001B[0m \u001B[0;34m'FB'\u001B[0m\u001B[0;34m]\u001B[0m\u001B[0;34m:\u001B[0m\u001B[0;34m\u001B[0m\u001B[0;34m\u001B[0m\u001B[0m\n\u001B[1;32m     59\u001B[0m             \u001B[0;32mraise\u001B[0m \u001B[0mRuntimeError\u001B[0m\u001B[0;34m(\u001B[0m\u001B[0;34m'Population.append_projection: direction (%s) must be either FF or FB'\u001B[0m \u001B[0;34m%\u001B[0m \u001B[0mdirection\u001B[0m\u001B[0;34m)\u001B[0m\u001B[0;34m\u001B[0m\u001B[0;34m\u001B[0m\u001B[0m\n",
      "\u001B[0;31mTypeError\u001B[0m: __init__() got an unexpected keyword argument 'requires_grad'"
     ]
    }
   ],
   "source": [
    "# Initialize RNN\n",
    "input_size = 7\n",
    "output_size = n_choose_k(7,2)\n",
    "fbi_size = 1\n",
    "tau = 3\n",
    "forward_steps = 10\n",
    "backward_steps = 1\n",
    "seed = 42\n",
    "\n",
    "model = FBI_RNN(input_size, output_size, fbi_size, tau, forward_steps, backward_steps, seed)\n",
    "\n",
    "# Train network\n",
    "num_epochs = 300\n",
    "lr = 0.01\n",
    "\n",
    "all_patterns = n_hot_patterns(n=2,length=input_size)\n",
    "\n",
    "model.forward(all_patterns[0,:], store_history=True)\n",
    "\n",
    "plt.figure()\n",
    "plt.imshow(model.layers['Output'].populations['E'].projections['Input']['Input'].weights)\n",
    "\n",
    "plt.show()"
   ]
  },
  {
   "cell_type": "code",
   "execution_count": null,
   "metadata": {},
   "outputs": [],
   "source": [
    "# Initialize RNN\n",
    "input_size = 7\n",
    "output_size = n_choose_k(7,2)\n",
    "fbi_size = 7\n",
    "tau = 3\n",
    "\n",
    "model = FBI_RNN(input_size, output_size, fbi_size, tau, seed=100)\n",
    "\n",
    "# Train network\n",
    "num_epochs = 300\n",
    "num_timesteps = 10\n",
    "eval_step = 9\n",
    "num_BPTT_steps = 0 #how many steps in the past to backpropagate the error\n",
    "lr = 0.01\n",
    "\n",
    "all_patterns = n_hot_patterns(n=2,length=input_size)\n",
    "\n",
    "model.forward(all_patterns[:,0], num_timesteps, num_BPTT_steps, all_patterns, lr)\n",
    "\n",
    "plt.figure()\n",
    "plt.imshow(model.layers['Output'].populations['E'].projections['Input']['Input'].weights)\n",
    "\n",
    "plt.show()"
   ]
  },
  {
   "cell_type": "code",
   "execution_count": null,
   "metadata": {
    "pycharm": {
     "name": "#%%\n"
    }
   },
   "outputs": [],
   "source": [
    "epoch = -1\n",
    "time = eval_step\n",
    "\n",
    "fig, ax = plt.subplots(1,3,figsize=(15,4.5))\n",
    "axis = 0\n",
    "im = ax[axis].imshow(all_patterns.T,aspect='equal')\n",
    "plt.colorbar(im, ax=ax[axis])\n",
    "ax[axis].set_xlabel('pattern')\n",
    "ax[axis].set_ylabel('input unit')\n",
    "\n",
    "axis = 1\n",
    "im = ax[axis].imshow(output_history[:,time,:,epoch],aspect='equal')\n",
    "plt.colorbar(im, ax=ax[axis])\n",
    "ax[axis].set_xlabel('pattern')\n",
    "ax[axis].set_ylabel('output unit')\n",
    "\n",
    "axis = 2\n",
    "im = ax[axis].imshow(fbi_history[:,time,:,epoch],aspect='equal')\n",
    "plt.colorbar(im, ax=ax[axis])\n",
    "ax[axis].set_xlabel('pattern')\n",
    "ax[axis].set_ylabel('fbi unit')\n",
    "\n",
    "plt.suptitle(\"Unit activities\",fontsize=20)\n",
    "plt.tight_layout()\n",
    "plt.show()"
   ]
  },
  {
   "cell_type": "code",
   "execution_count": null,
   "metadata": {
    "pycharm": {
     "name": "#%%\n"
    }
   },
   "outputs": [],
   "source": [
    "model.layers['out']['in'].direction"
   ]
  },
  {
   "cell_type": "code",
   "execution_count": null,
   "metadata": {
    "pycharm": {
     "name": "#%%\n"
    }
   },
   "outputs": [],
   "source": []
  },
  {
   "cell_type": "code",
   "execution_count": null,
   "metadata": {
    "pycharm": {
     "name": "#%%\n"
    }
   },
   "outputs": [],
   "source": [
    "import ipywidgets as widgets\n",
    "\n",
    "def plot_activity(time):\n",
    "    epoch = -1\n",
    "\n",
    "    fig, ax = plt.subplots(1,3,figsize=(15,4.5))\n",
    "    axis = 0\n",
    "    im = ax[axis].imshow(all_patterns.T,aspect='equal')\n",
    "    plt.colorbar(im, ax=ax[axis])\n",
    "    ax[axis].set_xlabel('pattern')\n",
    "    ax[axis].set_ylabel('input unit')\n",
    "\n",
    "    axis = 1\n",
    "    im = ax[axis].imshow(output_history[:,time,:,epoch],aspect='equal',vmin=0)\n",
    "    plt.colorbar(im, ax=ax[axis])\n",
    "    ax[axis].set_xlabel('pattern')\n",
    "    ax[axis].set_ylabel('output unit')\n",
    "\n",
    "    axis = 2\n",
    "    im = ax[axis].imshow(fbi_history[:,time,:,epoch],aspect='equal',vmin=0)\n",
    "    plt.colorbar(im, ax=ax[axis])\n",
    "    ax[axis].set_xlabel('pattern')\n",
    "    ax[axis].set_ylabel('fbi unit')\n",
    "\n",
    "    plt.suptitle(\"Unit activities\",fontsize=20)\n",
    "    plt.tight_layout()\n",
    "    plt.show()\n",
    "\n",
    "widgets.interact(plot_activity, time=(0,num_timesteps-1,1));\n",
    "# widgets.interact(plot_activity, epoch=widgets.Play(min=1,max=80));"
   ]
  },
  {
   "cell_type": "code",
   "execution_count": null,
   "metadata": {
    "pycharm": {
     "name": "#%%\n"
    },
    "scrolled": true
   },
   "outputs": [],
   "source": [
    "import ipywidgets as widgets\n",
    "\n",
    "def plot_activity(epoch):\n",
    "    epoch = epoch*10\n",
    "    time = -1\n",
    "\n",
    "    fig, ax = plt.subplots(1,3,figsize=(15,4.5))\n",
    "    axis = 0\n",
    "    im = ax[axis].imshow(all_patterns.T,aspect='equal')\n",
    "    plt.colorbar(im, ax=ax[axis])\n",
    "    ax[axis].set_xlabel('pattern')\n",
    "    ax[axis].set_ylabel('input unit')\n",
    "\n",
    "    axis = 1\n",
    "    im = ax[axis].imshow(output_history[:,time,:,epoch],aspect='equal',vmax=1,vmin=0)\n",
    "    plt.colorbar(im, ax=ax[axis])\n",
    "    ax[axis].set_xlabel('pattern')\n",
    "    ax[axis].set_ylabel('output unit')\n",
    "\n",
    "    axis = 2\n",
    "    im = ax[axis].imshow(fbi_history[:,time,:,epoch],aspect='equal',vmax=1.8,vmin=0)\n",
    "    plt.colorbar(im, ax=ax[axis])\n",
    "    ax[axis].set_xlabel('pattern')\n",
    "    ax[axis].set_ylabel('fbi unit')\n",
    "\n",
    "    plt.suptitle(\"Unit activities\",fontsize=20)\n",
    "    plt.tight_layout()\n",
    "    plt.show()\n",
    "\n",
    "widgets.interact(plot_activity, epoch=(0,99,1));\n",
    "# widgets.interact(plot_activity, epoch=widgets.Play(min=1,max=80));"
   ]
  },
  {
   "cell_type": "code",
   "execution_count": null,
   "metadata": {
    "pycharm": {
     "name": "#%%\n"
    }
   },
   "outputs": [],
   "source": [
    "fix, ax = plt.subplots(1,2,figsize=(15,4.5))\n",
    "for i,_ in enumerate(all_patterns):\n",
    "    ax[0].plot(torch.mean(output_history[i,:,:,epoch],axis=1),color='gray',alpha=0.3)\n",
    "ax[0].set_xlabel('timestep')\n",
    "ax[0].set_ylabel('unit activity')\n",
    "ax[0].set_title('Output units')\n",
    "\n",
    "for i in range(fbi_size):\n",
    "    ax[1].plot(torch.mean(fbi_history[i,:,:,epoch],axis=1),color='gray',alpha=0.5)\n",
    "ax[1].set_xlabel('timestep')\n",
    "ax[1].set_title('FBI units')  \n",
    "    \n",
    "plt.suptitle('Unit dynamics over RNN steps',fontsize=20)\n",
    "\n",
    "sns.despine()\n",
    "plt.tight_layout()\n",
    "plt.show()"
   ]
  },
  {
   "cell_type": "code",
   "execution_count": null,
   "metadata": {
    "pycharm": {
     "name": "#%%\n"
    }
   },
   "outputs": [],
   "source": [
    "import ipywidgets as widgets\n",
    "\n",
    "def plot_oscillation(epoch):\n",
    "    \n",
    "    epoch = epoch*10\n",
    "    \n",
    "    fix, ax = plt.subplots(1,2,figsize=(15,4.5))\n",
    "    for i,_ in enumerate(all_patterns):\n",
    "        ax[0].plot(torch.mean(output_history[i,:,:,epoch],axis=1),color='gray',alpha=0.3)\n",
    "    ax[0].set_xlabel('timestep')\n",
    "    ax[0].set_ylabel('unit activity')\n",
    "    ax[0].set_title('Output units')\n",
    "    ax[0].set_ylim([0,1.4])\n",
    "\n",
    "    for i in range(fbi_size):\n",
    "        ax[1].plot(torch.mean(fbi_history[i,:,:,epoch],axis=1),color='gray',alpha=0.5)\n",
    "    ax[1].set_xlabel('timestep')\n",
    "    ax[1].set_title('FBI units')  \n",
    "    ax[1].set_ylim([0,14])\n",
    "\n",
    "    plt.suptitle('Unit dynamics over RNN steps',fontsize=20)\n",
    "\n",
    "    sns.despine()\n",
    "    plt.tight_layout()\n",
    "    plt.show()\n",
    "\n",
    "widgets.interact(plot_oscillation, epoch=(0,49,1));\n",
    "# widgets.interact(plot_oscillation, epoch=widgets.Play(min=1,max=50));"
   ]
  },
  {
   "cell_type": "code",
   "execution_count": null,
   "metadata": {
    "pycharm": {
     "name": "#%%\n"
    }
   },
   "outputs": [],
   "source": [
    "fig, ax = plt.subplots(1,3,figsize=(10,5))\n",
    "\n",
    "axis = 0\n",
    "im = ax[axis].imshow(model.in2out.weight.data,aspect='equal',cmap='Reds')\n",
    "plt.colorbar(im, ax=ax[axis])\n",
    "ax[axis].set_xlabel('input unit')\n",
    "ax[axis].set_ylabel('output unit')\n",
    "ax[axis].set_title('in2out',fontsize=15)\n",
    "\n",
    "axis = 1\n",
    "im = ax[axis].imshow(model.out2fbi.weight.data.T,aspect='equal',cmap='Reds')\n",
    "plt.colorbar(im, ax=ax[axis])\n",
    "ax[axis].set_ylabel('output unit')\n",
    "ax[axis].set_xlabel('fbi unit')\n",
    "ax[axis].set_title('out2fbi',fontsize=15)\n",
    "\n",
    "axis = 2\n",
    "im = ax[axis].imshow(model.fbi2out.weight.data,aspect='equal',cmap='Blues_r')\n",
    "plt.colorbar(im, ax=ax[axis])\n",
    "ax[axis].set_xlabel('fbi unit')\n",
    "ax[axis].set_ylabel('output unit')\n",
    "ax[axis].set_title('fbi2out',fontsize=15)\n",
    "\n",
    "plt.suptitle(\"Weights\",fontsize=20)\n",
    "plt.tight_layout()\n",
    "plt.show()"
   ]
  },
  {
   "cell_type": "code",
   "execution_count": null,
   "metadata": {
    "pycharm": {
     "name": "#%%\n"
    }
   },
   "outputs": [],
   "source": [
    "from scipy import stats\n",
    "# plt.imshow(model.out2fbi.weight.data.T,aspect='equal',cmap='Reds')\n",
    "# plt.imshow(model.fbi2out.weight.data,aspect='equal',cmap='Blues_r')\n",
    "\n",
    "x = model.out2fbi.weight.data.T.flatten()\n",
    "y = model.fbi2out.weight.data.flatten()\n",
    "\n",
    "plt.scatter(x,y)\n",
    "plt.xlabel('out2fbi weights')\n",
    "plt.ylabel('fbi2out weights')\n",
    "\n",
    "\n",
    "\n",
    "m, b = np.polyfit(x, y, 1)\n",
    "x_fit = np.linspace(-0.1,1.5,2)\n",
    "y_fit = m*x_fit + b\n",
    "plt.plot(x_fit, y_fit, c='red')\n",
    "# print('Linear regression: y = {} x + {}'.format(m,b))\n",
    "\n",
    "plt.title(f\"T={num_timesteps}, BPTT={num_BPTT_steps}\")\n",
    "\n",
    "sns.despine()\n",
    "plt.show()\n",
    "\n",
    "r_val, p_val = stats.pearsonr(x, y)\n",
    "print('Pearson correlation: r={}, r^2={}, p={}'.format(r_val,r_val**2,p_val))"
   ]
  },
  {
   "cell_type": "code",
   "execution_count": null,
   "metadata": {
    "pycharm": {
     "name": "#%%\n"
    }
   },
   "outputs": [],
   "source": []
  }
 ],
 "metadata": {
  "kernelspec": {
   "display_name": "Python 3",
   "language": "python",
   "name": "python3"
  },
  "language_info": {
   "codemirror_mode": {
    "name": "ipython",
    "version": 3
   },
   "file_extension": ".py",
   "mimetype": "text/x-python",
   "name": "python",
   "nbconvert_exporter": "python",
   "pygments_lexer": "ipython3",
   "version": "3.7.13"
  }
 },
 "nbformat": 4,
 "nbformat_minor": 4
}