{
 "cells": [
  {
   "cell_type": "markdown",
   "id": "eb44cf31",
   "metadata": {},
   "source": [
    "# EIANN Tutorial 1"
   ]
  },
  {
   "cell_type": "code",
   "execution_count": 29,
   "id": "bc94c787",
   "metadata": {
    "tags": [
     "collapse-input",
     "hide-output"
    ]
   },
   "outputs": [
    {
     "name": "stdout",
     "output_type": "stream",
     "text": [
      "The autoreload extension is already loaded. To reload it, use:\n",
      "  %reload_ext autoreload\n"
     ]
    }
   ],
   "source": [
    "import torch\n",
    "import torchvision\n",
    "import torchvision.transforms as T\n",
    "import numpy as np\n",
    "import matplotlib.pyplot as plt\n",
    "\n",
    "# from EIANN._network import Network\n",
    "import EIANN as eiann\n",
    "import EIANN.utils as ut\n",
    "import EIANN.plot as pt\n",
    "\n",
    "pt.update_plot_defaults()\n",
    "%load_ext autoreload\n",
    "%autoreload 2"
   ]
  },
  {
   "cell_type": "markdown",
   "id": "8fa349b9",
   "metadata": {},
   "source": [
    "## 1. Load MNIST data"
   ]
  },
  {
   "cell_type": "code",
   "execution_count": 30,
   "id": "bf8a1fda",
   "metadata": {},
   "outputs": [],
   "source": [
    "# Load dataset\n",
    "tensor_flatten = T.Compose([T.ToTensor(), T.Lambda(torch.flatten)])\n",
    "MNIST_train_dataset = torchvision.datasets.MNIST(root='../EIANN/data/mnist/datasets/MNIST_data/', train=True, download=True,\n",
    "                                         transform=tensor_flatten)\n",
    "MNIST_test_dataset = torchvision.datasets.MNIST(root='../EIANN/data/mnist/datasets/MNIST_data/',\n",
    "                                        train=False, download=True, transform=tensor_flatten)\n",
    "\n",
    "# Add index to train & test data\n",
    "MNIST_train = []\n",
    "for idx,(data,target) in enumerate(MNIST_train_dataset):\n",
    "    target = torch.eye(len(MNIST_train_dataset.classes))[target]\n",
    "    MNIST_train.append((idx, data, target))\n",
    "    \n",
    "MNIST_test = []\n",
    "for idx,(data,target) in enumerate(MNIST_test_dataset):\n",
    "    target = torch.eye(len(MNIST_test_dataset.classes))[target]\n",
    "    MNIST_test.append((idx, data, target))\n",
    "    \n",
    "# Put data in dataloader\n",
    "data_generator = torch.Generator()\n",
    "train_dataloader = torch.utils.data.DataLoader(MNIST_train[0:50000], shuffle=True, generator=data_generator)\n",
    "val_dataloader = torch.utils.data.DataLoader(MNIST_train[-10000:], batch_size=10000, shuffle=False)\n",
    "test_dataloader = torch.utils.data.DataLoader(MNIST_test, batch_size=10000, shuffle=False)"
   ]
  },
  {
   "cell_type": "markdown",
   "id": "2c6b27aa",
   "metadata": {},
   "source": [
    "### 2.2. YAML interface"
   ]
  },
  {
   "cell_type": "markdown",
   "id": "83fbbc1a",
   "metadata": {},
   "source": [
    "For more complex networks, combining multiple different learning rules with customized hyperparameters, we can also specify everything in .yaml configuration file"
   ]
  },
  {
   "cell_type": "code",
   "execution_count": null,
   "id": "4fd30995",
   "metadata": {},
   "outputs": [],
   "source": [
    "network_name = \"20231129_EIANN_2_hidden_mnist_van_bp_relu_SGD_config_G_complete_optimized\"                          # Feedforward ANN (Backprop)\n",
    "config_path = f\"../EIANN/network_config/mnist/{network_name}.yaml\"\n",
    "\n",
    "# # Optional: Load network object from pickle file\n",
    "# saved_network_path = f\"../saved_networks/mnist/{network_name}.pkl\"\n",
    "# network = ut.load_network(saved_network_path)"
   ]
  },
  {
   "cell_type": "code",
   "execution_count": null,
   "id": "cfeacb6c",
   "metadata": {},
   "outputs": [],
   "source": []
  },
  {
   "cell_type": "code",
   "execution_count": null,
   "id": "66139c83",
   "metadata": {},
   "outputs": [],
   "source": []
  },
  {
   "cell_type": "code",
   "execution_count": null,
   "id": "3c55dc28",
   "metadata": {},
   "outputs": [],
   "source": []
  }
 ],
 "metadata": {
  "kernelspec": {
   "display_name": "eiann",
   "language": "python",
   "name": "python3"
  },
  "language_info": {
   "codemirror_mode": {
    "name": "ipython",
    "version": 3
   },
   "file_extension": ".py",
   "mimetype": "text/x-python",
   "name": "python",
   "nbconvert_exporter": "python",
   "pygments_lexer": "ipython3",
   "version": "3.11.9"
  }
 },
 "nbformat": 4,
 "nbformat_minor": 5
}
