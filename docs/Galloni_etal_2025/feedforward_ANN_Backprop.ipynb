{
 "cells": [
  {
   "cell_type": "markdown",
   "metadata": {},
   "source": [
    "# Feedforward ANN (Backprop)"
   ]
  },
  {
   "cell_type": "markdown",
   "metadata": {},
   "source": [
    "Here we will show the analysis for a single example seed of a network described in [Galloni et al. 2025.](https://www.biorxiv.org/content/10.1101/2025.05.22.655599v2)"
   ]
  },
  {
   "cell_type": "code",
   "execution_count": 1,
   "metadata": {
    "tags": [
     "hide-output"
    ]
   },
   "outputs": [
    {
     "name": "stderr",
     "output_type": "stream",
     "text": [
      "/Users/ag1880/github-repos/Milstein-Lab/EIANN/EIANN/utils/data_utils.py:6: TqdmExperimentalWarning: Using `tqdm.autonotebook.tqdm` in notebook mode. Use `tqdm.tqdm` instead to force console mode (e.g. in jupyter console)\n",
      "  from tqdm.autonotebook import tqdm\n"
     ]
    }
   ],
   "source": [
    "import EIANN.EIANN as eiann\n",
    "from EIANN import utils as ut\n",
    "eiann.plot.update_plot_defaults()\n",
    "root_dir = ut.get_project_root()"
   ]
  },
  {
   "cell_type": "code",
   "execution_count": 2,
   "metadata": {},
   "outputs": [],
   "source": [
    "train_dataloader, val_dataloader, test_dataloader, data_generator = ut.get_MNIST_dataloaders()"
   ]
  },
  {
   "cell_type": "code",
   "execution_count": 3,
   "metadata": {},
   "outputs": [],
   "source": [
    "network_name = \"20231129_EIANN_2_hidden_mnist_van_bp_relu_SGD_config_G_complete_optimized\"\n",
    "network_seed = 66049\n",
    "data_seed = 257"
   ]
  },
  {
   "cell_type": "markdown",
   "metadata": {},
   "source": [
    "If you want to train this network configuration from scratch, you can build a new network object directly from the .yaml configuration file and then train it:"
   ]
  },
  {
   "cell_type": "markdown",
   "metadata": {},
   "source": [
    "```python\n",
    "# Create network object\n",
    "config_file_path = f\"../network_config/mnist/{network_name}.yaml\"\n",
    "network = ut.build_EIANN_from_config(config_file_path, network_seed=network_seed)\n",
    "\n",
    "# Train network\n",
    "data_generator.manual_seed(data_seed)\n",
    "network.train(train_dataloader, val_dataloader, \n",
    "              epochs = 1,\n",
    "              samples_per_epoch = 20_000, \n",
    "              val_interval = (0, -1, 100), \n",
    "              store_history = True,\n",
    "              store_history_interval = (0, -1, 100), \n",
    "              store_dynamics = False, \n",
    "              store_params = True,\n",
    "              status_bar = True)\n",
    "\n",
    "# Optional: Save network object to pickle file\n",
    "saved_network_path = root_dir + f\"/EIANN/data/mnist/{network_name}_{network_seed}_{data_seed}.pkl\"\n",
    "ut.save_network(spiral_net, path=saved_network_path)\n"
   ]
  },
  {
   "cell_type": "markdown",
   "metadata": {},
   "source": [
    "In this case, since we have already trained the network, we will simply load the saved network object that is stored in a pickle (.pkl) file:"
   ]
  },
  {
   "cell_type": "code",
   "execution_count": 4,
   "metadata": {},
   "outputs": [
    {
     "name": "stdout",
     "output_type": "stream",
     "text": [
      "Loading network from '/Users/ag1880/github-repos/Milstein-Lab/EIANN/EIANN/data/saved_network_pickles/mnist/20231129_EIANN_2_hidden_mnist_van_bp_relu_SGD_config_G_complete_optimized_66049_257.pkl'\n",
      "Network successfully loaded from '/Users/ag1880/github-repos/Milstein-Lab/EIANN/EIANN/data/saved_network_pickles/mnist/20231129_EIANN_2_hidden_mnist_van_bp_relu_SGD_config_G_complete_optimized_66049_257.pkl'\n"
     ]
    }
   ],
   "source": [
    "saved_network_path = root_dir + f\"/EIANN/data/saved_network_pickles/mnist/{network_name}_{network_seed}_{data_seed}.pkl\"\n",
    "network = ut.load_network(saved_network_path)"
   ]
  }
 ],
 "metadata": {
  "kernelspec": {
   "display_name": "eiann",
   "language": "python",
   "name": "python3"
  },
  "language_info": {
   "codemirror_mode": {
    "name": "ipython",
    "version": 3
   },
   "file_extension": ".py",
   "mimetype": "text/x-python",
   "name": "python",
   "nbconvert_exporter": "python",
   "pygments_lexer": "ipython3",
   "version": "3.11.9"
  }
 },
 "nbformat": 4,
 "nbformat_minor": 4
}
